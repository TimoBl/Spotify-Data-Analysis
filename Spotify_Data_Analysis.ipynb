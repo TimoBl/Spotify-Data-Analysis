{
  "nbformat": 4,
  "nbformat_minor": 0,
  "metadata": {
    "colab": {
      "name": "Spotify Data Analysis.ipynb",
      "provenance": [],
      "collapsed_sections": []
    },
    "kernelspec": {
      "name": "python3",
      "display_name": "Python 3"
    },
    "language_info": {
      "name": "python"
    }
  },
  "cells": [
    {
      "cell_type": "code",
      "metadata": {
        "id": "ZbYYpXSmUYD3"
      },
      "source": [
        "pip install spotipy"
      ],
      "execution_count": null,
      "outputs": []
    },
    {
      "cell_type": "markdown",
      "metadata": {
        "id": "kIuDnd5FvbxH"
      },
      "source": [
        "# Playlist Analysis"
      ]
    },
    {
      "cell_type": "code",
      "metadata": {
        "id": "TsVWl4dSUhyr"
      },
      "source": [
        "import spotipy\n",
        "from spotipy.oauth2 import SpotifyClientCredentials\n",
        "\n",
        "id = '627414d9842a40a9941c69152d1ef5d4'\n",
        "secret = '9b1249549b214a9e9bd26f45cda8f44a'\n",
        "\n",
        "auth_manager = SpotifyClientCredentials(client_id=id, client_secret=secret)\n",
        "sp = spotipy.Spotify(auth_manager=auth_manager)"
      ],
      "execution_count": null,
      "outputs": []
    },
    {
      "cell_type": "code",
      "metadata": {
        "id": "9disjEfJkMB0"
      },
      "source": [
        "def get_playlist_tracks(username, playlist_id):\n",
        "  results = sp.user_playlist_tracks(username, playlist_id)\n",
        "  tracks = results['items']\n",
        "  while results['next']:\n",
        "    results = sp.next(results)\n",
        "    tracks.extend(results['items'])\n",
        "  return tracks\n",
        "\n",
        "tracks = get_playlist_tracks(\"timo1701\", \"09PpyE5sNUzEduVcpFyjwH\")"
      ],
      "execution_count": null,
      "outputs": []
    },
    {
      "cell_type": "code",
      "metadata": {
        "id": "Hx3Ek5B9l8vX"
      },
      "source": [
        "def get_tracks_features(tracks):\n",
        "  features = []\n",
        "\n",
        "  for i, t in enumerate(tracks):\n",
        "    id = t[\"track\"][\"id\"]\n",
        "    feature = sp.audio_features(id)\n",
        "    features.extend(feature)\n",
        "\n",
        "    if i%100  == 0:\n",
        "      print(i)\n",
        "\n",
        "  return features\n",
        "\n",
        "features = get_tracks_features(tracks)"
      ],
      "execution_count": null,
      "outputs": []
    },
    {
      "cell_type": "markdown",
      "metadata": {
        "id": "EJ8ukPn1b1Qg"
      },
      "source": [
        "Let's save those information."
      ]
    },
    {
      "cell_type": "code",
      "metadata": {
        "id": "ysTlM-URb4Dy"
      },
      "source": [
        "import json\n",
        "\n",
        "def save_features(name, features):\n",
        "  with open(name + \".json\", 'w', encoding='utf-8') as file:\n",
        "    json.dump(features, file)\n",
        "\n",
        "def load_features(name):\n",
        "  with open(name + \".json\", \"r\") as file:\n",
        "    features = json.load(file)\n",
        "  return features"
      ],
      "execution_count": null,
      "outputs": []
    },
    {
      "cell_type": "code",
      "metadata": {
        "id": "rH-rUIc2W-D6"
      },
      "source": [
        "import matplotlib.pyplot as plt\n",
        "\n",
        "def feature_hist(ax, name, features, bins):\n",
        "  feature = [item[name] for item in features]\n",
        "  ax.hist(feature, bins=bins)\n",
        "  ax.title.set_text(name)\n",
        "\n",
        "fig, axs = plt.subplots(4, 2, figsize=(16, 16))\n",
        "\n",
        "'''\n",
        "feature_hist(axs[0, 0], \"danceability\", features, 30, (0.0, 1.0))\n",
        "feature_hist(axs[0, 1], \"energy\", features, 30, (0.0, 1.0))\n",
        "\n",
        "feature_hist(axs[1, 0], \"loudness\", features, 30, (0.0, 1.0))\n",
        "feature_hist(axs[1, 1], \"speechiness\", features, 30, (0.0, 1.0))\n",
        "\n",
        "feature_hist(axs[2, 0], \"acousticness\", features, 30)\n",
        "feature_hist(axs[2, 1], \"instrumentalness\", features, 30)\n",
        "\n",
        "feature_hist(axs[3, 0], \"liveness\", features, 30)\n",
        "feature_hist(axs[3, 1], \"valence\", features, 30)\n",
        "'''"
      ],
      "execution_count": null,
      "outputs": []
    },
    {
      "cell_type": "markdown",
      "metadata": {
        "id": "gYF7GFIobYH0"
      },
      "source": [
        "So what does that learn us? Not much really, we need to compare to others playlists. Let's take those made by spotify."
      ]
    },
    {
      "cell_type": "code",
      "metadata": {
        "colab": {
          "base_uri": "https://localhost:8080/"
        },
        "id": "qpvAWLm6pKIx",
        "outputId": "d4f04ded-b2be-4ed7-e38f-1392a8e3cfbb"
      },
      "source": [
        "#classical enssentials\n",
        "classic_tracks = get_playlist_tracks(\"timo1701\", \"37i9dQZF1DWWEJlAGA9gs0\")\n",
        "classic_features = get_tracks_features(classic_tracks)"
      ],
      "execution_count": null,
      "outputs": [
        {
          "output_type": "stream",
          "text": [
            "0\n",
            "100\n"
          ],
          "name": "stdout"
        }
      ]
    },
    {
      "cell_type": "code",
      "metadata": {
        "colab": {
          "base_uri": "https://localhost:8080/"
        },
        "id": "qhQtnevypmYR",
        "outputId": "66833d9c-b487-4de0-bc7e-e03374c82b98"
      },
      "source": [
        "#rock classics\n",
        "rock_tracks = get_playlist_tracks(\"timo1701\", \"37i9dQZF1DWXRqgorJj26U\")\n",
        "rock_features = get_tracks_features(rock_tracks)"
      ],
      "execution_count": null,
      "outputs": [
        {
          "output_type": "stream",
          "text": [
            "0\n",
            "100\n"
          ],
          "name": "stdout"
        }
      ]
    },
    {
      "cell_type": "code",
      "metadata": {
        "colab": {
          "base_uri": "https://localhost:8080/"
        },
        "id": "8DVFEHeVp430",
        "outputId": "f26f4110-79db-4137-8813-4d952e8326fa"
      },
      "source": [
        "#heavy metal\n",
        "metal_tracks = get_playlist_tracks(\"timo1701\", \"37i9dQZF1DX9qNs32fujYe\")\n",
        "metal_features = get_tracks_features(metal_tracks)"
      ],
      "execution_count": null,
      "outputs": [
        {
          "output_type": "stream",
          "text": [
            "0\n",
            "100\n"
          ],
          "name": "stdout"
        }
      ]
    },
    {
      "cell_type": "code",
      "metadata": {
        "colab": {
          "base_uri": "https://localhost:8080/"
        },
        "id": "0ie2VvtNqMVD",
        "outputId": "ec0ed149-371c-4656-9d6e-fd568fad5ac4"
      },
      "source": [
        "#jazz classics\n",
        "jazz_tracks = get_playlist_tracks(\"timo1701\", \"37i9dQZF1DXbITWG1ZJKYt\")\n",
        "jazz_features = get_tracks_features(jazz_tracks)"
      ],
      "execution_count": null,
      "outputs": [
        {
          "output_type": "stream",
          "text": [
            "0\n",
            "100\n"
          ],
          "name": "stdout"
        }
      ]
    },
    {
      "cell_type": "code",
      "metadata": {
        "colab": {
          "base_uri": "https://localhost:8080/",
          "height": 484
        },
        "id": "rgLOHWQwqe8F",
        "outputId": "7443a1c1-53a7-4ced-c1e1-e049c53af56a"
      },
      "source": [
        "fig, ax = plt.subplot()\n",
        "\n",
        "feature_hist(ax, \"danceability\", classic_features, 10)\n",
        "feature_hist(ax, \"danceability\", rock_features, 10)\n",
        "feature_hist(ax, \"danceability\", metal_features, 10)\n",
        "feature_hist(ax, \"danceability\", jazz_features, 10)"
      ],
      "execution_count": null,
      "outputs": [
        {
          "output_type": "error",
          "ename": "TypeError",
          "evalue": "ignored",
          "traceback": [
            "\u001b[0;31m---------------------------------------------------------------------------\u001b[0m",
            "\u001b[0;31mTypeError\u001b[0m                                 Traceback (most recent call last)",
            "\u001b[0;32m<ipython-input-78-35b19d7cf00d>\u001b[0m in \u001b[0;36m<module>\u001b[0;34m()\u001b[0m\n\u001b[0;32m----> 1\u001b[0;31m \u001b[0mfig\u001b[0m\u001b[0;34m,\u001b[0m \u001b[0max\u001b[0m \u001b[0;34m=\u001b[0m \u001b[0mplt\u001b[0m\u001b[0;34m.\u001b[0m\u001b[0msubplot\u001b[0m\u001b[0;34m(\u001b[0m\u001b[0;34m)\u001b[0m\u001b[0;34m\u001b[0m\u001b[0;34m\u001b[0m\u001b[0m\n\u001b[0m\u001b[1;32m      2\u001b[0m \u001b[0;34m\u001b[0m\u001b[0m\n\u001b[1;32m      3\u001b[0m \u001b[0mfeature_hist\u001b[0m\u001b[0;34m(\u001b[0m\u001b[0max\u001b[0m\u001b[0;34m,\u001b[0m \u001b[0;34m\"danceability\"\u001b[0m\u001b[0;34m,\u001b[0m \u001b[0mclassic_features\u001b[0m\u001b[0;34m,\u001b[0m \u001b[0;36m10\u001b[0m\u001b[0;34m)\u001b[0m\u001b[0;34m\u001b[0m\u001b[0;34m\u001b[0m\u001b[0m\n\u001b[1;32m      4\u001b[0m \u001b[0mfeature_hist\u001b[0m\u001b[0;34m(\u001b[0m\u001b[0max\u001b[0m\u001b[0;34m,\u001b[0m \u001b[0;34m\"danceability\"\u001b[0m\u001b[0;34m,\u001b[0m \u001b[0mrock_features\u001b[0m\u001b[0;34m,\u001b[0m \u001b[0;36m10\u001b[0m\u001b[0;34m)\u001b[0m\u001b[0;34m\u001b[0m\u001b[0;34m\u001b[0m\u001b[0m\n\u001b[1;32m      5\u001b[0m \u001b[0mfeature_hist\u001b[0m\u001b[0;34m(\u001b[0m\u001b[0max\u001b[0m\u001b[0;34m,\u001b[0m \u001b[0;34m\"danceability\"\u001b[0m\u001b[0;34m,\u001b[0m \u001b[0mmetal_features\u001b[0m\u001b[0;34m,\u001b[0m \u001b[0;36m10\u001b[0m\u001b[0;34m)\u001b[0m\u001b[0;34m\u001b[0m\u001b[0;34m\u001b[0m\u001b[0m\n",
            "\u001b[0;31mTypeError\u001b[0m: cannot unpack non-iterable AxesSubplot object"
          ]
        },
        {
          "output_type": "display_data",
          "data": {
            "image/png": "[encoded data removed]",
            "text/plain": [
              "<Figure size 432x288 with 1 Axes>"
            ]
          },
          "metadata": {
            "tags": [],
            "needs_background": "light"
          }
        }
      ]
    },
    {
      "cell_type": "markdown",
      "metadata": {
        "id": "0SaVYinPvfHG"
      },
      "source": [
        "# Data Analysis"
      ]
    },
    {
      "cell_type": "code",
      "metadata": {
        "id": "QH1-km0-vjUm"
      },
      "source": [
        "import json\n",
        "import matplotlib.pyplot as plt\n",
        "import matplotlib.dates as mdates\n",
        "from datetime import datetime, timedelta\n",
        "\n",
        "def getData(path, n):\n",
        "  data = []\n",
        "  for i in range(n):\n",
        "    name = path + \"StreamingHistory\" + str(i) + \".json\"\n",
        "    with open(name) as f:\n",
        "      data += json.load(f)\n",
        "  return data\n",
        "\n",
        "def getTime(data):\n",
        "  time = []\n",
        "  for item in data:\n",
        "      t = item['endTime']\n",
        "      t = datetime.strptime(t, '%Y-%m-%d %H:%M')\n",
        "      time.append(t)\n",
        "  return time\n",
        "\n",
        "data = getData(\"/content/\", 5)\n",
        "time = getTime(data)"
      ],
      "execution_count": null,
      "outputs": []
    },
    {
      "cell_type": "code",
      "metadata": {
        "colab": {
          "base_uri": "https://localhost:8080/",
          "height": 483
        },
        "id": "MeLeOCHKv6_S",
        "outputId": "6a6180d5-3b5d-4dd4-b282-f8c9e8beaefb"
      },
      "source": [
        "def plotDailyStreamingHistory(time):\n",
        "  start = time[0]\n",
        "  end = time[-1]\n",
        "  delta = (end - start).days\n",
        "\n",
        "  # plot it\n",
        "  fig, ax = plt.subplots(figsize=(16, 8))\n",
        "  ax.hist(time, bins=delta)\n",
        "  locator = mdates.AutoDateLocator()\n",
        "  ax.xaxis.set_major_locator(locator)\n",
        "  ax.xaxis.set_major_formatter(mdates.AutoDateFormatter(locator))\n",
        "  plt.show()\n",
        "\n",
        "plotDailyStreamingHistory(time)"
      ],
      "execution_count": null,
      "outputs": [
        {
          "output_type": "display_data",
          "data": {
            "image/png": "[encoded data removed]",
            "text/plain": [
              "<Figure size 1152x576 with 1 Axes>"
            ]
          },
          "metadata": {
            "tags": [],
            "needs_background": "light"
          }
        }
      ]
    },
    {
      "cell_type": "code",
      "metadata": {
        "colab": {
          "base_uri": "https://localhost:8080/",
          "height": 483
        },
        "id": "L7OSqYS5D8u-",
        "outputId": "c0db6cc0-0261-4806-de40-4db2d84e19e1"
      },
      "source": [
        "def plotHourlyStreamingHistory(time):\n",
        "  hours = [0 for y in range(24)]\n",
        "  y = [y for y in range(24)]\n",
        "  \n",
        "  for t in time:\n",
        "    hours[t.hour] += 1\n",
        "  \n",
        "  fig, ax = plt.subplots(figsize=(16, 8))\n",
        "  ax.bar(y, hours)\n",
        "  plt.show()\n",
        "\n",
        "plotHourlyStreamingHistory(time)"
      ],
      "execution_count": null,
      "outputs": [
        {
          "output_type": "display_data",
          "data": {
            "image/png": "[encoded data removed]",
            "text/plain": [
              "<Figure size 1152x576 with 1 Axes>"
            ]
          },
          "metadata": {
            "tags": [],
            "needs_background": "light"
          }
        }
      ]
    },
    {
      "cell_type": "markdown",
      "metadata": {
        "id": "SrGn5pwHE_t8"
      },
      "source": [
        "Let's look at my most popular songs and many times I've played them."
      ]
    },
    {
      "cell_type": "code",
      "metadata": {
        "id": "t_6bl2vIFwzu"
      },
      "source": [
        "# count = {'count':, 'artistName': , 'trackName': , 'msPlayed':}\n",
        "\n",
        "def countSongOccurrences(time):\n",
        "  occurences = []\n",
        "\n",
        "  while len(time) > 0:\n",
        "    artistName = time[-1][\"artistName\"]\n",
        "    trackName = time[-1][\"trackName\"]\n",
        "    msPlayed = 0\n",
        "    count = 0\n",
        "    \n",
        "    for i in reversed(range(len(time))):\n",
        "      if time[i][\"artistName\"] == artistName:\n",
        "        count += 1\n",
        "        msPlayed += time[i][\"msPlayed\"]\n",
        "        time.pop(i)\n",
        "\n",
        "    minPlayed = int(msPlayed / (1000 * 60))\n",
        "    occurence = {'count': count, 'artistName': artistName, 'trackName': trackName, \"minPlayed\": minPlayed}\n",
        "    occurences.append(occurence)\n",
        "\n",
        "  return occurences\n",
        "\n",
        "data = getData(\"/content/\", 4)\n",
        "occurences = countSongOccurrences(data)"
      ],
      "execution_count": null,
      "outputs": []
    },
    {
      "cell_type": "code",
      "metadata": {
        "id": "HVoBPc0BSwLI"
      },
      "source": [
        "# count = {'count':, 'artistName': , 'msPlayed':}\n",
        "\n",
        "def countArtistOccurrences(data):\n",
        "  occurences = []\n",
        "  time = copy.copy(data)\n",
        "\n",
        "  while len(time) > 0:\n",
        "    artistName = time[-1][\"artistName\"]\n",
        "    msPlayed = 0\n",
        "    count = 0\n",
        "    \n",
        "    for i in reversed(range(len(time))):\n",
        "      if time[i][\"artistName\"] == artistName:\n",
        "        count += 1\n",
        "        msPlayed += time[i][\"msPlayed\"]\n",
        "        time.pop(i)\n",
        "\n",
        "    minPlayed = int(msPlayed / (1000 * 60))\n",
        "    occurence = {'count': count, 'artistName': artistName, \"minPlayed\": minPlayed}\n",
        "    occurences.append(occurence)\n",
        "\n",
        "  return occurences\n",
        "\n",
        "data = getData(\"/content/\", 4)"
      ],
      "execution_count": null,
      "outputs": []
    },
    {
      "cell_type": "code",
      "metadata": {
        "colab": {
          "base_uri": "https://localhost:8080/"
        },
        "id": "KoZdx4XKONpk",
        "outputId": "2e638706-9f96-4b09-e710-fba666a331c2"
      },
      "source": [
        "favorite_song = sorted(song_occurences, key=lambda x: x['count'], reverse=True) \n",
        "print(\"Favorite Songs\")\n",
        "for i in range(10):\n",
        "  print(favorite_song[i])"
      ],
      "execution_count": null,
      "outputs": [
        {
          "output_type": "stream",
          "text": [
            "Favorite Songs\n",
            "{'count': 117, 'artistName': 'Imagine Dragons', 'trackName': 'Birds', 'minPlayed': 409}\n",
            "{'count': 88, 'artistName': 'The Districts', 'trackName': '4th and Roebling', 'minPlayed': 321}\n",
            "{'count': 86, 'artistName': 'Alan Walker', 'trackName': 'Intro', 'minPlayed': 144}\n",
            "{'count': 83, 'artistName': 'Machine Gun Kelly', 'trackName': 'forget me too (feat. Halsey)', 'minPlayed': 202}\n",
            "{'count': 82, 'artistName': 'The Districts', 'trackName': '6 AM', 'minPlayed': 395}\n",
            "{'count': 75, 'artistName': 'Videoclub', 'trackName': 'Enfance 80', 'minPlayed': 228}\n",
            "{'count': 74, 'artistName': 'grandson', 'trackName': 'Identity', 'minPlayed': 210}\n",
            "{'count': 71, 'artistName': 'Machine Gun Kelly', 'trackName': \"my ex's best friend (with blackbear)\", 'minPlayed': 141}\n",
            "{'count': 70, 'artistName': 'Machine Gun Kelly', 'trackName': \"I Think I'm OKAY (with YUNGBLUD & Travis Barker)\", 'minPlayed': 174}\n",
            "{'count': 69, 'artistName': 'grandson', 'trackName': 'Blood // Water', 'minPlayed': 157}\n"
          ],
          "name": "stdout"
        }
      ]
    },
    {
      "cell_type": "code",
      "metadata": {
        "colab": {
          "base_uri": "https://localhost:8080/"
        },
        "id": "C5IGYQs4TIkC",
        "outputId": "70500d2c-3ffd-4ef8-8e1a-91b9f4176485"
      },
      "source": [
        "favorite_artist = sorted(artist_occurences, key=lambda x: x['count'], reverse=True) \n",
        "print(\"Favorite Artist\")\n",
        "for i in range(10):\n",
        "  print(favorite_artist[i])"
      ],
      "execution_count": null,
      "outputs": [
        {
          "output_type": "stream",
          "text": [
            "Favorite Artist\n",
            "{'count': 1393, 'artistName': 'The Districts', 'minPlayed': 5255}\n",
            "{'count': 1368, 'artistName': 'Machine Gun Kelly', 'minPlayed': 3013}\n",
            "{'count': 801, 'artistName': 'grandson', 'minPlayed': 2234}\n",
            "{'count': 696, 'artistName': 'Supertramp', 'minPlayed': 2999}\n",
            "{'count': 671, 'artistName': 'Robin Schulz', 'minPlayed': 2104}\n",
            "{'count': 564, 'artistName': 'EDEN', 'minPlayed': 2029}\n",
            "{'count': 521, 'artistName': 'NF', 'minPlayed': 1726}\n",
            "{'count': 515, 'artistName': 'French 79', 'minPlayed': 1908}\n",
            "{'count': 508, 'artistName': 'Oh Wonder', 'minPlayed': 1625}\n",
            "{'count': 490, 'artistName': 'Imagine Dragons', 'minPlayed': 1226}\n"
          ],
          "name": "stdout"
        }
      ]
    },
    {
      "cell_type": "code",
      "metadata": {
        "colab": {
          "base_uri": "https://localhost:8080/"
        },
        "id": "uRGDEs7hOEG9",
        "outputId": "2f31228f-b7c5-4ca1-e379-11be85aa5a23"
      },
      "source": [
        "data = getData(\"/content/\", 5)\n",
        "\n",
        "print(\"Number of streams: \" + str(len(data)))\n",
        "print(\"Number of different songs: \" + str(len(favorite_song)))\n",
        "print(\"Number of different artists: \" + str(len(favorite_artist)))"
      ],
      "execution_count": null,
      "outputs": [
        {
          "output_type": "stream",
          "text": [
            "Number of streams: 48147\n",
            "Number of different songs: 9108\n",
            "Number of different artists: 3268\n"
          ],
          "name": "stdout"
        }
      ]
    },
    {
      "cell_type": "markdown",
      "metadata": {
        "id": "CRMh11KNL-Oy"
      },
      "source": [
        "Now split our song history in different genres. We will for each artist in \"favorite artist\" find the genre(s) with the spotipy api and then parse over the streaming history to classify the stream into the different genres."
      ]
    },
    {
      "cell_type": "code",
      "metadata": {
        "id": "e1TsWCsGMyay"
      },
      "source": [
        "for i in range(len(favorite_artist)):\n",
        "  #find artist\n",
        "  artist = favorite_artist[i]\n",
        "  name = artist[\"artistName\"]\n",
        "  results = sp.search(q=name, type='artist')\n",
        "  \n",
        "  try:  \n",
        "    results = results[\"artists\"][\"items\"][0]\n",
        "\n",
        "    #extract information\n",
        "    genres = results[\"genres\"]\n",
        "    popularity = results[\"popularity\"]\n",
        "  \n",
        "    #add informations\n",
        "    artist[\"genres\"] = genres\n",
        "    artist[\"popularity\"] = popularity\n",
        "  except:\n",
        "    print(\"not found: \" + name)"
      ],
      "execution_count": null,
      "outputs": []
    },
    {
      "cell_type": "markdown",
      "metadata": {
        "id": "9G100oAUXn7V"
      },
      "source": [
        "So now we will loop through the streaming history and add each stream to the corresponding genre."
      ]
    },
    {
      "cell_type": "code",
      "metadata": {
        "colab": {
          "base_uri": "https://localhost:8080/"
        },
        "id": "HeVj3iHnbP9y",
        "outputId": "e1364f45-8d0d-4ae2-f9f2-f79c3707cfd6"
      },
      "source": [
        "#to avoid any problems we add a boiler plate artist\n",
        "artist = {'count': 0, 'artistName': '', 'minPlayed': 0, 'genres': [], 'popularity': 0}\n",
        "favorite_artist.append(artist)"
      ],
      "execution_count": null,
      "outputs": [
        {
          "output_type": "stream",
          "text": [
            "{'count': 0, 'artistName': '', 'minPlayed': 0, 'genres': [], 'popularity': 0}\n"
          ],
          "name": "stdout"
        }
      ]
    },
    {
      "cell_type": "code",
      "metadata": {
        "id": "16gsACeOND5R"
      },
      "source": [
        "def getArtistIndex(favorite_artist, artistName):\n",
        "  for i in range(len(favorite_artist)):\n",
        "    if favorite_artist[i][\"artistName\"] == artistName:\n",
        "      #return index\n",
        "      return i\n",
        "\n",
        "  #return our boilerplate artist\n",
        "  return -1\n",
        "\n",
        "genres = []\n",
        "\n",
        "for song in data:\n",
        "  #we get the artist index\n",
        "  index = getArtistIndex(favorite_artist, song[\"artistName\"])\n",
        "  try:\n",
        "    #we get the artist genres\n",
        "    artist_genres = favorite_artist[index][\"genres\"]\n",
        "\n",
        "    #we add to each song the artist genres\n",
        "    song[\"genres\"] = artist_genres\n",
        "    \n",
        "    #we add the genre to the list of genres\n",
        "    genres.append(genre)\n",
        "  except:\n",
        "    pass"
      ],
      "execution_count": null,
      "outputs": []
    },
    {
      "cell_type": "code",
      "metadata": {
        "colab": {
          "base_uri": "https://localhost:8080/",
          "height": 232
        },
        "id": "F55_aHrVe2r-",
        "outputId": "37f1894d-965a-4e01-889b-9be96c6f1074"
      },
      "source": [
        "genres = sorted(genres)\n",
        "listed_genres = [] #let's filter the genres\n",
        "\n",
        "while len(genres) > 0:\n",
        "  c = 0\n",
        "  name = genres[0]\n",
        "\n",
        "  #remove from list\n",
        "  while len(genres) > 0 and genres[0] == name:\n",
        "    genres.pop(0)\n",
        "    c += 1\n",
        "  \n",
        "  genre = {\"name\": name, \"count\": c}\n",
        "  listed_genres.append(genre)"
      ],
      "execution_count": null,
      "outputs": [
        {
          "output_type": "error",
          "ename": "TypeError",
          "evalue": "ignored",
          "traceback": [
            "\u001b[0;31m---------------------------------------------------------------------------\u001b[0m",
            "\u001b[0;31mTypeError\u001b[0m                                 Traceback (most recent call last)",
            "\u001b[0;32m<ipython-input-109-a14b106850fd>\u001b[0m in \u001b[0;36m<module>\u001b[0;34m()\u001b[0m\n\u001b[0;32m----> 1\u001b[0;31m \u001b[0mgenres\u001b[0m \u001b[0;34m=\u001b[0m \u001b[0msorted\u001b[0m\u001b[0;34m(\u001b[0m\u001b[0mgenres\u001b[0m\u001b[0;34m)\u001b[0m\u001b[0;34m\u001b[0m\u001b[0;34m\u001b[0m\u001b[0m\n\u001b[0m\u001b[1;32m      2\u001b[0m \u001b[0mlisted_genres\u001b[0m \u001b[0;34m=\u001b[0m \u001b[0;34m[\u001b[0m\u001b[0;34m]\u001b[0m \u001b[0;31m#let's filter the genres\u001b[0m\u001b[0;34m\u001b[0m\u001b[0;34m\u001b[0m\u001b[0m\n\u001b[1;32m      3\u001b[0m \u001b[0;34m\u001b[0m\u001b[0m\n\u001b[1;32m      4\u001b[0m \u001b[0;32mwhile\u001b[0m \u001b[0mlen\u001b[0m\u001b[0;34m(\u001b[0m\u001b[0mgenres\u001b[0m\u001b[0;34m)\u001b[0m \u001b[0;34m>\u001b[0m \u001b[0;36m0\u001b[0m\u001b[0;34m:\u001b[0m\u001b[0;34m\u001b[0m\u001b[0;34m\u001b[0m\u001b[0m\n\u001b[1;32m      5\u001b[0m   \u001b[0mc\u001b[0m \u001b[0;34m=\u001b[0m \u001b[0;36m0\u001b[0m\u001b[0;34m\u001b[0m\u001b[0;34m\u001b[0m\u001b[0m\n",
            "\u001b[0;31mTypeError\u001b[0m: '<' not supported between instances of 'dict' and 'dict'"
          ]
        }
      ]
    },
    {
      "cell_type": "code",
      "metadata": {
        "colab": {
          "base_uri": "https://localhost:8080/"
        },
        "id": "wgFssel5hiaQ",
        "outputId": "a53b5237-f16e-45c0-eaeb-7f04c95728fb"
      },
      "source": [
        "print(listed_genres[:5])"
      ],
      "execution_count": null,
      "outputs": [
        {
          "output_type": "stream",
          "text": [
            "[{'name': 'nz electronic', 'count': 48131}]\n"
          ],
          "name": "stdout"
        }
      ]
    },
    {
      "cell_type": "markdown",
      "metadata": {
        "id": "SrG1pxd-gOGO"
      },
      "source": [
        "Now subdivide our listen to each genre"
      ]
    }
  ]
}