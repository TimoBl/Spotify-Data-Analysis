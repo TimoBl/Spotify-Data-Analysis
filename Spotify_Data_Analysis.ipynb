{
  "nbformat": 4,
  "nbformat_minor": 0,
  "metadata": {
    "colab": {
      "name": "Spotify Data Analysis.ipynb",
      "provenance": [],
      "collapsed_sections": []
    },
    "kernelspec": {
      "name": "python3",
      "display_name": "Python 3"
    },
    "language_info": {
      "name": "python"
    }
  },
  "cells": [
    {
      "cell_type": "code",
      "metadata": {
        "id": "ZbYYpXSmUYD3"
      },
      "source": [
        "pip install spotipy"
      ],
      "execution_count": null,
      "outputs": []
    },
    {
      "cell_type": "code",
      "metadata": {
        "colab": {
          "base_uri": "https://localhost:8080/"
        },
        "id": "aF4UfiEb52_W",
        "outputId": "df0704e7-bedd-4069-9dd9-94447de1c8da"
      },
      "source": [
        "pip install mysql-connector-python"
      ],
      "execution_count": 2,
      "outputs": [
        {
          "output_type": "stream",
          "text": [
            "Collecting mysql-connector-python\n",
            "\u001b[?25l  Downloading https://files.pythonhosted.org/packages/ef/5b/a7dc32e711e4a065896188afef6864489ccf4bdab0928581c4262e84110d/mysql_connector_python-8.0.25-cp37-cp37m-manylinux1_x86_64.whl (25.4MB)\n",
            "\u001b[K     |████████████████████████████████| 25.4MB 112kB/s \n",
            "\u001b[?25hRequirement already satisfied: protobuf>=3.0.0 in /usr/local/lib/python3.7/dist-packages (from mysql-connector-python) (3.12.4)\n",
            "Requirement already satisfied: six>=1.9 in /usr/local/lib/python3.7/dist-packages (from protobuf>=3.0.0->mysql-connector-python) (1.15.0)\n",
            "Requirement already satisfied: setuptools in /usr/local/lib/python3.7/dist-packages (from protobuf>=3.0.0->mysql-connector-python) (57.0.0)\n",
            "Installing collected packages: mysql-connector-python\n",
            "Successfully installed mysql-connector-python-8.0.25\n"
          ],
          "name": "stdout"
        }
      ]
    },
    {
      "cell_type": "markdown",
      "metadata": {
        "id": "2LFM1-vU5_sS"
      },
      "source": [
        "# Database"
      ]
    },
    {
      "cell_type": "markdown",
      "metadata": {
        "id": "9jY-t0Hn9EC3"
      },
      "source": [
        "Let's create and connect to a database"
      ]
    },
    {
      "cell_type": "code",
      "metadata": {
        "id": "oD_7Za0i7-D_"
      },
      "source": [
        "import sqlite3\n",
        "\n",
        "database = sqlite3.connect('spotify.db')"
      ],
      "execution_count": 15,
      "outputs": []
    },
    {
      "cell_type": "markdown",
      "metadata": {
        "id": "MM8Ib-eq9MHf"
      },
      "source": [
        "Let's create a table for our streaming history"
      ]
    },
    {
      "cell_type": "code",
      "metadata": {
        "id": "aMVcKLYP75HQ"
      },
      "source": [
        "#create\n",
        "database.execute(\"\"\"CREATE TABLE IF NOT EXISTS streaming_history(\n",
        "                    endTime DATETIME,\n",
        "                    artistName varchar(40),\n",
        "                    trackName varchar(40),\n",
        "                    msPlayed int,\n",
        "                    id INTEGER PRIMARY KEY AUTOINCREMENT);\"\"\")\n",
        "database.commit()"
      ],
      "execution_count": 19,
      "outputs": []
    },
    {
      "cell_type": "markdown",
      "metadata": {
        "id": "PR0Iylk1AHTF"
      },
      "source": [
        "Now let's insert our streaming history JSON into the database."
      ]
    },
    {
      "cell_type": "code",
      "metadata": {
        "colab": {
          "base_uri": "https://localhost:8080/"
        },
        "id": "FQHDsFwaANIq",
        "outputId": "98ff9f3c-810f-4865-993e-463a4661106e"
      },
      "source": [
        "import json\n",
        "\n",
        "with open(\"/content/StreamingHistory0.json\", 'r') as file:\n",
        "  data = json.loads(file.read())\n",
        "\n",
        "print(data[:4])"
      ],
      "execution_count": 28,
      "outputs": [
        {
          "output_type": "stream",
          "text": [
            "[{'endTime': '2020-06-24 07:45', 'artistName': 'Foo Fighters', 'trackName': 'These Days', 'msPlayed': 294417}, {'endTime': '2020-06-25 00:02', 'artistName': 'NF', 'trackName': 'One Hundred', 'msPlayed': 192800}, {'endTime': '2020-06-25 00:06', 'artistName': 'NF', 'trackName': 'Outro', 'msPlayed': 212186}, {'endTime': '2020-06-25 00:09', 'artistName': 'NF', 'trackName': 'Intro 2', 'msPlayed': 195933}]\n"
          ],
          "name": "stdout"
        }
      ]
    },
    {
      "cell_type": "code",
      "metadata": {
        "id": "vFXiZz8FB6iF"
      },
      "source": [
        "keys = [\"endTime\", \"artistName\", \"trackName\", \"msPlayed\"]\n",
        "\n",
        "for item in data:\n",
        "    values = [item.get(key, None) for key in keys]\n",
        "    cmd = \"\"\"INSERT INTO streaming_history VALUES(?, ?, ?, ?, null);\"\"\"\n",
        "    database.execute(cmd, values)\n",
        "\n",
        "database.commit()"
      ],
      "execution_count": 33,
      "outputs": []
    },
    {
      "cell_type": "markdown",
      "metadata": {
        "id": "KH4xdQsMCyej"
      },
      "source": [
        "Check if it worked"
      ]
    },
    {
      "cell_type": "code",
      "metadata": {
        "colab": {
          "base_uri": "https://localhost:8080/"
        },
        "id": "5ZXMbqygC1l1",
        "outputId": "ce5bd137-cf19-43f5-81e9-e888f971a4ab"
      },
      "source": [
        "cmd = \"\"\"SELECT * FROM streaming_history LIMIT 5;\"\"\"\n",
        "cur = database.execute(cmd)\n",
        "res = cur.fetchall()\n",
        "for r in res:\n",
        "  print(r)"
      ],
      "execution_count": 36,
      "outputs": [
        {
          "output_type": "stream",
          "text": [
            "('2020-06-24 07:45', 'Foo Fighters', 'These Days', 294417, 1)\n",
            "('2020-06-25 00:02', 'NF', 'One Hundred', 192800, 2)\n",
            "('2020-06-25 00:06', 'NF', 'Outro', 212186, 3)\n",
            "('2020-06-25 00:09', 'NF', 'Intro 2', 195933, 4)\n",
            "('2020-06-25 00:14', 'NF', 'Therapy Session', 331480, 5)\n"
          ],
          "name": "stdout"
        }
      ]
    },
    {
      "cell_type": "markdown",
      "metadata": {
        "id": "qbWLgiOeD7Wb"
      },
      "source": [
        "The target is now to create another table which contains the artist and the genre."
      ]
    },
    {
      "cell_type": "code",
      "metadata": {
        "colab": {
          "base_uri": "https://localhost:8080/"
        },
        "id": "-2RggaKfEW_U",
        "outputId": "2e5eb1a8-a97e-4734-8436-000555062432"
      },
      "source": [
        "cmd = \"\"\"SELECT DISTINCT artistName FROM streaming_history;\"\"\"\n",
        "cur = database.execute(cmd)\n",
        "artist_list = cur.fetchall()\n",
        "\n",
        "print(\"We have \" + str(len(artist_list)) + \" different artists\")"
      ],
      "execution_count": 40,
      "outputs": [
        {
          "output_type": "stream",
          "text": [
            "We have 1088 different artists\n"
          ],
          "name": "stdout"
        }
      ]
    },
    {
      "cell_type": "markdown",
      "metadata": {
        "id": "IBBl8i-4Ffib"
      },
      "source": [
        "Let's get our spotify information"
      ]
    },
    {
      "cell_type": "code",
      "metadata": {
        "id": "uUYCbNm5Femu"
      },
      "source": [
        "import spotipy\n",
        "from spotipy.oauth2 import SpotifyClientCredentials\n",
        "\n",
        "id = '627414d9842a40a9941c69152d1ef5d4'\n",
        "secret = '9b1249549b214a9e9bd26f45cda8f44a'\n",
        "\n",
        "auth_manager = SpotifyClientCredentials(client_id=id, client_secret=secret)\n",
        "sp = spotipy.Spotify(auth_manager=auth_manager)"
      ],
      "execution_count": 44,
      "outputs": []
    },
    {
      "cell_type": "code",
      "metadata": {
        "colab": {
          "base_uri": "https://localhost:8080/"
        },
        "id": "71uq6d7HE1BQ",
        "outputId": "79a06ddd-a423-41cf-fd58-80d266a72594"
      },
      "source": [
        "values = []\n",
        "\n",
        "for item in artist_list:\n",
        "  artistName = item[0]\n",
        "  results = sp.search(q=artistName, type='artist')\n",
        "  \n",
        "  try:\n",
        "    results = results[\"artists\"][\"items\"][0]\n",
        "    genres = results[\"genres\"]\n",
        "\n",
        "    for genre in genres:\n",
        "      value = (artistName, genre)\n",
        "      values.append(value)\n",
        "    \n",
        "  except:\n",
        "    print(\"not found: \" + artistName)\n"
      ],
      "execution_count": 49,
      "outputs": [
        {
          "output_type": "stream",
          "text": [
            "not found: Asaf Avidan & the Mojos\n",
            "not found: Benny Benassi presents The Biz\n",
            "not found: The Explicits\n",
            "not found: Science Weekly\n"
          ],
          "name": "stdout"
        }
      ]
    },
    {
      "cell_type": "code",
      "metadata": {
        "id": "GIsbba0MGnth"
      },
      "source": [
        "#create\n",
        "database.execute(\"\"\"CREATE TABLE IF NOT EXISTS artist_genres(\n",
        "                    artistName varchar(40),\n",
        "                    genreName varchar(40),\n",
        "                    id INTEGER PRIMARY KEY AUTOINCREMENT);\"\"\")\n",
        "database.commit()"
      ],
      "execution_count": 50,
      "outputs": []
    },
    {
      "cell_type": "code",
      "metadata": {
        "id": "5okcKnuGG4P_"
      },
      "source": [
        "for value in values:\n",
        "    cmd = \"\"\"INSERT INTO artist_genres VALUES(?, ?, null);\"\"\"\n",
        "    database.execute(cmd, value)\n",
        "\n",
        "database.commit()"
      ],
      "execution_count": 51,
      "outputs": []
    },
    {
      "cell_type": "code",
      "metadata": {
        "colab": {
          "base_uri": "https://localhost:8080/"
        },
        "id": "phfIg3QKHTzJ",
        "outputId": "978f6973-e56b-468b-e62d-bcd519bf8ee0"
      },
      "source": [
        "cmd = \"\"\"SELECT * FROM artist_genres LIMIT 5;\"\"\"\n",
        "cur = database.execute(cmd)\n",
        "res = cur.fetchall()\n",
        "for r in res:\n",
        "  print(r)"
      ],
      "execution_count": 52,
      "outputs": [
        {
          "output_type": "stream",
          "text": [
            "('Foo Fighters', 'alternative metal', 1)\n",
            "('Foo Fighters', 'alternative rock', 2)\n",
            "('Foo Fighters', 'modern rock', 3)\n",
            "('Foo Fighters', 'permanent wave', 4)\n",
            "('Foo Fighters', 'post-grunge', 5)\n"
          ],
          "name": "stdout"
        }
      ]
    },
    {
      "cell_type": "markdown",
      "metadata": {
        "id": "3XIM2rDnHj08"
      },
      "source": [
        "Let's try to get every modern rock from streaming history"
      ]
    },
    {
      "cell_type": "code",
      "metadata": {
        "id": "mI159osJHg_-"
      },
      "source": [
        "cmd = \"\"\" SELECT streaming_history.endTime, streaming_history.artistName, streaming_history.trackName, artist_genres.genreName\n",
        "          FROM streaming_history\n",
        "          INNER JOIN artist_genres ON streaming_history.artistName=artist_genres.artistName \n",
        "          WHERE artist_genres.genreName='modern rock'; \"\"\"\n",
        "\n",
        "cur = database.execute(cmd)\n",
        "modern_rock_streaming_history = cur.fetchall()"
      ],
      "execution_count": 55,
      "outputs": []
    },
    {
      "cell_type": "code",
      "metadata": {
        "colab": {
          "base_uri": "https://localhost:8080/"
        },
        "id": "gSaI2URSJWLJ",
        "outputId": "ca6298da-3c41-4c85-b838-e44f8cb47c3e"
      },
      "source": [
        "print(modern_rock_streaming_history[:3])"
      ],
      "execution_count": 56,
      "outputs": [
        {
          "output_type": "stream",
          "text": [
            "[('2020-06-24 07:45', 'Foo Fighters', 'These Days', 'modern rock'), ('2020-06-28 15:20', 'Foo Fighters', 'Concrete and Gold', 'modern rock'), ('2020-07-01 13:25', 'Foo Fighters', 'These Days', 'modern rock')]\n"
          ],
          "name": "stdout"
        }
      ]
    },
    {
      "cell_type": "markdown",
      "metadata": {
        "id": "oRFMb4vzJDbU"
      },
      "source": [
        "Now let's look at the streaming time."
      ]
    },
    {
      "cell_type": "code",
      "metadata": {
        "colab": {
          "base_uri": "https://localhost:8080/",
          "height": 483
        },
        "id": "MroZRXGVJL7D",
        "outputId": "9c288ff3-5ebe-4807-a8f5-085ba22087e0"
      },
      "source": [
        "from datetime import datetime\n",
        "import matplotlib.pyplot as plt\n",
        "\n",
        "def plotHourlyStreamingHistory(time):\n",
        "  hours = [0 for y in range(24)]\n",
        "  y = [y for y in range(24)]\n",
        "  \n",
        "  for t in time:\n",
        "    date = datetime.strptime(t[0], '%Y-%m-%d %H:%M')\n",
        "    hours[date.hour] += 1\n",
        "  \n",
        "  fig, ax = plt.subplots(figsize=(16, 8))\n",
        "  ax.bar(y, hours)\n",
        "  plt.show()\n",
        "\n",
        "plotHourlyStreamingHistory(modern_rock_streaming_history)"
      ],
      "execution_count": 63,
      "outputs": [
        {
          "output_type": "display_data",
          "data": {
            "image/png": "[encoded data removed]",
            "text/plain": [
              "<Figure size 1152x576 with 1 Axes>"
            ]
          },
          "metadata": {
            "tags": [],
            "needs_background": "light"
          }
        }
      ]
    },
    {
      "cell_type": "markdown",
      "metadata": {
        "id": "_XVF7RnpKUfR"
      },
      "source": [
        "Let's compare that to heavy metal"
      ]
    },
    {
      "cell_type": "code",
      "metadata": {
        "colab": {
          "base_uri": "https://localhost:8080/",
          "height": 483
        },
        "id": "Pnrj76-5KXld",
        "outputId": "c25367ac-0734-4ff9-97c5-6a705e413019"
      },
      "source": [
        "cmd = \"\"\" SELECT streaming_history.endTime, streaming_history.artistName, streaming_history.trackName, artist_genres.genreName\n",
        "          FROM streaming_history\n",
        "          INNER JOIN artist_genres ON streaming_history.artistName=artist_genres.artistName \n",
        "          WHERE artist_genres.genreName='metal'; \"\"\"\n",
        "\n",
        "cur = database.execute(cmd)\n",
        "heavy_metal_streaming_history = cur.fetchall()\n",
        "plotHourlyStreamingHistory(heavy_metal_streaming_history)"
      ],
      "execution_count": 67,
      "outputs": [
        {
          "output_type": "display_data",
          "data": {
            "image/png": "[encoded data removed]",
            "text/plain": [
              "<Figure size 1152x576 with 1 Axes>"
            ]
          },
          "metadata": {
            "tags": [],
            "needs_background": "light"
          }
        }
      ]
    },
    {
      "cell_type": "markdown",
      "metadata": {
        "id": "T52A8WnmKy2V"
      },
      "source": [
        "To be able to better compare what's going on, let's look at which are the most popular genres and then plot them against each other."
      ]
    },
    {
      "cell_type": "code",
      "metadata": {
        "colab": {
          "base_uri": "https://localhost:8080/"
        },
        "id": "a02m1XaiLa9k",
        "outputId": "bdbbb3a8-207d-4871-ba6c-459a64c3cd96"
      },
      "source": [
        "cmd = \"\"\" SELECT genreName, COUNT(*) FROM\n",
        "          (\n",
        "          SELECT artist_genres.genreName, streaming_history.trackName\n",
        "          FROM streaming_history\n",
        "          INNER JOIN artist_genres ON streaming_history.artistName=artist_genres.artistName\n",
        "          )\n",
        "          GROUP BY genreName\n",
        "          ORDER BY COUNT(*) DESC;\n",
        "          \"\"\"\n",
        "\n",
        "cur = database.execute(cmd)\n",
        "res = cur.fetchall()\n",
        "print(\"So my most popular streamed genres:\")\n",
        "for i in range(10):\n",
        "  print(res[i])"
      ],
      "execution_count": 81,
      "outputs": [
        {
          "output_type": "stream",
          "text": [
            "So my most popular streamed genres:\n",
            "('rock', 3213)\n",
            "('modern rock', 1977)\n",
            "('pop', 1643)\n",
            "('classic rock', 1277)\n",
            "('album rock', 1100)\n",
            "('permanent wave', 851)\n",
            "('mellow gold', 828)\n",
            "('art rock', 751)\n",
            "('soft rock', 743)\n",
            "('hard rock', 736)\n"
          ],
          "name": "stdout"
        }
      ]
    },
    {
      "cell_type": "code",
      "metadata": {
        "id": "OJkP-NPs8FX-"
      },
      "source": [
        "#close\n",
        "database.close()"
      ],
      "execution_count": null,
      "outputs": []
    },
    {
      "cell_type": "markdown",
      "metadata": {
        "id": "kIuDnd5FvbxH"
      },
      "source": [
        "# Playlist Analysis"
      ]
    },
    {
      "cell_type": "code",
      "metadata": {
        "id": "TsVWl4dSUhyr"
      },
      "source": [
        "import spotipy\n",
        "from spotipy.oauth2 import SpotifyClientCredentials\n",
        "\n",
        "id = '627414d9842a40a9941c69152d1ef5d4'\n",
        "secret = '9b1249549b214a9e9bd26f45cda8f44a'\n",
        "\n",
        "auth_manager = SpotifyClientCredentials(client_id=id, client_secret=secret)\n",
        "sp = spotipy.Spotify(auth_manager=auth_manager)"
      ],
      "execution_count": null,
      "outputs": []
    },
    {
      "cell_type": "code",
      "metadata": {
        "id": "9disjEfJkMB0"
      },
      "source": [
        "def get_playlist_tracks(username, playlist_id):\n",
        "  results = sp.user_playlist_tracks(username, playlist_id)\n",
        "  tracks = results['items']\n",
        "  while results['next']:\n",
        "    results = sp.next(results)\n",
        "    tracks.extend(results['items'])\n",
        "  return tracks\n",
        "\n",
        "tracks = get_playlist_tracks(\"timo1701\", \"09PpyE5sNUzEduVcpFyjwH\")"
      ],
      "execution_count": null,
      "outputs": []
    },
    {
      "cell_type": "code",
      "metadata": {
        "id": "Hx3Ek5B9l8vX"
      },
      "source": [
        "def get_tracks_features(tracks):\n",
        "  features = []\n",
        "\n",
        "  for i, t in enumerate(tracks):\n",
        "    id = t[\"track\"][\"id\"]\n",
        "    feature = sp.audio_features(id)\n",
        "    features.extend(feature)\n",
        "\n",
        "    if i%100  == 0:\n",
        "      print(i)\n",
        "\n",
        "  return features\n",
        "\n",
        "features = get_tracks_features(tracks)"
      ],
      "execution_count": null,
      "outputs": []
    },
    {
      "cell_type": "markdown",
      "metadata": {
        "id": "EJ8ukPn1b1Qg"
      },
      "source": [
        "Let's save those information."
      ]
    },
    {
      "cell_type": "code",
      "metadata": {
        "id": "ysTlM-URb4Dy"
      },
      "source": [
        "import json\n",
        "\n",
        "def save_features(name, features):\n",
        "  with open(name + \".json\", 'w', encoding='utf-8') as file:\n",
        "    json.dump(features, file)\n",
        "\n",
        "def load_features(name):\n",
        "  with open(name + \".json\", \"r\") as file:\n",
        "    features = json.load(file)\n",
        "  return features"
      ],
      "execution_count": null,
      "outputs": []
    },
    {
      "cell_type": "code",
      "metadata": {
        "id": "rH-rUIc2W-D6"
      },
      "source": [
        "import matplotlib.pyplot as plt\n",
        "\n",
        "def feature_hist(ax, name, features, bins):\n",
        "  feature = [item[name] for item in features]\n",
        "  ax.hist(feature, bins=bins)\n",
        "  ax.title.set_text(name)\n",
        "\n",
        "fig, axs = plt.subplots(4, 2, figsize=(16, 16))\n",
        "\n",
        "'''\n",
        "feature_hist(axs[0, 0], \"danceability\", features, 30, (0.0, 1.0))\n",
        "feature_hist(axs[0, 1], \"energy\", features, 30, (0.0, 1.0))\n",
        "\n",
        "feature_hist(axs[1, 0], \"loudness\", features, 30, (0.0, 1.0))\n",
        "feature_hist(axs[1, 1], \"speechiness\", features, 30, (0.0, 1.0))\n",
        "\n",
        "feature_hist(axs[2, 0], \"acousticness\", features, 30)\n",
        "feature_hist(axs[2, 1], \"instrumentalness\", features, 30)\n",
        "\n",
        "feature_hist(axs[3, 0], \"liveness\", features, 30)\n",
        "feature_hist(axs[3, 1], \"valence\", features, 30)\n",
        "'''"
      ],
      "execution_count": null,
      "outputs": []
    },
    {
      "cell_type": "markdown",
      "metadata": {
        "id": "gYF7GFIobYH0"
      },
      "source": [
        "So what does that learn us? Not much really, we need to compare to others playlists. Let's take those made by spotify."
      ]
    },
    {
      "cell_type": "code",
      "metadata": {
        "colab": {
          "base_uri": "https://localhost:8080/"
        },
        "id": "qpvAWLm6pKIx",
        "outputId": "d4f04ded-b2be-4ed7-e38f-1392a8e3cfbb"
      },
      "source": [
        "#classical enssentials\n",
        "classic_tracks = get_playlist_tracks(\"timo1701\", \"37i9dQZF1DWWEJlAGA9gs0\")\n",
        "classic_features = get_tracks_features(classic_tracks)"
      ],
      "execution_count": null,
      "outputs": [
        {
          "output_type": "stream",
          "text": [
            "0\n",
            "100\n"
          ],
          "name": "stdout"
        }
      ]
    },
    {
      "cell_type": "code",
      "metadata": {
        "colab": {
          "base_uri": "https://localhost:8080/"
        },
        "id": "qhQtnevypmYR",
        "outputId": "66833d9c-b487-4de0-bc7e-e03374c82b98"
      },
      "source": [
        "#rock classics\n",
        "rock_tracks = get_playlist_tracks(\"timo1701\", \"37i9dQZF1DWXRqgorJj26U\")\n",
        "rock_features = get_tracks_features(rock_tracks)"
      ],
      "execution_count": null,
      "outputs": [
        {
          "output_type": "stream",
          "text": [
            "0\n",
            "100\n"
          ],
          "name": "stdout"
        }
      ]
    },
    {
      "cell_type": "code",
      "metadata": {
        "colab": {
          "base_uri": "https://localhost:8080/"
        },
        "id": "8DVFEHeVp430",
        "outputId": "f26f4110-79db-4137-8813-4d952e8326fa"
      },
      "source": [
        "#heavy metal\n",
        "metal_tracks = get_playlist_tracks(\"timo1701\", \"37i9dQZF1DX9qNs32fujYe\")\n",
        "metal_features = get_tracks_features(metal_tracks)"
      ],
      "execution_count": null,
      "outputs": [
        {
          "output_type": "stream",
          "text": [
            "0\n",
            "100\n"
          ],
          "name": "stdout"
        }
      ]
    },
    {
      "cell_type": "code",
      "metadata": {
        "colab": {
          "base_uri": "https://localhost:8080/"
        },
        "id": "0ie2VvtNqMVD",
        "outputId": "ec0ed149-371c-4656-9d6e-fd568fad5ac4"
      },
      "source": [
        "#jazz classics\n",
        "jazz_tracks = get_playlist_tracks(\"timo1701\", \"37i9dQZF1DXbITWG1ZJKYt\")\n",
        "jazz_features = get_tracks_features(jazz_tracks)"
      ],
      "execution_count": null,
      "outputs": [
        {
          "output_type": "stream",
          "text": [
            "0\n",
            "100\n"
          ],
          "name": "stdout"
        }
      ]
    },
    {
      "cell_type": "code",
      "metadata": {
        "colab": {
          "base_uri": "https://localhost:8080/",
          "height": 484
        },
        "id": "rgLOHWQwqe8F",
        "outputId": "7443a1c1-53a7-4ced-c1e1-e049c53af56a"
      },
      "source": [
        "fig, ax = plt.subplot()\n",
        "\n",
        "feature_hist(ax, \"danceability\", classic_features, 10)\n",
        "feature_hist(ax, \"danceability\", rock_features, 10)\n",
        "feature_hist(ax, \"danceability\", metal_features, 10)\n",
        "feature_hist(ax, \"danceability\", jazz_features, 10)"
      ],
      "execution_count": null,
      "outputs": [
        {
          "output_type": "error",
          "ename": "TypeError",
          "evalue": "ignored",
          "traceback": [
            "\u001b[0;31m---------------------------------------------------------------------------\u001b[0m",
            "\u001b[0;31mTypeError\u001b[0m                                 Traceback (most recent call last)",
            "\u001b[0;32m<ipython-input-78-35b19d7cf00d>\u001b[0m in \u001b[0;36m<module>\u001b[0;34m()\u001b[0m\n\u001b[0;32m----> 1\u001b[0;31m \u001b[0mfig\u001b[0m\u001b[0;34m,\u001b[0m \u001b[0max\u001b[0m \u001b[0;34m=\u001b[0m \u001b[0mplt\u001b[0m\u001b[0;34m.\u001b[0m\u001b[0msubplot\u001b[0m\u001b[0;34m(\u001b[0m\u001b[0;34m)\u001b[0m\u001b[0;34m\u001b[0m\u001b[0;34m\u001b[0m\u001b[0m\n\u001b[0m\u001b[1;32m      2\u001b[0m \u001b[0;34m\u001b[0m\u001b[0m\n\u001b[1;32m      3\u001b[0m \u001b[0mfeature_hist\u001b[0m\u001b[0;34m(\u001b[0m\u001b[0max\u001b[0m\u001b[0;34m,\u001b[0m \u001b[0;34m\"danceability\"\u001b[0m\u001b[0;34m,\u001b[0m \u001b[0mclassic_features\u001b[0m\u001b[0;34m,\u001b[0m \u001b[0;36m10\u001b[0m\u001b[0;34m)\u001b[0m\u001b[0;34m\u001b[0m\u001b[0;34m\u001b[0m\u001b[0m\n\u001b[1;32m      4\u001b[0m \u001b[0mfeature_hist\u001b[0m\u001b[0;34m(\u001b[0m\u001b[0max\u001b[0m\u001b[0;34m,\u001b[0m \u001b[0;34m\"danceability\"\u001b[0m\u001b[0;34m,\u001b[0m \u001b[0mrock_features\u001b[0m\u001b[0;34m,\u001b[0m \u001b[0;36m10\u001b[0m\u001b[0;34m)\u001b[0m\u001b[0;34m\u001b[0m\u001b[0;34m\u001b[0m\u001b[0m\n\u001b[1;32m      5\u001b[0m \u001b[0mfeature_hist\u001b[0m\u001b[0;34m(\u001b[0m\u001b[0max\u001b[0m\u001b[0;34m,\u001b[0m \u001b[0;34m\"danceability\"\u001b[0m\u001b[0;34m,\u001b[0m \u001b[0mmetal_features\u001b[0m\u001b[0;34m,\u001b[0m \u001b[0;36m10\u001b[0m\u001b[0;34m)\u001b[0m\u001b[0;34m\u001b[0m\u001b[0;34m\u001b[0m\u001b[0m\n",
            "\u001b[0;31mTypeError\u001b[0m: cannot unpack non-iterable AxesSubplot object"
          ]
        },
        {
          "output_type": "display_data",
          "data": {
            "image/png": "[encoded data removed]",
            "text/plain": [
              "<Figure size 432x288 with 1 Axes>"
            ]
          },
          "metadata": {
            "tags": [],
            "needs_background": "light"
          }
        }
      ]
    },
    {
      "cell_type": "markdown",
      "metadata": {
        "id": "0SaVYinPvfHG"
      },
      "source": [
        "# Data Analysis"
      ]
    },
    {
      "cell_type": "code",
      "metadata": {
        "id": "QH1-km0-vjUm"
      },
      "source": [
        "import json\n",
        "import matplotlib.pyplot as plt\n",
        "import matplotlib.dates as mdates\n",
        "from datetime import datetime, timedelta\n",
        "\n",
        "def getData(path, n):\n",
        "  data = []\n",
        "  for i in range(n):\n",
        "    name = path + \"StreamingHistory\" + str(i) + \".json\"\n",
        "    with open(name) as f:\n",
        "      data += json.load(f)\n",
        "  return data\n",
        "\n",
        "def getTime(data):\n",
        "  time = []\n",
        "  for item in data:\n",
        "      t = item['endTime']\n",
        "      t = datetime.strptime(t, '%Y-%m-%d %H:%M')\n",
        "      time.append(t)\n",
        "  return time\n",
        "\n",
        "data = getData(\"/content/\", 5)\n",
        "time = getTime(data)"
      ],
      "execution_count": null,
      "outputs": []
    },
    {
      "cell_type": "code",
      "metadata": {
        "colab": {
          "base_uri": "https://localhost:8080/",
          "height": 483
        },
        "id": "MeLeOCHKv6_S",
        "outputId": "bfadea67-58e0-405d-f2bb-7bd76bd3b6b8"
      },
      "source": [
        "def plotDailyStreamingHistory(time):\n",
        "  start = time[0]\n",
        "  end = time[-1]\n",
        "  delta = (end - start).days\n",
        "\n",
        "  # plot it\n",
        "  fig, ax = plt.subplots(figsize=(16, 8))\n",
        "  ax.hist(time, bins=delta)\n",
        "  locator = mdates.AutoDateLocator()\n",
        "  ax.xaxis.set_major_locator(locator)\n",
        "  ax.xaxis.set_major_formatter(mdates.AutoDateFormatter(locator))\n",
        "  plt.show()\n",
        "\n",
        "plotDailyStreamingHistory(time)"
      ],
      "execution_count": null,
      "outputs": [
        {
          "output_type": "display_data",
          "data": {
            "image/png": "[encoded data removed]",
            "text/plain": [
              "<Figure size 1152x576 with 1 Axes>"
            ]
          },
          "metadata": {
            "tags": [],
            "needs_background": "light"
          }
        }
      ]
    },
    {
      "cell_type": "code",
      "metadata": {
        "colab": {
          "base_uri": "https://localhost:8080/",
          "height": 483
        },
        "id": "L7OSqYS5D8u-",
        "outputId": "a8746ca2-a896-408c-ee16-7758bc8ad52f"
      },
      "source": [
        "def plotHourlyStreamingHistory(time):\n",
        "  hours = [0 for y in range(24)]\n",
        "  y = [y for y in range(24)]\n",
        "  \n",
        "  for t in time:\n",
        "    hours[t.hour] += 1\n",
        "  \n",
        "  fig, ax = plt.subplots(figsize=(16, 8))\n",
        "  ax.bar(y, hours)\n",
        "  plt.show()\n",
        "\n",
        "plotHourlyStreamingHistory(time)"
      ],
      "execution_count": null,
      "outputs": [
        {
          "output_type": "display_data",
          "data": {
            "image/png": "[encoded data removed]",
            "text/plain": [
              "<Figure size 1152x576 with 1 Axes>"
            ]
          },
          "metadata": {
            "tags": [],
            "needs_background": "light"
          }
        }
      ]
    },
    {
      "cell_type": "markdown",
      "metadata": {
        "id": "SrGn5pwHE_t8"
      },
      "source": [
        "Let's look at my most popular songs and many times I've played them."
      ]
    },
    {
      "cell_type": "code",
      "metadata": {
        "id": "t_6bl2vIFwzu"
      },
      "source": [
        "# count = {'count':, 'artistName': , 'trackName': , 'msPlayed':}\n",
        "\n",
        "def countSongOccurrences(time):\n",
        "  occurences = []\n",
        "\n",
        "  while len(time) > 0:\n",
        "    artistName = time[-1][\"artistName\"]\n",
        "    trackName = time[-1][\"trackName\"]\n",
        "    msPlayed = 0\n",
        "    count = 0\n",
        "    \n",
        "    for i in reversed(range(len(time))):\n",
        "      if time[i][\"trackName\"] == trackName:\n",
        "        count += 1\n",
        "        msPlayed += time[i][\"msPlayed\"]\n",
        "        time.pop(i)\n",
        "\n",
        "    minPlayed = int(msPlayed / (1000 * 60))\n",
        "    occurence = {'count': count, 'artistName': artistName, 'trackName': trackName, \"minPlayed\": minPlayed}\n",
        "    occurences.append(occurence)\n",
        "\n",
        "  return occurences\n",
        "\n",
        "data = getData(\"/content/\", 5)\n",
        "song_occurences = countSongOccurrences(data)"
      ],
      "execution_count": null,
      "outputs": []
    },
    {
      "cell_type": "code",
      "metadata": {
        "id": "HVoBPc0BSwLI"
      },
      "source": [
        "# count = {'count':, 'artistName': , 'msPlayed':}\n",
        "\n",
        "def countArtistOccurrences(data):\n",
        "  occurences = []\n",
        "\n",
        "  while len(data) > 0:\n",
        "    artistName = data[-1][\"artistName\"]\n",
        "    count = 0\n",
        "    msPlayed = 0\n",
        "    \n",
        "    for i in reversed(range(len(data))):\n",
        "      if data[i][\"artistName\"] == artistName:\n",
        "        count += 1\n",
        "        msPlayed += data[i][\"msPlayed\"]\n",
        "        data.pop(i)\n",
        "\n",
        "    minPlayed = int(msPlayed / (1000 * 60))\n",
        "    occurence = {'count': count, 'artistName': artistName, \"minPlayed\": minPlayed}\n",
        "    occurences.append(occurence)\n",
        "\n",
        "  return occurences\n",
        "\n",
        "data = getData(\"/content/\", 5)\n",
        "artist_occurences = countArtistOccurrences(data)"
      ],
      "execution_count": null,
      "outputs": []
    },
    {
      "cell_type": "code",
      "metadata": {
        "colab": {
          "base_uri": "https://localhost:8080/"
        },
        "id": "KoZdx4XKONpk",
        "outputId": "4513e455-4f28-4349-f43d-316c3325d0fe"
      },
      "source": [
        "favorite_song = sorted(song_occurences, key=lambda x: x['count'], reverse=True) \n",
        "print(\"Favorite Songs\")\n",
        "for i in range(10):\n",
        "  print(favorite_song[i])"
      ],
      "execution_count": null,
      "outputs": [
        {
          "output_type": "stream",
          "text": [
            "Favorite Songs\n",
            "{'count': 117, 'artistName': 'Imagine Dragons', 'trackName': 'Birds', 'minPlayed': 409}\n",
            "{'count': 112, 'artistName': 'The xx', 'trackName': 'Intro', 'minPlayed': 174}\n",
            "{'count': 100, 'artistName': 'The Districts', 'trackName': '4th and Roebling', 'minPlayed': 365}\n",
            "{'count': 90, 'artistName': 'The Districts', 'trackName': '6 AM', 'minPlayed': 426}\n",
            "{'count': 86, 'artistName': 'Machine Gun Kelly', 'trackName': 'forget me too (feat. Halsey)', 'minPlayed': 210}\n",
            "{'count': 81, 'artistName': 'Videoclub', 'trackName': 'Enfance 80', 'minPlayed': 247}\n",
            "{'count': 81, 'artistName': 'Machine Gun Kelly', 'trackName': \"I Think I'm OKAY (with YUNGBLUD & Travis Barker)\", 'minPlayed': 205}\n",
            "{'count': 79, 'artistName': 'grandson', 'trackName': 'Identity', 'minPlayed': 220}\n",
            "{'count': 75, 'artistName': 'Alan Walker', 'trackName': 'Darkside', 'minPlayed': 234}\n",
            "{'count': 75, 'artistName': 'grandson', 'trackName': 'Blood // Water', 'minPlayed': 170}\n"
          ],
          "name": "stdout"
        }
      ]
    },
    {
      "cell_type": "code",
      "metadata": {
        "colab": {
          "base_uri": "https://localhost:8080/"
        },
        "id": "C5IGYQs4TIkC",
        "outputId": "04b84535-fc1f-4124-bb92-c0029c9157f2"
      },
      "source": [
        "favorite_artist = sorted(artist_occurences, key=lambda x: x['count'], reverse=True) \n",
        "print(\"Favorite Artist\")\n",
        "for i in range(10):\n",
        "  print(favorite_artist[i])"
      ],
      "execution_count": null,
      "outputs": [
        {
          "output_type": "stream",
          "text": [
            "Favorite Artist\n",
            "{'count': 1540, 'artistName': 'The Districts', 'minPlayed': 5780}\n",
            "{'count': 1436, 'artistName': 'Machine Gun Kelly', 'minPlayed': 3192}\n",
            "{'count': 867, 'artistName': 'grandson', 'minPlayed': 2400}\n",
            "{'count': 776, 'artistName': 'Alan Walker', 'minPlayed': 2064}\n",
            "{'count': 767, 'artistName': 'Supertramp', 'minPlayed': 3333}\n",
            "{'count': 761, 'artistName': 'Robin Schulz', 'minPlayed': 2348}\n",
            "{'count': 755, 'artistName': 'EDEN', 'minPlayed': 2684}\n",
            "{'count': 724, 'artistName': 'Oh Wonder', 'minPlayed': 2310}\n",
            "{'count': 637, 'artistName': 'French 79', 'minPlayed': 2370}\n",
            "{'count': 612, 'artistName': 'NF', 'minPlayed': 2012}\n"
          ],
          "name": "stdout"
        }
      ]
    },
    {
      "cell_type": "code",
      "metadata": {
        "colab": {
          "base_uri": "https://localhost:8080/"
        },
        "id": "uRGDEs7hOEG9",
        "outputId": "67360dac-5b91-4a10-be29-946cc3314d0f"
      },
      "source": [
        "data = getData(\"/content/\", 5)\n",
        "\n",
        "print(\"Number of streams: \" + str(len(data)))\n",
        "print(\"Number of different songs: \" + str(len(favorite_song)))\n",
        "print(\"Number of different artists: \" + str(len(favorite_artist)))"
      ],
      "execution_count": null,
      "outputs": [
        {
          "output_type": "stream",
          "text": [
            "Number of streams: 48147\n",
            "Number of different songs: 10484\n",
            "Number of different artists: 3627\n"
          ],
          "name": "stdout"
        }
      ]
    },
    {
      "cell_type": "markdown",
      "metadata": {
        "id": "CRMh11KNL-Oy"
      },
      "source": [
        "Now split our song history in different genres. We will for each artist in \"favorite artist\" find the genre(s) with the spotipy api and then parse over the streaming history to classify the stream into the different genres."
      ]
    },
    {
      "cell_type": "code",
      "metadata": {
        "id": "e1TsWCsGMyay",
        "colab": {
          "base_uri": "https://localhost:8080/"
        },
        "outputId": "3fce0a38-d2a7-4764-9de5-f0fdc29f1b19"
      },
      "source": [
        "for i in range(len(favorite_artist)):\n",
        "  #find artist\n",
        "  artist = favorite_artist[i]\n",
        "  name = artist[\"artistName\"]\n",
        "  results = sp.search(q=name, type='artist')\n",
        "  \n",
        "  try:  \n",
        "    results = results[\"artists\"][\"items\"][0]\n",
        "\n",
        "    #extract information\n",
        "    genres = results[\"genres\"]\n",
        "    popularity = results[\"popularity\"]\n",
        "  \n",
        "    #add informations\n",
        "    artist[\"genres\"] = genres\n",
        "    artist[\"popularity\"] = popularity\n",
        "  except:\n",
        "    print(\"not found: \" + name)"
      ],
      "execution_count": null,
      "outputs": [
        {
          "output_type": "stream",
          "text": [
            "not found: The Yes Theory Podcast\n",
            "not found: Benny Benassi presents The Biz\n",
            "not found: rSlash\n",
            "not found: Radio Headspace\n",
            "not found: Science Weekly\n",
            "not found: The Explicits\n",
            "not found: Asaf Avidan & the Mojos\n"
          ],
          "name": "stdout"
        }
      ]
    },
    {
      "cell_type": "markdown",
      "metadata": {
        "id": "9G100oAUXn7V"
      },
      "source": [
        "So now we will loop through the streaming history and add each stream to the corresponding genre."
      ]
    },
    {
      "cell_type": "code",
      "metadata": {
        "id": "HeVj3iHnbP9y"
      },
      "source": [
        "#to avoid any problems we add a boiler plate artist\n",
        "artist = {'count': 0, 'artistName': '', 'minPlayed': 0, 'genres': [], 'popularity': 0}\n",
        "favorite_artist.append(artist)"
      ],
      "execution_count": null,
      "outputs": []
    },
    {
      "cell_type": "code",
      "metadata": {
        "id": "16gsACeOND5R"
      },
      "source": [
        "def getArtistIndex(favorite_artist, artistName):\n",
        "  for i in range(len(favorite_artist)):\n",
        "    if favorite_artist[i][\"artistName\"] == artistName:\n",
        "      #return index\n",
        "      return i\n",
        "\n",
        "  #return our boilerplate artist\n",
        "  return -1\n",
        "\n",
        "genres = []\n",
        "\n",
        "for song in data:\n",
        "  #we get the artist index\n",
        "  index = getArtistIndex(favorite_artist, song[\"artistName\"])\n",
        "  \n",
        "  try:\n",
        "    #we get the artist genres\n",
        "    artist_genres = favorite_artist[index][\"genres\"]\n",
        "\n",
        "    #we add to each song the artist genres\n",
        "    song[\"genres\"] = artist_genres\n",
        "    \n",
        "    #we add the genre to the list of genres\n",
        "    genres.extend(artist_genres)\n",
        "  except:\n",
        "    pass"
      ],
      "execution_count": null,
      "outputs": []
    },
    {
      "cell_type": "code",
      "metadata": {
        "id": "F55_aHrVe2r-"
      },
      "source": [
        "genres = sorted(genres)\n",
        "listed_genres = [] #let's filter the genres\n",
        "\n",
        "while len(genres) > 0:\n",
        "  c = 0\n",
        "  name = genres[0]\n",
        "\n",
        "  #remove from list\n",
        "  while len(genres) > 0 and genres[0] == name:\n",
        "    genres.pop(0)\n",
        "    c += 1\n",
        "  \n",
        "  genre = {\"name\": name, \"count\": c}\n",
        "  listed_genres.append(genre)"
      ],
      "execution_count": null,
      "outputs": []
    },
    {
      "cell_type": "code",
      "metadata": {
        "colab": {
          "base_uri": "https://localhost:8080/"
        },
        "id": "wgFssel5hiaQ",
        "outputId": "08e6e3b9-fe3e-4ebb-8cef-0ab63ca88e82"
      },
      "source": [
        "listed_genres = sorted(listed_genres, key=lambda x: x['count'], reverse=True)\n",
        "print(\"favorite genres\")\n",
        "for i in range(10):\n",
        "  print(listed_genres[i])"
      ],
      "execution_count": null,
      "outputs": [
        {
          "output_type": "stream",
          "text": [
            "favorite genres\n",
            "{'name': 'rock', 'count': 10588}\n",
            "{'name': 'modern rock', 'count': 8954}\n",
            "{'name': 'pop', 'count': 8917}\n",
            "{'name': 'electropop', 'count': 4502}\n",
            "{'name': 'classic rock', 'count': 3929}\n",
            "{'name': 'indie poptimism', 'count': 3666}\n",
            "{'name': 'tropical house', 'count': 3507}\n",
            "{'name': 'dance pop', 'count': 3418}\n",
            "{'name': 'pop rock', 'count': 3265}\n",
            "{'name': 'french indie pop', 'count': 3096}\n"
          ],
          "name": "stdout"
        }
      ]
    },
    {
      "cell_type": "markdown",
      "metadata": {
        "id": "SrG1pxd-gOGO"
      },
      "source": [
        "Now subdivide our list to each genre"
      ]
    },
    {
      "cell_type": "code",
      "metadata": {
        "id": "QhkvPj_RysKr"
      },
      "source": [
        "#initialize \n",
        "for genre in listed_genres:\n",
        "  genre[\"streamingHistory\"] = []"
      ],
      "execution_count": null,
      "outputs": []
    },
    {
      "cell_type": "code",
      "metadata": {
        "colab": {
          "base_uri": "https://localhost:8080/"
        },
        "id": "dh_XIUUfy8Hg",
        "outputId": "eaeac1d4-ad8b-4077-e1b3-8c6093770edf"
      },
      "source": [
        "for song in data:\n",
        "  for genre in song[\"genres\"]:\n",
        "    listed_genre = [listed_genre for listed_genre in listed_genres if listed_genre == genre]\n",
        "    print(listed_genre)\n",
        "  break"
      ],
      "execution_count": null,
      "outputs": [
        {
          "output_type": "stream",
          "text": [
            "[]\n",
            "[]\n",
            "[]\n",
            "[]\n",
            "[]\n",
            "[]\n"
          ],
          "name": "stdout"
        }
      ]
    },
    {
      "cell_type": "code",
      "metadata": {
        "id": "KtBY8J19zLfF"
      },
      "source": [
        ""
      ],
      "execution_count": null,
      "outputs": []
    },
    {
      "cell_type": "code",
      "metadata": {
        "id": "tR-K3B4Q5-07"
      },
      "source": [
        ""
      ],
      "execution_count": null,
      "outputs": []
    },
    {
      "cell_type": "markdown",
      "metadata": {
        "id": "mLmp6S1K6BHn"
      },
      "source": [
        ""
      ]
    }
  ]
}