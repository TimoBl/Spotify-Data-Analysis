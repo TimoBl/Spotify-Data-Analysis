{
  "nbformat": 4,
  "nbformat_minor": 0,
  "metadata": {
    "colab": {
      "name": "Mood Classifier.ipynb",
      "provenance": [],
      "collapsed_sections": [
        "FLNui5tQl77M"
      ]
    },
    "kernelspec": {
      "name": "python3",
      "display_name": "Python 3"
    },
    "language_info": {
      "name": "python"
    }
  },
  "cells": [
    {
      "cell_type": "markdown",
      "metadata": {
        "id": "ry0LhZB5l1gS"
      },
      "source": [
        "The target of this project is to create a mood classifier for songs. "
      ]
    },
    {
      "cell_type": "markdown",
      "metadata": {
        "id": "FLNui5tQl77M"
      },
      "source": [
        "# The setup"
      ]
    },
    {
      "cell_type": "code",
      "metadata": {
        "id": "W74jjePolzAC"
      },
      "source": [
        "moods = [\"Happy\", \"Sad\", \"Energy\", \"Relaxed\"]"
      ],
      "execution_count": 1,
      "outputs": []
    },
    {
      "cell_type": "code",
      "metadata": {
        "id": "RYDP_kQusr6t"
      },
      "source": [
        "happy_playlists = [ \"https://open.spotify.com/playlist/37i9dQZF1DXdPec7aLTmlC?si=09b55d14d2724319\",\n",
        "                    \"https://open.spotify.com/playlist/3Hs562oYeOsTcNmiUSj0f8?si=2b5d326086cd4b2c\",\n",
        "                    \"https://open.spotify.com/playlist/6pTTaGg2WTR1fJYpdwHo4K?si=368193cee41a4890\",\n",
        "                    \"https://open.spotify.com/playlist/37i9dQZF1DWZKuerrwoAGz?si=4f815b29743048a6\",\n",
        "                    \"https://open.spotify.com/playlist/37i9dQZF1DWSf2RDTDayIx?si=18ad7b198f5e44b4\"]"
      ],
      "execution_count": null,
      "outputs": []
    },
    {
      "cell_type": "code",
      "metadata": {
        "id": "FcmYuSoOsuqf"
      },
      "source": [
        "sad_playlists = [ \"https://open.spotify.com/playlist/37i9dQZF1DX7qK8ma5wgG1?si=f0577651aca54635\",\n",
        "                  \"https://open.spotify.com/playlist/17sbUkbtxJHGp3VBvylwLJ?si=5520ba1cb3dc408a\",\n",
        "                  \"https://open.spotify.com/playlist/6nxPNnmSE0d5WlplUsa5L3?si=3502e0a59f3d4ff9\",\n",
        "                  \"https://open.spotify.com/playlist/37i9dQZF1DWSqBruwoIXkA?si=e3ea91dea6114960\", \n",
        "                  \"https://open.spotify.com/playlist/3c0Nv5CY6TIaRszlTZbUFk?si=d1d7b008d2ab4734\"]"
      ],
      "execution_count": null,
      "outputs": []
    },
    {
      "cell_type": "code",
      "metadata": {
        "id": "BOkARXjNszcI"
      },
      "source": [
        "energy_playlists = [  \"https://open.spotify.com/playlist/37i9dQZF1DWZVAVMhIe3pV?si=5705e00dcf00472d\",\n",
        "                      \"https://open.spotify.com/playlist/3B31InoJ3c1hE8sIgQiJnT?si=9ca378e3d8174722\",\n",
        "                      \"https://open.spotify.com/playlist/37i9dQZF1DWZixSclZdoFE?si=80ce9ec7ee624764\", \n",
        "                      \"https://open.spotify.com/playlist/37i9dQZF1DX0vHZ8elq0UK?si=855bef555e9947bb\", \n",
        "                      \"https://open.spotify.com/playlist/2H5NdSB7O8tsxzUBHd7R0N?si=e23caae2c2474359\"]"
      ],
      "execution_count": null,
      "outputs": []
    },
    {
      "cell_type": "code",
      "metadata": {
        "id": "8BbLkQ1Qs2m4"
      },
      "source": [
        "relaxed_playlists = [ \"https://open.spotify.com/playlist/1r4hnyOWexSvylLokn2hUa?si=b91df7f5ee244164\",\n",
        "                      \"https://open.spotify.com/playlist/37i9dQZF1DWU0ScTcjJBdj?si=1888d301fc1b4038\",\n",
        "                      \"https://open.spotify.com/playlist/4D3hxAbOjVu5jaC5Bnlmky?si=bf69a9c739c746f2\",\n",
        "                      \"https://open.spotify.com/playlist/37i9dQZF1DXci7j0DJQgGp?si=1e6861eb74864622\",\n",
        "                      \"https://open.spotify.com/playlist/37i9dQZF1DX3SQwW1JbaFt?si=dd0182cbd7b24bef\"]"
      ],
      "execution_count": null,
      "outputs": []
    },
    {
      "cell_type": "code",
      "metadata": {
        "id": "tLMgOBfvuxQ0"
      },
      "source": [
        "playlists = [happy_playlists, sad_playlists, energy_playlists, relaxed_playlists]"
      ],
      "execution_count": null,
      "outputs": []
    },
    {
      "cell_type": "code",
      "metadata": {
        "id": "LfpQY8EMsqY7"
      },
      "source": [
        "import sqlite3\n",
        "\n",
        "database = sqlite3.connect('moods.db')"
      ],
      "execution_count": 2,
      "outputs": []
    },
    {
      "cell_type": "code",
      "metadata": {
        "id": "uUitQnsrtPDh"
      },
      "source": [
        "#create\n",
        "database.execute(\"\"\"CREATE TABLE IF NOT EXISTS moods (\n",
        "                    trackId varchar(40) PRIMARY KEY,\n",
        "                    trackName varchar(40),\n",
        "                    artistName varchar(40),\n",
        "                    mood varchar(10));\"\"\")\n",
        "database.commit()"
      ],
      "execution_count": null,
      "outputs": []
    },
    {
      "cell_type": "code",
      "metadata": {
        "id": "tNYwP4kyugZA"
      },
      "source": [
        "pip install spotipy --upgrade"
      ],
      "execution_count": null,
      "outputs": []
    },
    {
      "cell_type": "code",
      "metadata": {
        "id": "GsMWObeKubmT"
      },
      "source": [
        "import spotipy\n",
        "from spotipy.oauth2 import SpotifyClientCredentials\n",
        "\n",
        "id = '627414d9842a40a9941c69152d1ef5d4'\n",
        "secret = '9b1249549b214a9e9bd26f45cda8f44a'\n",
        "\n",
        "auth_manager = SpotifyClientCredentials(client_id=id, client_secret=secret)\n",
        "sp = spotipy.Spotify(auth_manager=auth_manager)"
      ],
      "execution_count": null,
      "outputs": []
    },
    {
      "cell_type": "code",
      "metadata": {
        "id": "N3CMFocctFck"
      },
      "source": [
        "def get_playlist_tracks(id):\n",
        "  results = sp.playlist_items(id)\n",
        "  tracks = results['items']\n",
        "  while results['next']:\n",
        "    results = sp.next(results)\n",
        "    tracks.extend(results['items'])\n",
        "  return tracks"
      ],
      "execution_count": null,
      "outputs": []
    },
    {
      "cell_type": "code",
      "metadata": {
        "id": "LeSxsEJIuFAG"
      },
      "source": [
        "def insert_playlist_tracks(tracks, mood):\n",
        "  for track in tracks:\n",
        "    id = track[\"track\"][\"id\"]\n",
        "    name = track[\"track\"][\"name\"]\n",
        "    artistName = track[\"track\"][\"artists\"][0][\"name\"]\n",
        "    \n",
        "    values = [id, name, artistName, mood]\n",
        "\n",
        "    cmd = \"\"\"INSERT OR IGNORE INTO moods VALUES(?, ?, ?, ?);\"\"\"\n",
        "    database.execute(cmd, values)\n",
        "\n",
        "  database.commit()"
      ],
      "execution_count": null,
      "outputs": []
    },
    {
      "cell_type": "code",
      "metadata": {
        "colab": {
          "base_uri": "https://localhost:8080/"
        },
        "id": "a4YJpunLuj0a",
        "outputId": "1849842a-e5bd-4b97-a876-c9b3299241f8"
      },
      "source": [
        "for i in range(len(moods)):\n",
        "  mood = moods[i]\n",
        "  print(mood)\n",
        "  for playlist in playlists[i]:\n",
        "    print(playlist)\n",
        "    tracks = get_playlist_tracks(playlist)\n",
        "    insert_playlist_tracks(tracks, mood)"
      ],
      "execution_count": null,
      "outputs": [
        {
          "output_type": "stream",
          "text": [
            "Happy\n",
            "https://open.spotify.com/playlist/37i9dQZF1DXdPec7aLTmlC?si=09b55d14d2724319\n",
            "https://open.spotify.com/playlist/3Hs562oYeOsTcNmiUSj0f8?si=2b5d326086cd4b2c\n",
            "https://open.spotify.com/playlist/6pTTaGg2WTR1fJYpdwHo4K?si=368193cee41a4890\n",
            "https://open.spotify.com/playlist/37i9dQZF1DWZKuerrwoAGz?si=4f815b29743048a6\n",
            "https://open.spotify.com/playlist/37i9dQZF1DWSf2RDTDayIx?si=18ad7b198f5e44b4\n",
            "Sad\n",
            "https://open.spotify.com/playlist/37i9dQZF1DX7qK8ma5wgG1?si=f0577651aca54635\n",
            "https://open.spotify.com/playlist/17sbUkbtxJHGp3VBvylwLJ?si=5520ba1cb3dc408a\n",
            "https://open.spotify.com/playlist/6nxPNnmSE0d5WlplUsa5L3?si=3502e0a59f3d4ff9\n",
            "https://open.spotify.com/playlist/37i9dQZF1DWSqBruwoIXkA?si=e3ea91dea6114960\n",
            "https://open.spotify.com/playlist/3c0Nv5CY6TIaRszlTZbUFk?si=d1d7b008d2ab4734\n",
            "Energy\n",
            "https://open.spotify.com/playlist/37i9dQZF1DWZVAVMhIe3pV?si=5705e00dcf00472d\n",
            "https://open.spotify.com/playlist/3B31InoJ3c1hE8sIgQiJnT?si=9ca378e3d8174722\n",
            "https://open.spotify.com/playlist/37i9dQZF1DWZixSclZdoFE?si=80ce9ec7ee624764\n",
            "https://open.spotify.com/playlist/37i9dQZF1DX0vHZ8elq0UK?si=855bef555e9947bb\n",
            "https://open.spotify.com/playlist/2H5NdSB7O8tsxzUBHd7R0N?si=e23caae2c2474359\n",
            "Relaxed\n",
            "https://open.spotify.com/playlist/1r4hnyOWexSvylLokn2hUa?si=b91df7f5ee244164\n",
            "https://open.spotify.com/playlist/37i9dQZF1DWU0ScTcjJBdj?si=1888d301fc1b4038\n",
            "https://open.spotify.com/playlist/4D3hxAbOjVu5jaC5Bnlmky?si=bf69a9c739c746f2\n",
            "https://open.spotify.com/playlist/37i9dQZF1DXci7j0DJQgGp?si=1e6861eb74864622\n",
            "https://open.spotify.com/playlist/37i9dQZF1DX3SQwW1JbaFt?si=dd0182cbd7b24bef\n"
          ],
          "name": "stdout"
        }
      ]
    },
    {
      "cell_type": "code",
      "metadata": {
        "colab": {
          "base_uri": "https://localhost:8080/"
        },
        "id": "qkD7yfpeupch",
        "outputId": "01f2e15f-be8b-4f45-ac25-151f492e15b9"
      },
      "source": [
        "for mood in moods:\n",
        "  cmd = \"\"\"SELECT DISTINCT COUNT(*) FROM moods WHERE mood='\"\"\" + mood + \"';\"\n",
        "  cur = database.execute(cmd)\n",
        "  res = cur.fetchall()\n",
        "  print(mood + \": \" + str(res[0][0]))"
      ],
      "execution_count": null,
      "outputs": [
        {
          "output_type": "stream",
          "text": [
            "Happy: 594\n",
            "Sad: 522\n",
            "Energy: 633\n",
            "Relaxed: 562\n"
          ],
          "name": "stdout"
        }
      ]
    },
    {
      "cell_type": "code",
      "metadata": {
        "id": "07zgiIO7y0Ni"
      },
      "source": [
        "#create\n",
        "database.execute(\"\"\"CREATE TABLE IF NOT EXISTS track_features(\n",
        "                    trackId varchar(40) PRIMARY KEY,\n",
        "                    danceability FLOAT(4),\n",
        "                    energy FLOAT(4),\n",
        "                    key INTEGER,\n",
        "                    loudness DECIMAL(4, 4),\n",
        "                    speechiness FLOAT(4),\n",
        "                    acousticness FLOAT(4),\n",
        "                    instrumentalness FLOAT(4),\n",
        "                    liveness FLOAT(4),\n",
        "                    valence FLOAT(4),\n",
        "                    tempo DECIMAL(4, 4),\n",
        "                    duration_ms BIGINT,\n",
        "                    time_signature INTEGER);\"\"\")\n",
        "database.commit()"
      ],
      "execution_count": null,
      "outputs": []
    },
    {
      "cell_type": "code",
      "metadata": {
        "id": "StZ-rUy6yvWq"
      },
      "source": [
        "def get_tracks_features(tracks):\n",
        "  features = []\n",
        "\n",
        "  for i, track in enumerate(tracks):\n",
        "    feature = sp.audio_features(track)\n",
        "    features.extend(feature)\n",
        "\n",
        "    if i%100 == 0:\n",
        "      print(i)\n",
        "\n",
        "  return features"
      ],
      "execution_count": null,
      "outputs": []
    },
    {
      "cell_type": "code",
      "metadata": {
        "id": "CI5opgAey8J1"
      },
      "source": [
        "def insert_track_features(features):\n",
        "  keys = [\"id\", \"danceability\", \"energy\", \"key\", \"loudness\", \"speechiness\", \"acousticness\", \"instrumentalness\", \"liveness\", \"valence\", \"tempo\", \"duration_ms\", \"time_signature\"]\n",
        "\n",
        "  for item in features:\n",
        "      values = [item.get(key, None) for key in keys]\n",
        "      cmd = \"\"\"INSERT INTO track_features VALUES(?, ?, ?, ?, ?, ?, ?, ?, ?, ?, ?, ?, ?);\"\"\"\n",
        "      database.execute(cmd, values)\n",
        "\n",
        "  database.commit()"
      ],
      "execution_count": null,
      "outputs": []
    },
    {
      "cell_type": "code",
      "metadata": {
        "id": "BptOJp-ON0Zn"
      },
      "source": [
        "cmd = \"\"\"SELECT DISTINCT trackId FROM track_features;\"\"\"\n",
        "cur = database.execute(cmd)\n",
        "res = cur.fetchall()\n",
        "tracks = [r[0] for r in res]"
      ],
      "execution_count": null,
      "outputs": []
    },
    {
      "cell_type": "code",
      "metadata": {
        "id": "neqECsVVL4xq"
      },
      "source": [
        "features = get_tracks_features(tracks)\n",
        "insert_track_features(features)"
      ],
      "execution_count": null,
      "outputs": []
    },
    {
      "cell_type": "markdown",
      "metadata": {
        "id": "kztxBjmAOXto"
      },
      "source": [
        "# Preparing the data"
      ]
    },
    {
      "cell_type": "code",
      "metadata": {
        "colab": {
          "base_uri": "https://localhost:8080/"
        },
        "id": "E9mMWwGuOWuZ",
        "outputId": "28a576a6-72ef-47d3-d634-d5a86974b5c6"
      },
      "source": [
        "import numpy as np\n",
        "import matplotlib.pyplot as plt\n",
        "import torch\n",
        "import torchvision\n",
        "import torch.nn as nn\n",
        "from torch.utils.data import Dataset, DataLoader\n",
        "from torchvision.transforms import Compose, ToTensor, Normalize\n",
        "\n",
        "device = torch.device('cuda') if torch.cuda.is_available() else torch.device('cpu')\n",
        "print(\"You train on {}\".format(device))"
      ],
      "execution_count": 55,
      "outputs": [
        {
          "output_type": "stream",
          "text": [
            "You train on cpu\n"
          ],
          "name": "stdout"
        }
      ]
    },
    {
      "cell_type": "code",
      "metadata": {
        "colab": {
          "base_uri": "https://localhost:8080/"
        },
        "id": "lIwwDIbjNJzu",
        "outputId": "70e7e5da-241e-4b20-af66-3bdc90bd921b"
      },
      "source": [
        "cmd = \"\"\"SELECT DISTINCT * FROM track_features LIMIT 5;\"\"\"\n",
        "cur = database.execute(cmd)\n",
        "res = cur.fetchall()\n",
        "for r in res:\n",
        "  print(r)"
      ],
      "execution_count": 4,
      "outputs": [
        {
          "output_type": "stream",
          "text": [
            "('001GvRtc0EJt8fvzjymQbF', 0.718, 0.132, 11, -20.115, 0.0466, 0.984, 0.759, 0.161, 0.114, 108.953, 149730, 4)\n",
            "('003vvx7Niy0yvhvHt4a68B', 0.352, 0.911, 1, -5.23, 0.0747, 0.00121, 0.0, 0.0995, 0.236, 148.033, 222973, 4)\n",
            "('00IhxmixCJJpcKW8OH6OtC', 0.731, 0.593, 7, -9.462, 0.057, 0.377, 0.000366, 0.821, 0.268, 105.005, 121161, 4)\n",
            "('00VetaoC8TaqvyumxJIXmx', 0.134, 0.147, 9, -22.907, 0.0488, 0.731, 0.925, 0.105, 0.0345, 72.447, 96000, 4)\n",
            "('00cBcYOlnHoXX9ver3cmdE', 0.598, 0.295, 1, -8.553, 0.0276, 0.735, 0.0, 0.107, 0.314, 87.025, 225680, 4)\n"
          ],
          "name": "stdout"
        }
      ]
    },
    {
      "cell_type": "code",
      "metadata": {
        "id": "xaBrBPauPUic"
      },
      "source": [
        "keys = [\"danceability\", \"energy\", \"key\", \"loudness\", \"speechiness\", \"acousticness\", \"instrumentalness\", \"liveness\", \"valence\", \"tempo\", \"mood\"]\n",
        "cmd = \"SELECT \" + \", \".join(keys) + \" FROM moods INNER JOIN track_features ON track_features.trackId=moods.trackId;\"\n",
        "cur = database.execute(cmd)\n",
        "res = cur.fetchall()"
      ],
      "execution_count": 5,
      "outputs": []
    },
    {
      "cell_type": "code",
      "metadata": {
        "id": "hCg5_0KCPOwe"
      },
      "source": [
        "class SpotifyData(Dataset):\n",
        "    def __init__(self, data, labels):\n",
        "        self.data = data\n",
        "        self.labels = labels\n",
        "        \n",
        "    def __getitem__(self, index):\n",
        "        x = torch.FloatTensor(self.data[index][0:9])\n",
        "        y = self.labels.index(self.data[index][10])\n",
        "        return x, y\n",
        "    \n",
        "    def __len__(self):\n",
        "        return len(self.data)\n",
        "\n",
        "dataset = SpotifyData(res, moods)\n",
        "train_size = int(0.7 * len(dataset))\n",
        "valid_size = len(dataset) - train_size\n",
        "train_dataset, valid_dataset = torch.utils.data.random_split(dataset, [train_size, valid_size])"
      ],
      "execution_count": 42,
      "outputs": []
    },
    {
      "cell_type": "code",
      "metadata": {
        "colab": {
          "base_uri": "https://localhost:8080/"
        },
        "id": "E-ow2Gq5SIon",
        "outputId": "9154a25a-6b47-4fb9-b500-157913904632"
      },
      "source": [
        "print(len(train_dataset), len(valid_dataset))\n",
        "print(dataset[0])"
      ],
      "execution_count": 44,
      "outputs": [
        {
          "output_type": "stream",
          "text": [
            "1617 694\n",
            "(tensor([ 0.8060,  0.5130,  4.0000, -6.2080,  0.0685,  0.2170,  0.0000,  0.2170,\n",
            "         0.5030]), 0)\n"
          ],
          "name": "stdout"
        }
      ]
    },
    {
      "cell_type": "code",
      "metadata": {
        "id": "Q7hKi3STTr9F"
      },
      "source": [
        "train_loader = DataLoader(train_dataset, batch_size=64, shuffle=True)\n",
        "valid_loader = DataLoader(valid_dataset, batch_size=64, shuffle=True)"
      ],
      "execution_count": 45,
      "outputs": []
    },
    {
      "cell_type": "markdown",
      "metadata": {
        "id": "zDmXBAC9TLwx"
      },
      "source": [
        "# Preparing the training"
      ]
    },
    {
      "cell_type": "code",
      "metadata": {
        "colab": {
          "base_uri": "https://localhost:8080/"
        },
        "id": "PUKJxf5qSqTx",
        "outputId": "459de956-b37c-46ae-8440-4642c946600c"
      },
      "source": [
        "class Net(nn.Module):\n",
        "  def __init__(self, loss_function):\n",
        "    super(Net, self).__init__()\n",
        "    self.main = nn.Sequential(nn.Linear(9, 36), \n",
        "                              nn.LeakyReLU(), \n",
        "                              nn.Linear(36, 12),\n",
        "                              nn.LeakyReLU(),\n",
        "                              nn.Linear(12, 4),\n",
        "                              nn.Sigmoid())\n",
        "    self.loss_function = loss_function\n",
        "\n",
        "  def forward(self, x):\n",
        "    out = self.main(x)\n",
        "    return out\n",
        "\n",
        "loss_function = nn.CrossEntropyLoss()\n",
        "model = Net(loss_function)\n",
        "model.optimizer = torch.optim.Adam(model.parameters(), lr=0.0001)\n",
        "model.to(device)"
      ],
      "execution_count": 109,
      "outputs": [
        {
          "output_type": "execute_result",
          "data": {
            "text/plain": [
              "Net(\n",
              "  (main): Sequential(\n",
              "    (0): Linear(in_features=9, out_features=36, bias=True)\n",
              "    (1): LeakyReLU(negative_slope=0.01)\n",
              "    (2): Linear(in_features=36, out_features=12, bias=True)\n",
              "    (3): LeakyReLU(negative_slope=0.01)\n",
              "    (4): Linear(in_features=12, out_features=4, bias=True)\n",
              "    (5): Sigmoid()\n",
              "  )\n",
              "  (loss_function): CrossEntropyLoss()\n",
              ")"
            ]
          },
          "metadata": {
            "tags": []
          },
          "execution_count": 109
        }
      ]
    },
    {
      "cell_type": "code",
      "metadata": {
        "id": "riTDvfizTGAd"
      },
      "source": [
        "def get_prediction(model, features, labels):\n",
        "    #features = features.to(device)\n",
        "    #labels = labels.to(device)\n",
        "\n",
        "    #predict\n",
        "    pred = model(features)\n",
        "    pred_labels = pred.argmax(dim=1) \n",
        "\n",
        "    #loss\n",
        "    correct = (pred_labels == labels).sum().item()\n",
        "    loss = model.loss_function(pred, labels)\n",
        "\n",
        "    return correct, loss"
      ],
      "execution_count": 110,
      "outputs": []
    },
    {
      "cell_type": "code",
      "metadata": {
        "id": "skkbdy09XmKW"
      },
      "source": [
        "def train_model(model, loader, training):\n",
        "    model.eval()\n",
        "    correct = 0\n",
        "    count = 0\n",
        "    losses = []\n",
        "\n",
        "    for (features, labels) in loader:\n",
        "        #get prediction\n",
        "        corr, loss = get_prediction(model, features, labels)\n",
        "        \n",
        "        #keep track\n",
        "        correct += corr\n",
        "        count += len(labels)\n",
        "        losses.append(loss.item())\n",
        "\n",
        "        if training:\n",
        "            loss.backward()\n",
        "            model.optimizer.step()\n",
        "    \n",
        "    #average out\n",
        "    avg_loss = sum(losses) / len(losses)\n",
        "    avg_accuracy = correct / count\n",
        "\n",
        "    return avg_loss, avg_accuracy"
      ],
      "execution_count": 111,
      "outputs": []
    },
    {
      "cell_type": "code",
      "metadata": {
        "id": "PXM_gj9RTjXR"
      },
      "source": [
        "def run(model, train_loader, valid_loader, num_epochs):\n",
        "    training = []\n",
        "    validation = []\n",
        "\n",
        "    print(\"__Training__\")\n",
        "\n",
        "    for epoch in range(num_epochs):\n",
        "        #train\n",
        "        training.append(train_model(model, train_loader, True))\n",
        "\n",
        "        #validate\n",
        "        validation.append(train_model(model, valid_loader, False))\n",
        "\n",
        "    print(\"__Finished__\\n\")\n",
        "\n",
        "    return training, validation"
      ],
      "execution_count": 112,
      "outputs": []
    },
    {
      "cell_type": "code",
      "metadata": {
        "colab": {
          "base_uri": "https://localhost:8080/"
        },
        "id": "4LwbEtB-Z3xY",
        "outputId": "8a051148-52fb-41bc-a050-fde75251f6f5"
      },
      "source": [
        "training, validation = run(model, train_loader, valid_loader, 50)\n",
        "train_loss, train_acc = np.array(*[training]).transpose()\n",
        "val_loss, val_acc = np.array(*[validation]).transpose()"
      ],
      "execution_count": 113,
      "outputs": [
        {
          "output_type": "stream",
          "text": [
            "__Training__\n",
            "__Finished__\n",
            "\n"
          ],
          "name": "stdout"
        }
      ]
    },
    {
      "cell_type": "code",
      "metadata": {
        "colab": {
          "base_uri": "https://localhost:8080/",
          "height": 935
        },
        "id": "afrzUXYBuJmI",
        "outputId": "95a9d1c6-3cd6-459d-aa9a-b7ef614dbffb"
      },
      "source": [
        "fig, ax = plt.subplots(2, figsize=(16, 16))\n",
        "\n",
        "ax[0].plot(train_loss, label=\"training\")\n",
        "ax[0].plot(val_loss, label=\"validation\")\n",
        "ax[0].legend()\n",
        "\n",
        "ax[1].plot(train_acc, label=\"training\")\n",
        "ax[1].plot(val_acc, label=\"validation\")"
      ],
      "execution_count": 115,
      "outputs": [
        {
          "output_type": "execute_result",
          "data": {
            "text/plain": [
              "[<matplotlib.lines.Line2D at 0x7f67337981d0>]"
            ]
          },
          "metadata": {
            "tags": []
          },
          "execution_count": 115
        },
        {
          "output_type": "display_data",
          "data": {
            "image/png": "[encoded data removed]",
            "text/plain": [
              "<Figure size 1152x1152 with 2 Axes>"
            ]
          },
          "metadata": {
            "tags": [],
            "needs_background": "light"
          }
        }
      ]
    },
    {
      "cell_type": "code",
      "metadata": {
        "id": "VQ_7_NWQ0WhI"
      },
      "source": [
        "def"
      ],
      "execution_count": null,
      "outputs": []
    }
  ]
}