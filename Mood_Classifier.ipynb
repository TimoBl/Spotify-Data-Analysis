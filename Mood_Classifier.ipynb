{
  "nbformat": 4,
  "nbformat_minor": 0,
  "metadata": {
    "colab": {
      "name": "Mood Classifier.ipynb",
      "provenance": [],
      "collapsed_sections": [
        "FLNui5tQl77M"
      ]
    },
    "kernelspec": {
      "name": "python3",
      "display_name": "Python 3"
    },
    "language_info": {
      "name": "python"
    }
  },
  "cells": [
    {
      "cell_type": "markdown",
      "metadata": {
        "id": "ry0LhZB5l1gS"
      },
      "source": [
        "The target of this project is to create a mood classifier for songs. "
      ]
    },
    {
      "cell_type": "markdown",
      "metadata": {
        "id": "FLNui5tQl77M"
      },
      "source": [
        "# The setup"
      ]
    },
    {
      "cell_type": "code",
      "metadata": {
        "id": "W74jjePolzAC"
      },
      "source": [
        "moods = [\"Happy\", \"Sad\", \"Energy\", \"Relaxed\"]"
      ],
      "execution_count": 1,
      "outputs": []
    },
    {
      "cell_type": "code",
      "metadata": {
        "id": "RYDP_kQusr6t"
      },
      "source": [
        "happy_playlists = [ \"https://open.spotify.com/playlist/37i9dQZF1DXdPec7aLTmlC?si=09b55d14d2724319\",\n",
        "                    \"https://open.spotify.com/playlist/3Hs562oYeOsTcNmiUSj0f8?si=2b5d326086cd4b2c\",\n",
        "                    \"https://open.spotify.com/playlist/6pTTaGg2WTR1fJYpdwHo4K?si=368193cee41a4890\",\n",
        "                    \"https://open.spotify.com/playlist/37i9dQZF1DWZKuerrwoAGz?si=4f815b29743048a6\",\n",
        "                    \"https://open.spotify.com/playlist/37i9dQZF1DWSf2RDTDayIx?si=18ad7b198f5e44b4\"]"
      ],
      "execution_count": 2,
      "outputs": []
    },
    {
      "cell_type": "code",
      "metadata": {
        "id": "FcmYuSoOsuqf"
      },
      "source": [
        "sad_playlists = [ \"https://open.spotify.com/playlist/37i9dQZF1DX7qK8ma5wgG1?si=f0577651aca54635\",\n",
        "                  \"https://open.spotify.com/playlist/17sbUkbtxJHGp3VBvylwLJ?si=5520ba1cb3dc408a\",\n",
        "                  \"https://open.spotify.com/playlist/6nxPNnmSE0d5WlplUsa5L3?si=3502e0a59f3d4ff9\",\n",
        "                  \"https://open.spotify.com/playlist/37i9dQZF1DWSqBruwoIXkA?si=e3ea91dea6114960\", \n",
        "                  \"https://open.spotify.com/playlist/3c0Nv5CY6TIaRszlTZbUFk?si=d1d7b008d2ab4734\"]"
      ],
      "execution_count": 3,
      "outputs": []
    },
    {
      "cell_type": "code",
      "metadata": {
        "id": "BOkARXjNszcI"
      },
      "source": [
        "energy_playlists = [  \"https://open.spotify.com/playlist/37i9dQZF1DWZVAVMhIe3pV?si=5705e00dcf00472d\",\n",
        "                      \"https://open.spotify.com/playlist/3B31InoJ3c1hE8sIgQiJnT?si=9ca378e3d8174722\",\n",
        "                      \"https://open.spotify.com/playlist/37i9dQZF1DWZixSclZdoFE?si=80ce9ec7ee624764\", \n",
        "                      \"https://open.spotify.com/playlist/37i9dQZF1DX0vHZ8elq0UK?si=855bef555e9947bb\", \n",
        "                      \"https://open.spotify.com/playlist/2H5NdSB7O8tsxzUBHd7R0N?si=e23caae2c2474359\"]"
      ],
      "execution_count": 4,
      "outputs": []
    },
    {
      "cell_type": "code",
      "metadata": {
        "id": "8BbLkQ1Qs2m4"
      },
      "source": [
        "relaxed_playlists = [ \"https://open.spotify.com/playlist/1r4hnyOWexSvylLokn2hUa?si=b91df7f5ee244164\",\n",
        "                      \"https://open.spotify.com/playlist/37i9dQZF1DWU0ScTcjJBdj?si=1888d301fc1b4038\",\n",
        "                      \"https://open.spotify.com/playlist/4D3hxAbOjVu5jaC5Bnlmky?si=bf69a9c739c746f2\",\n",
        "                      \"https://open.spotify.com/playlist/37i9dQZF1DXci7j0DJQgGp?si=1e6861eb74864622\",\n",
        "                      \"https://open.spotify.com/playlist/37i9dQZF1DX3SQwW1JbaFt?si=dd0182cbd7b24bef\"]"
      ],
      "execution_count": 5,
      "outputs": []
    },
    {
      "cell_type": "code",
      "metadata": {
        "id": "tLMgOBfvuxQ0"
      },
      "source": [
        "playlists = [happy_playlists, sad_playlists, energy_playlists, relaxed_playlists]"
      ],
      "execution_count": 29,
      "outputs": []
    },
    {
      "cell_type": "code",
      "metadata": {
        "id": "LfpQY8EMsqY7"
      },
      "source": [
        "import sqlite3\n",
        "\n",
        "database = sqlite3.connect('moods.db')"
      ],
      "execution_count": 6,
      "outputs": []
    },
    {
      "cell_type": "code",
      "metadata": {
        "id": "uUitQnsrtPDh"
      },
      "source": [
        "#create\n",
        "database.execute(\"\"\"CREATE TABLE IF NOT EXISTS moods (\n",
        "                    trackId varchar(40) PRIMARY KEY,\n",
        "                    trackName varchar(40),\n",
        "                    artistName varchar(40),\n",
        "                    mood varchar(10));\"\"\")\n",
        "database.commit()"
      ],
      "execution_count": 21,
      "outputs": []
    },
    {
      "cell_type": "code",
      "metadata": {
        "id": "tNYwP4kyugZA"
      },
      "source": [
        "pip install spotipy --upgrade"
      ],
      "execution_count": null,
      "outputs": []
    },
    {
      "cell_type": "code",
      "metadata": {
        "id": "GsMWObeKubmT"
      },
      "source": [
        "import spotipy\n",
        "from spotipy.oauth2 import SpotifyClientCredentials\n",
        "\n",
        "id = '627414d9842a40a9941c69152d1ef5d4'\n",
        "secret = '9b1249549b214a9e9bd26f45cda8f44a'\n",
        "\n",
        "auth_manager = SpotifyClientCredentials(client_id=id, client_secret=secret)\n",
        "sp = spotipy.Spotify(auth_manager=auth_manager)"
      ],
      "execution_count": 10,
      "outputs": []
    },
    {
      "cell_type": "code",
      "metadata": {
        "id": "N3CMFocctFck"
      },
      "source": [
        "def get_playlist_tracks(id):\n",
        "  results = sp.playlist_items(id)\n",
        "  tracks = results['items']\n",
        "  while results['next']:\n",
        "    results = sp.next(results)\n",
        "    tracks.extend(results['items'])\n",
        "  return tracks"
      ],
      "execution_count": 11,
      "outputs": []
    },
    {
      "cell_type": "code",
      "metadata": {
        "id": "LeSxsEJIuFAG"
      },
      "source": [
        "def insert_playlist_tracks(tracks, mood):\n",
        "  for track in tracks:\n",
        "    id = track[\"track\"][\"id\"]\n",
        "    name = track[\"track\"][\"name\"]\n",
        "    artistName = track[\"track\"][\"artists\"][0][\"name\"]\n",
        "    \n",
        "    values = [id, name, artistName, mood]\n",
        "\n",
        "    cmd = \"\"\"INSERT OR IGNORE INTO moods VALUES(?, ?, ?, ?);\"\"\"\n",
        "    database.execute(cmd, values)\n",
        "\n",
        "  database.commit()"
      ],
      "execution_count": 33,
      "outputs": []
    },
    {
      "cell_type": "code",
      "metadata": {
        "colab": {
          "base_uri": "https://localhost:8080/"
        },
        "id": "a4YJpunLuj0a",
        "outputId": "1849842a-e5bd-4b97-a876-c9b3299241f8"
      },
      "source": [
        "for i in range(len(moods)):\n",
        "  mood = moods[i]\n",
        "  print(mood)\n",
        "  for playlist in playlists[i]:\n",
        "    print(playlist)\n",
        "    tracks = get_playlist_tracks(playlist)\n",
        "    insert_playlist_tracks(tracks, mood)"
      ],
      "execution_count": 34,
      "outputs": [
        {
          "output_type": "stream",
          "text": [
            "Happy\n",
            "https://open.spotify.com/playlist/37i9dQZF1DXdPec7aLTmlC?si=09b55d14d2724319\n",
            "https://open.spotify.com/playlist/3Hs562oYeOsTcNmiUSj0f8?si=2b5d326086cd4b2c\n",
            "https://open.spotify.com/playlist/6pTTaGg2WTR1fJYpdwHo4K?si=368193cee41a4890\n",
            "https://open.spotify.com/playlist/37i9dQZF1DWZKuerrwoAGz?si=4f815b29743048a6\n",
            "https://open.spotify.com/playlist/37i9dQZF1DWSf2RDTDayIx?si=18ad7b198f5e44b4\n",
            "Sad\n",
            "https://open.spotify.com/playlist/37i9dQZF1DX7qK8ma5wgG1?si=f0577651aca54635\n",
            "https://open.spotify.com/playlist/17sbUkbtxJHGp3VBvylwLJ?si=5520ba1cb3dc408a\n",
            "https://open.spotify.com/playlist/6nxPNnmSE0d5WlplUsa5L3?si=3502e0a59f3d4ff9\n",
            "https://open.spotify.com/playlist/37i9dQZF1DWSqBruwoIXkA?si=e3ea91dea6114960\n",
            "https://open.spotify.com/playlist/3c0Nv5CY6TIaRszlTZbUFk?si=d1d7b008d2ab4734\n",
            "Energy\n",
            "https://open.spotify.com/playlist/37i9dQZF1DWZVAVMhIe3pV?si=5705e00dcf00472d\n",
            "https://open.spotify.com/playlist/3B31InoJ3c1hE8sIgQiJnT?si=9ca378e3d8174722\n",
            "https://open.spotify.com/playlist/37i9dQZF1DWZixSclZdoFE?si=80ce9ec7ee624764\n",
            "https://open.spotify.com/playlist/37i9dQZF1DX0vHZ8elq0UK?si=855bef555e9947bb\n",
            "https://open.spotify.com/playlist/2H5NdSB7O8tsxzUBHd7R0N?si=e23caae2c2474359\n",
            "Relaxed\n",
            "https://open.spotify.com/playlist/1r4hnyOWexSvylLokn2hUa?si=b91df7f5ee244164\n",
            "https://open.spotify.com/playlist/37i9dQZF1DWU0ScTcjJBdj?si=1888d301fc1b4038\n",
            "https://open.spotify.com/playlist/4D3hxAbOjVu5jaC5Bnlmky?si=bf69a9c739c746f2\n",
            "https://open.spotify.com/playlist/37i9dQZF1DXci7j0DJQgGp?si=1e6861eb74864622\n",
            "https://open.spotify.com/playlist/37i9dQZF1DX3SQwW1JbaFt?si=dd0182cbd7b24bef\n"
          ],
          "name": "stdout"
        }
      ]
    },
    {
      "cell_type": "code",
      "metadata": {
        "colab": {
          "base_uri": "https://localhost:8080/"
        },
        "id": "qkD7yfpeupch",
        "outputId": "01f2e15f-be8b-4f45-ac25-151f492e15b9"
      },
      "source": [
        "for mood in moods:\n",
        "  cmd = \"\"\"SELECT DISTINCT COUNT(*) FROM moods WHERE mood='\"\"\" + mood + \"';\"\n",
        "  cur = database.execute(cmd)\n",
        "  res = cur.fetchall()\n",
        "  print(mood + \": \" + str(res[0][0]))"
      ],
      "execution_count": 51,
      "outputs": [
        {
          "output_type": "stream",
          "text": [
            "Happy: 594\n",
            "Sad: 522\n",
            "Energy: 633\n",
            "Relaxed: 562\n"
          ],
          "name": "stdout"
        }
      ]
    },
    {
      "cell_type": "code",
      "metadata": {
        "id": "07zgiIO7y0Ni"
      },
      "source": [
        "#create\n",
        "database.execute(\"\"\"CREATE TABLE IF NOT EXISTS track_features(\n",
        "                    trackId varchar(40) PRIMARY KEY,\n",
        "                    danceability FLOAT(4),\n",
        "                    energy FLOAT(4),\n",
        "                    key INTEGER,\n",
        "                    loudness DECIMAL(4, 4),\n",
        "                    speechiness FLOAT(4),\n",
        "                    acousticness FLOAT(4),\n",
        "                    instrumentalness FLOAT(4),\n",
        "                    liveness FLOAT(4),\n",
        "                    valence FLOAT(4),\n",
        "                    tempo DECIMAL(4, 4),\n",
        "                    duration_ms BIGINT,\n",
        "                    time_signature INTEGER);\"\"\")\n",
        "database.commit()"
      ],
      "execution_count": 56,
      "outputs": []
    },
    {
      "cell_type": "code",
      "metadata": {
        "id": "StZ-rUy6yvWq"
      },
      "source": [
        "def get_tracks_features(tracks):\n",
        "  features = []\n",
        "\n",
        "  for i, track in enumerate(tracks):\n",
        "    feature = sp.audio_features(track)\n",
        "    features.extend(feature)\n",
        "\n",
        "    if i%100 == 0:\n",
        "      print(i)\n",
        "\n",
        "  return features"
      ],
      "execution_count": 68,
      "outputs": []
    },
    {
      "cell_type": "code",
      "metadata": {
        "id": "CI5opgAey8J1"
      },
      "source": [
        "def insert_track_features(features):\n",
        "  keys = [\"id\", \"danceability\", \"energy\", \"key\", \"loudness\", \"speechiness\", \"acousticness\", \"instrumentalness\", \"liveness\", \"valence\", \"tempo\", \"duration_ms\", \"time_signature\"]\n",
        "\n",
        "  for item in features:\n",
        "      values = [item.get(key, None) for key in keys]\n",
        "      cmd = \"\"\"INSERT INTO track_features VALUES(?, ?, ?, ?, ?, ?, ?, ?, ?, ?, ?, ?, ?);\"\"\"\n",
        "      database.execute(cmd, values)\n",
        "\n",
        "  database.commit()"
      ],
      "execution_count": 71,
      "outputs": []
    },
    {
      "cell_type": "code",
      "metadata": {
        "id": "BptOJp-ON0Zn"
      },
      "source": [
        "cmd = \"\"\"SELECT DISTINCT trackId FROM track_features;\"\"\"\n",
        "cur = database.execute(cmd)\n",
        "res = cur.fetchall()\n",
        "tracks = [r[0] for r in res]"
      ],
      "execution_count": null,
      "outputs": []
    },
    {
      "cell_type": "code",
      "metadata": {
        "id": "neqECsVVL4xq"
      },
      "source": [
        "features = get_tracks_features(tracks)\n",
        "insert_track_features(features)"
      ],
      "execution_count": null,
      "outputs": []
    },
    {
      "cell_type": "code",
      "metadata": {
        "colab": {
          "base_uri": "https://localhost:8080/"
        },
        "id": "lIwwDIbjNJzu",
        "outputId": "b5df8972-8f1a-42ec-c533-898adcc04d2d"
      },
      "source": [
        "cmd = \"\"\"SELECT DISTINCT * FROM track_features LIMIT 5;\"\"\"\n",
        "cur = database.execute(cmd)\n",
        "res = cur.fetchall()\n",
        "for r in res:\n",
        "  print(r)"
      ],
      "execution_count": 73,
      "outputs": [
        {
          "output_type": "stream",
          "text": [
            "('001GvRtc0EJt8fvzjymQbF', 0.718, 0.132, 11, -20.115, 0.0466, 0.984, 0.759, 0.161, 0.114, 108.953, 149730, 4)\n",
            "('003vvx7Niy0yvhvHt4a68B', 0.352, 0.911, 1, -5.23, 0.0747, 0.00121, 0.0, 0.0995, 0.236, 148.033, 222973, 4)\n",
            "('00IhxmixCJJpcKW8OH6OtC', 0.731, 0.593, 7, -9.462, 0.057, 0.377, 0.000366, 0.821, 0.268, 105.005, 121161, 4)\n",
            "('00VetaoC8TaqvyumxJIXmx', 0.134, 0.147, 9, -22.907, 0.0488, 0.731, 0.925, 0.105, 0.0345, 72.447, 96000, 4)\n",
            "('00cBcYOlnHoXX9ver3cmdE', 0.598, 0.295, 1, -8.553, 0.0276, 0.735, 0.0, 0.107, 0.314, 87.025, 225680, 4)\n"
          ],
          "name": "stdout"
        }
      ]
    },
    {
      "cell_type": "markdown",
      "metadata": {
        "id": "kztxBjmAOXto"
      },
      "source": [
        "# Preparing the data"
      ]
    },
    {
      "cell_type": "code",
      "metadata": {
        "colab": {
          "base_uri": "https://localhost:8080/"
        },
        "id": "E9mMWwGuOWuZ",
        "outputId": "4fd139d8-43a1-4b05-aca3-e9db00d248b9"
      },
      "source": [
        "import torch\n",
        "import torchvision\n",
        "import torch.nn as nn\n",
        "from torch.utils.data import Dataset, DataLoader\n",
        "from torchvision.transforms import Compose, ToTensor, Normalize\n",
        "\n",
        "device = torch.device('cuda') if torch.cuda.is_available() else torch.device('cpu')\n",
        "print(\"You train on {}\".format(device))"
      ],
      "execution_count": 88,
      "outputs": [
        {
          "output_type": "stream",
          "text": [
            "You train on cpu\n"
          ],
          "name": "stdout"
        }
      ]
    },
    {
      "cell_type": "code",
      "metadata": {
        "id": "xaBrBPauPUic"
      },
      "source": [
        "keys = [\"danceability\", \"energy\", \"key\", \"loudness\", \"speechiness\", \"acousticness\", \"instrumentalness\", \"liveness\", \"valence\", \"tempo\", \"mood\"]\n",
        "cmd = \"SELECT \" + \", \".join(keys) + \" FROM moods INNER JOIN track_features ON track_features.trackId=moods.trackId;\"\n",
        "cur = database.execute(cmd)\n",
        "res = cur.fetchall()"
      ],
      "execution_count": 97,
      "outputs": []
    },
    {
      "cell_type": "code",
      "metadata": {
        "colab": {
          "base_uri": "https://localhost:8080/"
        },
        "id": "1tbqD-LTQ03q",
        "outputId": "643a4040-a7a1-44b1-e8b6-b01e8919d20f"
      },
      "source": [
        "print(res[0])"
      ],
      "execution_count": 86,
      "outputs": [
        {
          "output_type": "stream",
          "text": [
            "(0.806, 0.513, 4, -6.208, 0.0685, 0.217, 0.0, 0.217, 0.503, 124.988, 178157, 4, 'Happy')\n"
          ],
          "name": "stdout"
        }
      ]
    },
    {
      "cell_type": "code",
      "metadata": {
        "id": "hCg5_0KCPOwe"
      },
      "source": [
        "class SpotifyData(Dataset):\n",
        "    def __init__(self, data, labels):\n",
        "        self.data = data\n",
        "        self.labels = labels\n",
        "        \n",
        "    def __getitem__(self, index):\n",
        "        x = torch.FloatTensor(self.data[index][0:9])\n",
        "        y = self.labels.index(self.data[index][10])\n",
        "        \n",
        "        return x, y\n",
        "    \n",
        "    def __len__(self):\n",
        "        return len(self.data)\n",
        "\n",
        "dataset = SpotifyData(res, moods)\n",
        "train_size = int(0.7 * len(dataset))\n",
        "valid_size = len(dataset) - train_size\n",
        "train_dataset, valid_dataset = torch.utils.data.random_split(dataset, [train_size, valid_size])"
      ],
      "execution_count": 143,
      "outputs": []
    },
    {
      "cell_type": "code",
      "metadata": {
        "colab": {
          "base_uri": "https://localhost:8080/"
        },
        "id": "E-ow2Gq5SIon",
        "outputId": "4cc34a38-1752-432e-895d-6ae2f564d5be"
      },
      "source": [
        "print(len(train_dataset), len(valid_dataset))"
      ],
      "execution_count": 148,
      "outputs": [
        {
          "output_type": "stream",
          "text": [
            "1617 694\n"
          ],
          "name": "stdout"
        }
      ]
    },
    {
      "cell_type": "code",
      "metadata": {
        "id": "Q7hKi3STTr9F"
      },
      "source": [
        "train_loader = DataLoader(train_dataset, batch_size=64, shuffle=True)\n",
        "valid_loader = DataLoader(valid_dataset, batch_size=64, shuffle=True)"
      ],
      "execution_count": 149,
      "outputs": []
    },
    {
      "cell_type": "markdown",
      "metadata": {
        "id": "zDmXBAC9TLwx"
      },
      "source": [
        "# Preparing the training"
      ]
    },
    {
      "cell_type": "code",
      "metadata": {
        "colab": {
          "base_uri": "https://localhost:8080/"
        },
        "id": "PUKJxf5qSqTx",
        "outputId": "2a811691-d910-496e-a5ec-2601c0bcb41b"
      },
      "source": [
        "class Net(nn.Module):\n",
        "  def __init__(self, loss_function):\n",
        "    super(Net, self).__init__()\n",
        "    self.main = nn.Sequential(nn.Linear(12, 8), \n",
        "                              nn.ReLU(), \n",
        "                              nn.Linear(8, 4))\n",
        "    self.loss_function = loss_function\n",
        "\n",
        "  def forward(self, x):\n",
        "    out = self.main(x)\n",
        "    return out\n",
        "\n",
        "loss_function = nn.CrossEntropyLoss()\n",
        "model = Net(loss_function)\n",
        "model.optimizer = torch.optim.Adam(model.parameters(), lr=0.0003, betas=(0.9, 0.999), eps=1e-08, weight_decay=0, amsgrad=False)\n",
        "model.to(device)"
      ],
      "execution_count": 155,
      "outputs": [
        {
          "output_type": "execute_result",
          "data": {
            "text/plain": [
              "Net(\n",
              "  (main): Sequential(\n",
              "    (0): Linear(in_features=12, out_features=8, bias=True)\n",
              "    (1): ReLU()\n",
              "    (2): Linear(in_features=8, out_features=4, bias=True)\n",
              "  )\n",
              "  (loss_function): CrossEntropyLoss()\n",
              ")"
            ]
          },
          "metadata": {
            "tags": []
          },
          "execution_count": 155
        }
      ]
    },
    {
      "cell_type": "code",
      "metadata": {
        "id": "riTDvfizTGAd"
      },
      "source": [
        "def get_prediction(model, features, labels):\n",
        "    #features = features.to(device)\n",
        "    #labels = labels.to(device)\n",
        "\n",
        "    #predict\n",
        "    pred = model(features)\n",
        "    pred_label = pred.argmax(dim=1) \n",
        "\n",
        "    #loss\n",
        "    correct = (pred_labels == labels).sum().item()\n",
        "    loss = model.loss_function(pred, labels)\n",
        "\n",
        "    return correct, loss"
      ],
      "execution_count": 151,
      "outputs": []
    },
    {
      "cell_type": "code",
      "metadata": {
        "id": "skkbdy09XmKW"
      },
      "source": [
        "def train_model(model, loader, training):\n",
        "    model.eval()\n",
        "    accuracies = []\n",
        "    losses = []\n",
        "\n",
        "    for (features, labels) in loader:\n",
        "        #get prediction\n",
        "        correct, loss = get_prediction(model, features, labels)\n",
        "        \n",
        "        #keep track\n",
        "        accuracies.append((correct / len(labels)))\n",
        "        losses.append(loss.item())\n",
        "\n",
        "        if training:\n",
        "            loss.backward()\n",
        "            model.optimizer.step()\n",
        "    \n",
        "    #average out\n",
        "    avg_loss = sum(losses) / len(losses)\n",
        "    avg_accuracy = sum(accuracies) / len(accuracies)\n",
        "\n",
        "    return avg_loss, avg_accuracy"
      ],
      "execution_count": 152,
      "outputs": []
    },
    {
      "cell_type": "code",
      "metadata": {
        "id": "PXM_gj9RTjXR"
      },
      "source": [
        "def run(model, train_loader, valid_loader, num_epochs):\n",
        "    training = []\n",
        "    validation = []\n",
        "\n",
        "    print(\"__Training__\")\n",
        "\n",
        "    for epoch in range(num_epochs):\n",
        "        #train\n",
        "        training.append(train_model(model, train_loader, True))\n",
        "\n",
        "        #validate\n",
        "        validation.append(train_model(model, valid_loader, False))\n",
        "\n",
        "    print(\"__Finished__\\n\")\n",
        "\n",
        "    return training, validation"
      ],
      "execution_count": 153,
      "outputs": []
    },
    {
      "cell_type": "code",
      "metadata": {
        "colab": {
          "base_uri": "https://localhost:8080/",
          "height": 324
        },
        "id": "4LwbEtB-Z3xY",
        "outputId": "f04f0952-3774-41c9-9961-7b5477d6a58e"
      },
      "source": [
        "training, validation = run(model, train_loader, valid_loader, 3)"
      ],
      "execution_count": 156,
      "outputs": [
        {
          "output_type": "stream",
          "text": [
            "__Training__\n"
          ],
          "name": "stdout"
        },
        {
          "output_type": "error",
          "ename": "RuntimeError",
          "evalue": "ignored",
          "traceback": [
            "\u001b[0;31m---------------------------------------------------------------------------\u001b[0m",
            "\u001b[0;31mRuntimeError\u001b[0m                              Traceback (most recent call last)",
            "\u001b[0;32m<ipython-input-156-d090f553c0d9>\u001b[0m in \u001b[0;36m<module>\u001b[0;34m()\u001b[0m\n\u001b[0;32m----> 1\u001b[0;31m \u001b[0mtraining\u001b[0m\u001b[0;34m,\u001b[0m \u001b[0mvalidation\u001b[0m \u001b[0;34m=\u001b[0m \u001b[0mrun\u001b[0m\u001b[0;34m(\u001b[0m\u001b[0mmodel\u001b[0m\u001b[0;34m,\u001b[0m \u001b[0mtrain_loader\u001b[0m\u001b[0;34m,\u001b[0m \u001b[0mvalid_loader\u001b[0m\u001b[0;34m,\u001b[0m \u001b[0;36m3\u001b[0m\u001b[0;34m)\u001b[0m\u001b[0;34m\u001b[0m\u001b[0;34m\u001b[0m\u001b[0m\n\u001b[0m",
            "\u001b[0;32m<ipython-input-153-606fcf97ba3a>\u001b[0m in \u001b[0;36mrun\u001b[0;34m(model, train_loader, valid_loader, num_epochs)\u001b[0m\n\u001b[1;32m      7\u001b[0m     \u001b[0;32mfor\u001b[0m \u001b[0mepoch\u001b[0m \u001b[0;32min\u001b[0m \u001b[0mrange\u001b[0m\u001b[0;34m(\u001b[0m\u001b[0mnum_epochs\u001b[0m\u001b[0;34m)\u001b[0m\u001b[0;34m:\u001b[0m\u001b[0;34m\u001b[0m\u001b[0;34m\u001b[0m\u001b[0m\n\u001b[1;32m      8\u001b[0m         \u001b[0;31m#train\u001b[0m\u001b[0;34m\u001b[0m\u001b[0;34m\u001b[0m\u001b[0;34m\u001b[0m\u001b[0m\n\u001b[0;32m----> 9\u001b[0;31m         \u001b[0mtraining\u001b[0m\u001b[0;34m.\u001b[0m\u001b[0mappend\u001b[0m\u001b[0;34m(\u001b[0m\u001b[0mtrain_model\u001b[0m\u001b[0;34m(\u001b[0m\u001b[0mmodel\u001b[0m\u001b[0;34m,\u001b[0m \u001b[0mtrain_loader\u001b[0m\u001b[0;34m,\u001b[0m \u001b[0;32mTrue\u001b[0m\u001b[0;34m)\u001b[0m\u001b[0;34m)\u001b[0m\u001b[0;34m\u001b[0m\u001b[0;34m\u001b[0m\u001b[0m\n\u001b[0m\u001b[1;32m     10\u001b[0m \u001b[0;34m\u001b[0m\u001b[0m\n\u001b[1;32m     11\u001b[0m         \u001b[0;31m#validate\u001b[0m\u001b[0;34m\u001b[0m\u001b[0;34m\u001b[0m\u001b[0;34m\u001b[0m\u001b[0m\n",
            "\u001b[0;32m<ipython-input-152-0b6932f06d4e>\u001b[0m in \u001b[0;36mtrain_model\u001b[0;34m(model, loader, training)\u001b[0m\n\u001b[1;32m      6\u001b[0m     \u001b[0;32mfor\u001b[0m \u001b[0;34m(\u001b[0m\u001b[0mfeatures\u001b[0m\u001b[0;34m,\u001b[0m \u001b[0mlabels\u001b[0m\u001b[0;34m)\u001b[0m \u001b[0;32min\u001b[0m \u001b[0mloader\u001b[0m\u001b[0;34m:\u001b[0m\u001b[0;34m\u001b[0m\u001b[0;34m\u001b[0m\u001b[0m\n\u001b[1;32m      7\u001b[0m         \u001b[0;31m#get prediction\u001b[0m\u001b[0;34m\u001b[0m\u001b[0;34m\u001b[0m\u001b[0;34m\u001b[0m\u001b[0m\n\u001b[0;32m----> 8\u001b[0;31m         \u001b[0mcorrect\u001b[0m\u001b[0;34m,\u001b[0m \u001b[0mloss\u001b[0m \u001b[0;34m=\u001b[0m \u001b[0mget_prediction\u001b[0m\u001b[0;34m(\u001b[0m\u001b[0mmodel\u001b[0m\u001b[0;34m,\u001b[0m \u001b[0mfeatures\u001b[0m\u001b[0;34m,\u001b[0m \u001b[0mlabels\u001b[0m\u001b[0;34m)\u001b[0m\u001b[0;34m\u001b[0m\u001b[0;34m\u001b[0m\u001b[0m\n\u001b[0m\u001b[1;32m      9\u001b[0m \u001b[0;34m\u001b[0m\u001b[0m\n\u001b[1;32m     10\u001b[0m         \u001b[0;31m#keep track\u001b[0m\u001b[0;34m\u001b[0m\u001b[0;34m\u001b[0m\u001b[0;34m\u001b[0m\u001b[0m\n",
            "\u001b[0;32m<ipython-input-151-8eb11d55acc5>\u001b[0m in \u001b[0;36mget_prediction\u001b[0;34m(model, features, labels)\u001b[0m\n\u001b[1;32m      4\u001b[0m \u001b[0;34m\u001b[0m\u001b[0m\n\u001b[1;32m      5\u001b[0m     \u001b[0;31m#predict\u001b[0m\u001b[0;34m\u001b[0m\u001b[0;34m\u001b[0m\u001b[0;34m\u001b[0m\u001b[0m\n\u001b[0;32m----> 6\u001b[0;31m     \u001b[0mpred\u001b[0m \u001b[0;34m=\u001b[0m \u001b[0mmodel\u001b[0m\u001b[0;34m(\u001b[0m\u001b[0mfeatures\u001b[0m\u001b[0;34m)\u001b[0m\u001b[0;34m\u001b[0m\u001b[0;34m\u001b[0m\u001b[0m\n\u001b[0m\u001b[1;32m      7\u001b[0m     \u001b[0mpred_label\u001b[0m \u001b[0;34m=\u001b[0m \u001b[0mpred\u001b[0m\u001b[0;34m.\u001b[0m\u001b[0margmax\u001b[0m\u001b[0;34m(\u001b[0m\u001b[0mdim\u001b[0m\u001b[0;34m=\u001b[0m\u001b[0;36m1\u001b[0m\u001b[0;34m)\u001b[0m\u001b[0;34m\u001b[0m\u001b[0;34m\u001b[0m\u001b[0m\n\u001b[1;32m      8\u001b[0m \u001b[0;34m\u001b[0m\u001b[0m\n",
            "\u001b[0;32m/usr/local/lib/python3.7/dist-packages/torch/nn/modules/module.py\u001b[0m in \u001b[0;36m_call_impl\u001b[0;34m(self, *input, **kwargs)\u001b[0m\n\u001b[1;32m   1049\u001b[0m         if not (self._backward_hooks or self._forward_hooks or self._forward_pre_hooks or _global_backward_hooks\n\u001b[1;32m   1050\u001b[0m                 or _global_forward_hooks or _global_forward_pre_hooks):\n\u001b[0;32m-> 1051\u001b[0;31m             \u001b[0;32mreturn\u001b[0m \u001b[0mforward_call\u001b[0m\u001b[0;34m(\u001b[0m\u001b[0;34m*\u001b[0m\u001b[0minput\u001b[0m\u001b[0;34m,\u001b[0m \u001b[0;34m**\u001b[0m\u001b[0mkwargs\u001b[0m\u001b[0;34m)\u001b[0m\u001b[0;34m\u001b[0m\u001b[0;34m\u001b[0m\u001b[0m\n\u001b[0m\u001b[1;32m   1052\u001b[0m         \u001b[0;31m# Do not call functions when jit is used\u001b[0m\u001b[0;34m\u001b[0m\u001b[0;34m\u001b[0m\u001b[0;34m\u001b[0m\u001b[0m\n\u001b[1;32m   1053\u001b[0m         \u001b[0mfull_backward_hooks\u001b[0m\u001b[0;34m,\u001b[0m \u001b[0mnon_full_backward_hooks\u001b[0m \u001b[0;34m=\u001b[0m \u001b[0;34m[\u001b[0m\u001b[0;34m]\u001b[0m\u001b[0;34m,\u001b[0m \u001b[0;34m[\u001b[0m\u001b[0;34m]\u001b[0m\u001b[0;34m\u001b[0m\u001b[0;34m\u001b[0m\u001b[0m\n",
            "\u001b[0;32m<ipython-input-155-4c7d1f96fac3>\u001b[0m in \u001b[0;36mforward\u001b[0;34m(self, x)\u001b[0m\n\u001b[1;32m      8\u001b[0m \u001b[0;34m\u001b[0m\u001b[0m\n\u001b[1;32m      9\u001b[0m   \u001b[0;32mdef\u001b[0m \u001b[0mforward\u001b[0m\u001b[0;34m(\u001b[0m\u001b[0mself\u001b[0m\u001b[0;34m,\u001b[0m \u001b[0mx\u001b[0m\u001b[0;34m)\u001b[0m\u001b[0;34m:\u001b[0m\u001b[0;34m\u001b[0m\u001b[0;34m\u001b[0m\u001b[0m\n\u001b[0;32m---> 10\u001b[0;31m     \u001b[0mout\u001b[0m \u001b[0;34m=\u001b[0m \u001b[0mself\u001b[0m\u001b[0;34m.\u001b[0m\u001b[0mmain\u001b[0m\u001b[0;34m(\u001b[0m\u001b[0mx\u001b[0m\u001b[0;34m)\u001b[0m\u001b[0;34m\u001b[0m\u001b[0;34m\u001b[0m\u001b[0m\n\u001b[0m\u001b[1;32m     11\u001b[0m     \u001b[0;32mreturn\u001b[0m \u001b[0mout\u001b[0m\u001b[0;34m\u001b[0m\u001b[0;34m\u001b[0m\u001b[0m\n\u001b[1;32m     12\u001b[0m \u001b[0;34m\u001b[0m\u001b[0m\n",
            "\u001b[0;32m/usr/local/lib/python3.7/dist-packages/torch/nn/modules/module.py\u001b[0m in \u001b[0;36m_call_impl\u001b[0;34m(self, *input, **kwargs)\u001b[0m\n\u001b[1;32m   1049\u001b[0m         if not (self._backward_hooks or self._forward_hooks or self._forward_pre_hooks or _global_backward_hooks\n\u001b[1;32m   1050\u001b[0m                 or _global_forward_hooks or _global_forward_pre_hooks):\n\u001b[0;32m-> 1051\u001b[0;31m             \u001b[0;32mreturn\u001b[0m \u001b[0mforward_call\u001b[0m\u001b[0;34m(\u001b[0m\u001b[0;34m*\u001b[0m\u001b[0minput\u001b[0m\u001b[0;34m,\u001b[0m \u001b[0;34m**\u001b[0m\u001b[0mkwargs\u001b[0m\u001b[0;34m)\u001b[0m\u001b[0;34m\u001b[0m\u001b[0;34m\u001b[0m\u001b[0m\n\u001b[0m\u001b[1;32m   1052\u001b[0m         \u001b[0;31m# Do not call functions when jit is used\u001b[0m\u001b[0;34m\u001b[0m\u001b[0;34m\u001b[0m\u001b[0;34m\u001b[0m\u001b[0m\n\u001b[1;32m   1053\u001b[0m         \u001b[0mfull_backward_hooks\u001b[0m\u001b[0;34m,\u001b[0m \u001b[0mnon_full_backward_hooks\u001b[0m \u001b[0;34m=\u001b[0m \u001b[0;34m[\u001b[0m\u001b[0;34m]\u001b[0m\u001b[0;34m,\u001b[0m \u001b[0;34m[\u001b[0m\u001b[0;34m]\u001b[0m\u001b[0;34m\u001b[0m\u001b[0;34m\u001b[0m\u001b[0m\n",
            "\u001b[0;32m/usr/local/lib/python3.7/dist-packages/torch/nn/modules/container.py\u001b[0m in \u001b[0;36mforward\u001b[0;34m(self, input)\u001b[0m\n\u001b[1;32m    137\u001b[0m     \u001b[0;32mdef\u001b[0m \u001b[0mforward\u001b[0m\u001b[0;34m(\u001b[0m\u001b[0mself\u001b[0m\u001b[0;34m,\u001b[0m \u001b[0minput\u001b[0m\u001b[0;34m)\u001b[0m\u001b[0;34m:\u001b[0m\u001b[0;34m\u001b[0m\u001b[0;34m\u001b[0m\u001b[0m\n\u001b[1;32m    138\u001b[0m         \u001b[0;32mfor\u001b[0m \u001b[0mmodule\u001b[0m \u001b[0;32min\u001b[0m \u001b[0mself\u001b[0m\u001b[0;34m:\u001b[0m\u001b[0;34m\u001b[0m\u001b[0;34m\u001b[0m\u001b[0m\n\u001b[0;32m--> 139\u001b[0;31m             \u001b[0minput\u001b[0m \u001b[0;34m=\u001b[0m \u001b[0mmodule\u001b[0m\u001b[0;34m(\u001b[0m\u001b[0minput\u001b[0m\u001b[0;34m)\u001b[0m\u001b[0;34m\u001b[0m\u001b[0;34m\u001b[0m\u001b[0m\n\u001b[0m\u001b[1;32m    140\u001b[0m         \u001b[0;32mreturn\u001b[0m \u001b[0minput\u001b[0m\u001b[0;34m\u001b[0m\u001b[0;34m\u001b[0m\u001b[0m\n\u001b[1;32m    141\u001b[0m \u001b[0;34m\u001b[0m\u001b[0m\n",
            "\u001b[0;32m/usr/local/lib/python3.7/dist-packages/torch/nn/modules/module.py\u001b[0m in \u001b[0;36m_call_impl\u001b[0;34m(self, *input, **kwargs)\u001b[0m\n\u001b[1;32m   1049\u001b[0m         if not (self._backward_hooks or self._forward_hooks or self._forward_pre_hooks or _global_backward_hooks\n\u001b[1;32m   1050\u001b[0m                 or _global_forward_hooks or _global_forward_pre_hooks):\n\u001b[0;32m-> 1051\u001b[0;31m             \u001b[0;32mreturn\u001b[0m \u001b[0mforward_call\u001b[0m\u001b[0;34m(\u001b[0m\u001b[0;34m*\u001b[0m\u001b[0minput\u001b[0m\u001b[0;34m,\u001b[0m \u001b[0;34m**\u001b[0m\u001b[0mkwargs\u001b[0m\u001b[0;34m)\u001b[0m\u001b[0;34m\u001b[0m\u001b[0;34m\u001b[0m\u001b[0m\n\u001b[0m\u001b[1;32m   1052\u001b[0m         \u001b[0;31m# Do not call functions when jit is used\u001b[0m\u001b[0;34m\u001b[0m\u001b[0;34m\u001b[0m\u001b[0;34m\u001b[0m\u001b[0m\n\u001b[1;32m   1053\u001b[0m         \u001b[0mfull_backward_hooks\u001b[0m\u001b[0;34m,\u001b[0m \u001b[0mnon_full_backward_hooks\u001b[0m \u001b[0;34m=\u001b[0m \u001b[0;34m[\u001b[0m\u001b[0;34m]\u001b[0m\u001b[0;34m,\u001b[0m \u001b[0;34m[\u001b[0m\u001b[0;34m]\u001b[0m\u001b[0;34m\u001b[0m\u001b[0;34m\u001b[0m\u001b[0m\n",
            "\u001b[0;32m/usr/local/lib/python3.7/dist-packages/torch/nn/modules/linear.py\u001b[0m in \u001b[0;36mforward\u001b[0;34m(self, input)\u001b[0m\n\u001b[1;32m     94\u001b[0m \u001b[0;34m\u001b[0m\u001b[0m\n\u001b[1;32m     95\u001b[0m     \u001b[0;32mdef\u001b[0m \u001b[0mforward\u001b[0m\u001b[0;34m(\u001b[0m\u001b[0mself\u001b[0m\u001b[0;34m,\u001b[0m \u001b[0minput\u001b[0m\u001b[0;34m:\u001b[0m \u001b[0mTensor\u001b[0m\u001b[0;34m)\u001b[0m \u001b[0;34m->\u001b[0m \u001b[0mTensor\u001b[0m\u001b[0;34m:\u001b[0m\u001b[0;34m\u001b[0m\u001b[0;34m\u001b[0m\u001b[0m\n\u001b[0;32m---> 96\u001b[0;31m         \u001b[0;32mreturn\u001b[0m \u001b[0mF\u001b[0m\u001b[0;34m.\u001b[0m\u001b[0mlinear\u001b[0m\u001b[0;34m(\u001b[0m\u001b[0minput\u001b[0m\u001b[0;34m,\u001b[0m \u001b[0mself\u001b[0m\u001b[0;34m.\u001b[0m\u001b[0mweight\u001b[0m\u001b[0;34m,\u001b[0m \u001b[0mself\u001b[0m\u001b[0;34m.\u001b[0m\u001b[0mbias\u001b[0m\u001b[0;34m)\u001b[0m\u001b[0;34m\u001b[0m\u001b[0;34m\u001b[0m\u001b[0m\n\u001b[0m\u001b[1;32m     97\u001b[0m \u001b[0;34m\u001b[0m\u001b[0m\n\u001b[1;32m     98\u001b[0m     \u001b[0;32mdef\u001b[0m \u001b[0mextra_repr\u001b[0m\u001b[0;34m(\u001b[0m\u001b[0mself\u001b[0m\u001b[0;34m)\u001b[0m \u001b[0;34m->\u001b[0m \u001b[0mstr\u001b[0m\u001b[0;34m:\u001b[0m\u001b[0;34m\u001b[0m\u001b[0;34m\u001b[0m\u001b[0m\n",
            "\u001b[0;32m/usr/local/lib/python3.7/dist-packages/torch/nn/functional.py\u001b[0m in \u001b[0;36mlinear\u001b[0;34m(input, weight, bias)\u001b[0m\n\u001b[1;32m   1845\u001b[0m     \u001b[0;32mif\u001b[0m \u001b[0mhas_torch_function_variadic\u001b[0m\u001b[0;34m(\u001b[0m\u001b[0minput\u001b[0m\u001b[0;34m,\u001b[0m \u001b[0mweight\u001b[0m\u001b[0;34m)\u001b[0m\u001b[0;34m:\u001b[0m\u001b[0;34m\u001b[0m\u001b[0;34m\u001b[0m\u001b[0m\n\u001b[1;32m   1846\u001b[0m         \u001b[0;32mreturn\u001b[0m \u001b[0mhandle_torch_function\u001b[0m\u001b[0;34m(\u001b[0m\u001b[0mlinear\u001b[0m\u001b[0;34m,\u001b[0m \u001b[0;34m(\u001b[0m\u001b[0minput\u001b[0m\u001b[0;34m,\u001b[0m \u001b[0mweight\u001b[0m\u001b[0;34m)\u001b[0m\u001b[0;34m,\u001b[0m \u001b[0minput\u001b[0m\u001b[0;34m,\u001b[0m \u001b[0mweight\u001b[0m\u001b[0;34m,\u001b[0m \u001b[0mbias\u001b[0m\u001b[0;34m=\u001b[0m\u001b[0mbias\u001b[0m\u001b[0;34m)\u001b[0m\u001b[0;34m\u001b[0m\u001b[0;34m\u001b[0m\u001b[0m\n\u001b[0;32m-> 1847\u001b[0;31m     \u001b[0;32mreturn\u001b[0m \u001b[0mtorch\u001b[0m\u001b[0;34m.\u001b[0m\u001b[0m_C\u001b[0m\u001b[0;34m.\u001b[0m\u001b[0m_nn\u001b[0m\u001b[0;34m.\u001b[0m\u001b[0mlinear\u001b[0m\u001b[0;34m(\u001b[0m\u001b[0minput\u001b[0m\u001b[0;34m,\u001b[0m \u001b[0mweight\u001b[0m\u001b[0;34m,\u001b[0m \u001b[0mbias\u001b[0m\u001b[0;34m)\u001b[0m\u001b[0;34m\u001b[0m\u001b[0;34m\u001b[0m\u001b[0m\n\u001b[0m\u001b[1;32m   1848\u001b[0m \u001b[0;34m\u001b[0m\u001b[0m\n\u001b[1;32m   1849\u001b[0m \u001b[0;34m\u001b[0m\u001b[0m\n",
            "\u001b[0;31mRuntimeError\u001b[0m: mat1 and mat2 shapes cannot be multiplied (64x9 and 12x8)"
          ]
        }
      ]
    }
  ]
}