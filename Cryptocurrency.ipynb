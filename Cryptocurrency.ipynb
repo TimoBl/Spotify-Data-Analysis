{
  "nbformat": 4,
  "nbformat_minor": 0,
  "metadata": {
    "colab": {
      "name": "Cryptocurrency.ipynb",
      "provenance": [],
      "collapsed_sections": []
    },
    "kernelspec": {
      "name": "python3",
      "display_name": "Python 3"
    },
    "language_info": {
      "name": "python"
    }
  },
  "cells": [
    {
      "cell_type": "markdown",
      "metadata": {
        "id": "f4GQ91pNsvUu"
      },
      "source": [
        "# A cryptocurrency from scratch"
      ]
    },
    {
      "cell_type": "markdown",
      "metadata": {
        "id": "8AWM5xo62car"
      },
      "source": [
        "When Bitcoin exploded in december 2017, it blew all expectations of what a cryptocurrency could do. It became a mainstream currency and an investement hype, which led to the creation of thousands of new cryptocurrencies. What I find so fascinating is that it's a purely mathematical system, which relies on the fact that we can't solve these problems."
      ]
    },
    {
      "cell_type": "markdown",
      "metadata": {
        "id": "c-luGcSws0H_"
      },
      "source": [
        "I will try to build to build a cryptocurrency from scratch. I'll use the [fantastic blog post](http://karpathy.github.io/2021/06/21/blockchain/) of Andrej Karpathy as a guide."
      ]
    },
    {
      "cell_type": "markdown",
      "metadata": {
        "id": "6pzI1o3dtxFD"
      },
      "source": [
        "## 1. Generating a crypto identity"
      ]
    },
    {
      "cell_type": "markdown",
      "metadata": {
        "id": "Xy1kGLkLt3X8"
      },
      "source": [
        "We want to be able to generate a crypto identity, so a public and a private key we can use for encryption. In Andrej Karpathy's blog post, he uses elliptic curve cryptography, which are used in bitcoins. I don't know much about the topic, so I decided to use the more standard method of RSA. "
      ]
    },
    {
      "cell_type": "markdown",
      "metadata": {
        "id": "h6Y1QGGKwoNQ"
      },
      "source": [
        "The keys are generated in 5 steps:"
      ]
    },
    {
      "cell_type": "markdown",
      "metadata": {
        "id": "z2lQUoBk2BGw"
      },
      "source": [
        "### 1. create two large prime number p and q"
      ]
    },
    {
      "cell_type": "markdown",
      "metadata": {
        "id": "9k9H1seR9Ocb"
      },
      "source": [
        "We will generate two large number randomly, and then test if they are prime with the Miller-Rabin test. We will need the following functions:"
      ]
    },
    {
      "cell_type": "code",
      "metadata": {
        "id": "mb9gLlat_ATE"
      },
      "source": [
        "def millerRabinTest(n, k):\n",
        "    def isComposite(a, d, n):\n",
        "        x = pow(a, d, n)\n",
        "        \n",
        "        if x == 1 or x == n-1: \n",
        "          return False\n",
        "        \n",
        "        for r in range(1, s):\n",
        "            x = pow(x, 2, n)\n",
        "            if x == 1: \n",
        "              return True\n",
        "            if x == n - 1: \n",
        "              return False\n",
        "        \n",
        "        return True\n",
        "    \n",
        "    s = 0\n",
        "    d = n - 1\n",
        "\n",
        "    while d % 2 == 0:\n",
        "      s += 1\n",
        "      d //= 2\n",
        "\n",
        "    for i in range(k):\n",
        "        a = random.randint(2, n - 1)\n",
        "        if isComposite(a, d, n):\n",
        "          return False\n",
        "    \n",
        "    return True"
      ],
      "execution_count": 1,
      "outputs": []
    },
    {
      "cell_type": "markdown",
      "metadata": {
        "id": "WGg3LwTx6_nO"
      },
      "source": [
        "The Miller-Rabin test can't exactly say if a number is prime. It will insted try to find a witness for the composition of the canditate n. If we find one, we can certainly say that the number is not prime, if not it may be prime. The more time we run the algorithm (using the constant k), the higher the probability it's prime."
      ]
    },
    {
      "cell_type": "code",
      "metadata": {
        "id": "29l051RhGE9D"
      },
      "source": [
        "import random\n",
        "\n",
        "def generatePrime(keyLength, k):\n",
        "  while True:\n",
        "    n = random.randint(2**(keyLength - 1), 2**(keyLength))\n",
        "    t = millerRabinTest(n, k)\n",
        "    \n",
        "    if t:\n",
        "      return n"
      ],
      "execution_count": 2,
      "outputs": []
    },
    {
      "cell_type": "code",
      "metadata": {
        "colab": {
          "base_uri": "https://localhost:8080/"
        },
        "id": "PIFtMPLO6t_G",
        "outputId": "1e3f3104-68f8-4a2a-9630-a06290019d63"
      },
      "source": [
        "print(\"prime: \" + str(generatePrime(25, 20)))"
      ],
      "execution_count": 3,
      "outputs": [
        {
          "output_type": "stream",
          "text": [
            "prime: 17241127\n"
          ],
          "name": "stdout"
        }
      ]
    },
    {
      "cell_type": "markdown",
      "metadata": {
        "id": "OycqQbPWGtnR"
      },
      "source": [
        "### 2. calculate the modulus of the public and private key"
      ]
    },
    {
      "cell_type": "markdown",
      "metadata": {
        "id": "r2JnAEcj8lmz"
      },
      "source": [
        "The modulus n is the product of the public key p and the private key q, and will be released as part of a public key."
      ]
    },
    {
      "cell_type": "code",
      "metadata": {
        "id": "mO8x68cqG6nG"
      },
      "source": [
        "def product(p, q):\n",
        "  n = p * q\n",
        "  return n"
      ],
      "execution_count": 4,
      "outputs": []
    },
    {
      "cell_type": "code",
      "metadata": {
        "colab": {
          "base_uri": "https://localhost:8080/"
        },
        "id": "p0dJwNhZ9Ono",
        "outputId": "6d623762-ab7f-472d-8942-5ac1e10f02fb"
      },
      "source": [
        "p = generatePrime(25, 20)\n",
        "q = generatePrime(25, 20)\n",
        "n = product(p, q)\n",
        "print(\"p = \" + str(p))\n",
        "print(\"q = \" + str(q))\n",
        "print(\"n = \" + str(n))"
      ],
      "execution_count": 5,
      "outputs": [
        {
          "output_type": "stream",
          "text": [
            "p = 18745351\n",
            "q = 28902611\n",
            "n = 541789588011461\n"
          ],
          "name": "stdout"
        }
      ]
    },
    {
      "cell_type": "markdown",
      "metadata": {
        "id": "S_XuZrzkHEA4"
      },
      "source": [
        "### 3. calculate the Carmichael function"
      ]
    },
    {
      "cell_type": "markdown",
      "metadata": {
        "id": "nWUSPGom9cyH"
      },
      "source": [
        "The Camichael function associates to every positive integer n, a positive integer m, defined as the smallest integer such that \n",
        "\n",
        "\\begin{equation*} a^m ≡ 1   (mod\\ n) \\end{equation*}\n",
        "\n",
        "We can find it by using the least common multiplier, which intern we can find with the greatest common multiplier."
      ]
    },
    {
      "cell_type": "code",
      "metadata": {
        "id": "qKDT9a73spNQ"
      },
      "source": [
        "#greatest common multiplier\n",
        "\n",
        "def gcd(a, b):\n",
        "  while b != 0:\n",
        "    a, b = b, a%b\n",
        "  return a"
      ],
      "execution_count": 6,
      "outputs": []
    },
    {
      "cell_type": "code",
      "metadata": {
        "id": "FvzWQDHV2VD6"
      },
      "source": [
        "#least common multiplier\n",
        "\n",
        "def lcm(a, b):\n",
        "  return int(abs(a * b) / gcd(a, b))"
      ],
      "execution_count": 7,
      "outputs": []
    },
    {
      "cell_type": "code",
      "metadata": {
        "id": "cz5zhtCA2Nhu"
      },
      "source": [
        "# carmicheal totient function\n",
        "\n",
        "def carmichael(p, q):\n",
        "  l = lcm(p - 1, q - 1)\n",
        "  return l"
      ],
      "execution_count": 8,
      "outputs": []
    },
    {
      "cell_type": "code",
      "metadata": {
        "colab": {
          "base_uri": "https://localhost:8080/"
        },
        "id": "5Ir15qmY_hTf",
        "outputId": "e89d9e32-b1d0-4aff-b2cc-e15c93f4167d"
      },
      "source": [
        "l = carmichael(p, q)\n",
        "print(\"Carmichael(\" + str(p) + \", \" + str( q) + \") = \" + str(l))"
      ],
      "execution_count": 9,
      "outputs": [
        {
          "output_type": "stream",
          "text": [
            "Carmichael(18745351, 28902611) = 54178954036350\n"
          ],
          "name": "stdout"
        }
      ]
    },
    {
      "cell_type": "markdown",
      "metadata": {
        "id": "i3q6-p3cIMcl"
      },
      "source": [
        "### 4. find a number e, coprime to l"
      ]
    },
    {
      "cell_type": "markdown",
      "metadata": {
        "id": "XrvmVbPE_0fV"
      },
      "source": [
        "We want to find an integer e, such that 1 < e < l and gcd(e, l) = 1."
      ]
    },
    {
      "cell_type": "code",
      "metadata": {
        "id": "vAXjDyWrIPGk"
      },
      "source": [
        "def coprime(l):\n",
        "  while (True):\n",
        "    e = random.randint(2, l)\n",
        "    if (gcd(e, l) == 1):\n",
        "       return e"
      ],
      "execution_count": 10,
      "outputs": []
    },
    {
      "cell_type": "code",
      "metadata": {
        "colab": {
          "base_uri": "https://localhost:8080/"
        },
        "id": "HK3kWLmAAlNw",
        "outputId": "609a2d00-ed2a-4dbb-c14b-347817dd56be"
      },
      "source": [
        "e = coprime(l)\n",
        "print(\"e = \" + str(e) + \" is coprime to l = \" + str(l))"
      ],
      "execution_count": 11,
      "outputs": [
        {
          "output_type": "stream",
          "text": [
            "e = 50770380771443 is coprime to l = 54178954036350\n"
          ],
          "name": "stdout"
        }
      ]
    },
    {
      "cell_type": "markdown",
      "metadata": {
        "id": "hGvbPAusJVjE"
      },
      "source": [
        "### 5. calculate d, the modular inverse of e"
      ]
    },
    {
      "cell_type": "markdown",
      "metadata": {
        "id": "IRKgbXTdCWnv"
      },
      "source": [
        "To find the modular inverse of e, we can use the extended euclidean algorithm. Which find s and t, such that \\begin{equation*} a * s + b * t = gcd(a, b) \\end{equation*}"
      ]
    },
    {
      "cell_type": "code",
      "metadata": {
        "id": "pw1dtoQY0gmV"
      },
      "source": [
        "#extended euclidian algorithm\n",
        "\n",
        "def extendedEuclid(a, b):\n",
        "  (s, ns) = (1, 0)\n",
        "  (t, nt) = (0, 1)\n",
        "\n",
        "  while b != 0:\n",
        "    q = (a // b)\n",
        "    (a, b) = (b, a - q * b)\n",
        "    (s, ns) = (ns, s - q * ns)\n",
        "    (t, nt) = (nt, t - q * nt)\n",
        "  \n",
        "  return a, s, t"
      ],
      "execution_count": 12,
      "outputs": []
    },
    {
      "cell_type": "code",
      "metadata": {
        "id": "szPO7tfn6HBd"
      },
      "source": [
        "# the modular inverse\n",
        "\n",
        "def modularInverse(e, l):\n",
        "  gcd, s, t = extendedEuclid(e, l)\n",
        "\n",
        "  return (s % l)"
      ],
      "execution_count": 13,
      "outputs": []
    },
    {
      "cell_type": "code",
      "metadata": {
        "colab": {
          "base_uri": "https://localhost:8080/"
        },
        "id": "l2IarrxQCvSz",
        "outputId": "fabc0cf7-6c2f-4b08-91dc-2c0549021b3a"
      },
      "source": [
        "d = modularInverse(e, l)\n",
        "print(\"d = \" + str(d) + \" is the modular inverse of e = \" + str(e) + \" mod l = \" + str(l))\n",
        "print(\"because d*e mod l = \" + str((d * e) % l))"
      ],
      "execution_count": 14,
      "outputs": [
        {
          "output_type": "stream",
          "text": [
            "d = 28851178150007 is the modular inverse of e = 50770380771443 mod l = 54178954036350\n",
            "because d*e mod l = 1\n"
          ],
          "name": "stdout"
        }
      ]
    },
    {
      "cell_type": "markdown",
      "metadata": {
        "id": "pkNz_zB8_JAm"
      },
      "source": [
        "### generating the key pair"
      ]
    },
    {
      "cell_type": "markdown",
      "metadata": {
        "id": "roa7oSsJJbxW"
      },
      "source": [
        "The pairs are composed of (n, e) for the public key and (n, d) for the secret key."
      ]
    },
    {
      "cell_type": "code",
      "metadata": {
        "id": "wGNGqQ9nJfDS"
      },
      "source": [
        "def getKeyPair(keyLength, strength):\n",
        "  p = generatePrime(keyLength, strength)\n",
        "  q = generatePrime(keyLength, strength)\n",
        "\n",
        "  n = product(p, q)\n",
        "  l = carmichael(p, q)\n",
        "\n",
        "  e = coprime(l)\n",
        "  publicKey = (n, e)\n",
        "  \n",
        "  d = modularInverse(e, l)\n",
        "  secretKey = (n, d)\n",
        "\n",
        "  return publicKey, secretKey"
      ],
      "execution_count": 15,
      "outputs": []
    },
    {
      "cell_type": "markdown",
      "metadata": {
        "id": "8U9xUxTA42Xr"
      },
      "source": [
        "Let's generate a key pair and use it for encryption."
      ]
    },
    {
      "cell_type": "code",
      "metadata": {
        "colab": {
          "base_uri": "https://localhost:8080/"
        },
        "id": "NZnkaXKi3LCg",
        "outputId": "eb5acd60-14af-4ec8-e5cf-9e19fe9a6025"
      },
      "source": [
        "import math\n",
        "\n",
        "pk, sk = getKeyPair(25, 20)\n",
        "\n",
        "print(\"public key\", pk)\n",
        "print(\"secret key\", sk)\n",
        "print(\"\")\n",
        "\n",
        "def encrypt(msg, pk):\n",
        "  (n, e) = pk\n",
        "  cyf = pow(m, e, n)\n",
        "  return cyf\n",
        "\n",
        "def decrypt(cyf, sk):\n",
        "  (n, d) = sk\n",
        "  m = pow(cyf, d, n)\n",
        "  return m\n",
        "\n",
        "m = 30412312233\n",
        "\n",
        "c = encrypt(m, pk)\n",
        "nm = decrypt(c, sk)\n",
        "\n",
        "print(str(m) + \" -> encrypt -> \" + str(c) + \" -> decrypt -> \" + str(nm))"
      ],
      "execution_count": 40,
      "outputs": [
        {
          "output_type": "stream",
          "text": [
            "public key (557429653189553, 285536948875)\n",
            "secret key (557429653189553, 78387856531)\n",
            "\n",
            "30412312233 -> encrypt -> 101551008830620 -> decrypt -> 30412312233\n"
          ],
          "name": "stdout"
        }
      ]
    },
    {
      "cell_type": "markdown",
      "metadata": {
        "id": "CS8rqzGY-rkU"
      },
      "source": [
        "We have some constraint in this system. RSA can't encrypt messages which are bigger than the modulus n. Python seems also to have problem with larger expontentials, so we are limited to size 25... A better way would be to use crypto libraries, but the target is not create a real cryptocurrency, but look at the math behind."
      ]
    },
    {
      "cell_type": "markdown",
      "metadata": {
        "id": "hNxg1G-8GlEz"
      },
      "source": [
        "## 2. create the hashing methods"
      ]
    },
    {
      "cell_type": "markdown",
      "metadata": {
        "id": "RuJ50gOvYtQO"
      },
      "source": [
        "Central to cryptocurrencies are cryptographic hash function, they are one way functions who map an input to a fixed size output. Bitcoin uses SHA256 and Andrej Karpathy goes on to implemented it from scratch. It's basically just a bunch of binary operation. "
      ]
    },
    {
      "cell_type": "markdown",
      "metadata": {
        "id": "5xNr956gck5h"
      },
      "source": [
        "We will use djb2, a simpler hash algorithm, which still works very good."
      ]
    },
    {
      "cell_type": "code",
      "metadata": {
        "id": "7hHMwfZkGkQQ",
        "colab": {
          "base_uri": "https://localhost:8080/"
        },
        "outputId": "b9369937-5a4c-4d54-e6b6-31a8cbde9fc1"
      },
      "source": [
        "def string2bits(s):\n",
        "    return \"\".join([bin(ord(x))[2:].zfill(8) for x in s])\n",
        "\n",
        "def bits2string(s):\n",
        "    return ''.join([chr(int(x, 2)) for x in s.split(4)])\n",
        "\n",
        "def hash(st):\n",
        "  print(type(st))\n",
        "  st = str.encode(st)\n",
        "  for s in st:\n",
        "    s = (s << 5)\n",
        "  return st\n",
        "\n",
        "hash(\"hello world\")"
      ],
      "execution_count": 80,
      "outputs": [
        {
          "output_type": "stream",
          "text": [
            "<class 'str'>\n"
          ],
          "name": "stdout"
        },
        {
          "output_type": "execute_result",
          "data": {
            "text/plain": [
              "b'hello world'"
            ]
          },
          "metadata": {
            "tags": []
          },
          "execution_count": 80
        }
      ]
    },
    {
      "cell_type": "code",
      "metadata": {
        "colab": {
          "base_uri": "https://localhost:8080/"
        },
        "id": "tHIhsvn4cw0l",
        "outputId": "0e9c4a26-ddad-4b6d-df88-aab96e7344eb"
      },
      "source": [
        ""
      ],
      "execution_count": 75,
      "outputs": [
        {
          "output_type": "stream",
          "text": [
            "<class 'str'>\n"
          ],
          "name": "stdout"
        },
        {
          "output_type": "execute_result",
          "data": {
            "text/plain": [
              "b'hello world'"
            ]
          },
          "metadata": {
            "tags": []
          },
          "execution_count": 75
        }
      ]
    }
  ]
}