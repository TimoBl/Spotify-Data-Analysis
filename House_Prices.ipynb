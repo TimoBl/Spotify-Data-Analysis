{
  "nbformat": 4,
  "nbformat_minor": 5,
  "metadata": {
    "kernelspec": {
      "display_name": "Python 3",
      "language": "python",
      "name": "python3"
    },
    "language_info": {
      "codemirror_mode": {
        "name": "ipython",
        "version": 3
      },
      "file_extension": ".py",
      "mimetype": "text/x-python",
      "name": "python",
      "nbconvert_exporter": "python",
      "pygments_lexer": "ipython3",
      "version": "3.7.10"
    },
    "papermill": {
      "default_parameters": {},
      "duration": 73.086541,
      "end_time": "2021-04-26T16:32:11.802556",
      "environment_variables": {},
      "exception": null,
      "input_path": "__notebook__.ipynb",
      "output_path": "__notebook__.ipynb",
      "parameters": {},
      "start_time": "2021-04-26T16:30:58.716015",
      "version": "2.3.3"
    },
    "colab": {
      "name": "House Prices.ipynb",
      "provenance": [],
      "collapsed_sections": [
        "mvhuj_1SsqXR"
      ]
    }
  },
  "cells": [
    {
      "cell_type": "markdown",
      "metadata": {
        "id": "s_pvcepHXSvn"
      },
      "source": [
        "# Loading the data"
      ],
      "id": "s_pvcepHXSvn"
    },
    {
      "cell_type": "code",
      "metadata": {
        "colab": {
          "resources": {
            "http://localhost:8080/nbextensions/google.colab/files.js": {
              "data": "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",
              "ok": true,
              "headers": [
                [
                  "content-type",
                  "application/javascript"
                ]
              ],
              "status": 200,
              "status_text": ""
            }
          },
          "base_uri": "https://localhost:8080/",
          "height": 82
        },
        "id": "0shX5SemQsj-",
        "outputId": "d7545ea1-740d-448e-91cc-357f4a6d186b"
      },
      "source": [
        "from google.colab import files\n",
        "\n",
        "uploaded = files.upload()\n",
        "\n",
        "for fn in uploaded.keys():\n",
        "  print('User uploaded file \"{name}\" with length {length} bytes'.format(\n",
        "      name=fn, length=len(uploaded[fn])))\n",
        "  \n",
        "# Then move kaggle.json into the folder where the API expects to find it.\n",
        "!mkdir -p ~/.kaggle/ && mv kaggle.json ~/.kaggle/ && chmod 600 ~/.kaggle/kaggle.json"
      ],
      "id": "0shX5SemQsj-",
      "execution_count": 1,
      "outputs": [
        {
          "output_type": "display_data",
          "data": {
            "text/html": [
              "\n",
              "     <input type=\"file\" id=\"files-1d06180b-f9bc-4bb9-a4a7-4936fcaf43cf\" name=\"files[]\" multiple disabled\n",
              "        style=\"border:none\" />\n",
              "     <output id=\"result-1d06180b-f9bc-4bb9-a4a7-4936fcaf43cf\">\n",
              "      Upload widget is only available when the cell has been executed in the\n",
              "      current browser session. Please rerun this cell to enable.\n",
              "      </output>\n",
              "      <script src=\"/nbextensions/google.colab/files.js\"></script> "
            ],
            "text/plain": [
              "<IPython.core.display.HTML object>"
            ]
          },
          "metadata": {
            "tags": []
          }
        },
        {
          "output_type": "stream",
          "text": [
            "Saving kaggle.json to kaggle.json\n",
            "User uploaded file \"kaggle.json\" with length 68 bytes\n"
          ],
          "name": "stdout"
        }
      ]
    },
    {
      "cell_type": "code",
      "metadata": {
        "id": "SYIo_Db7XW0I",
        "colab": {
          "base_uri": "https://localhost:8080/"
        },
        "outputId": "081ac3d6-456c-4a31-8fab-f7e991ab52d3"
      },
      "source": [
        "!kaggle competitions download -c house-prices-advanced-regression-techniques"
      ],
      "id": "SYIo_Db7XW0I",
      "execution_count": 2,
      "outputs": [
        {
          "output_type": "stream",
          "text": [
            "Warning: Looks like you're using an outdated API Version, please consider updating (server 1.5.12 / client 1.5.4)\n",
            "Downloading test.csv to /content\n",
            "  0% 0.00/441k [00:00<?, ?B/s]\n",
            "100% 441k/441k [00:00<00:00, 65.9MB/s]\n",
            "Downloading train.csv to /content\n",
            "  0% 0.00/450k [00:00<?, ?B/s]\n",
            "100% 450k/450k [00:00<00:00, 103MB/s]\n",
            "Downloading sample_submission.csv to /content\n",
            "  0% 0.00/31.2k [00:00<?, ?B/s]\n",
            "100% 31.2k/31.2k [00:00<00:00, 30.7MB/s]\n",
            "Downloading data_description.txt to /content\n",
            "  0% 0.00/13.1k [00:00<?, ?B/s]\n",
            "100% 13.1k/13.1k [00:00<00:00, 13.1MB/s]\n"
          ],
          "name": "stdout"
        }
      ]
    },
    {
      "cell_type": "markdown",
      "metadata": {
        "id": "jCf29bsgXa0u"
      },
      "source": [
        "# Preparing the data"
      ],
      "id": "jCf29bsgXa0u"
    },
    {
      "cell_type": "code",
      "metadata": {
        "execution": {
          "iopub.execute_input": "2021-04-26T16:31:09.538059Z",
          "iopub.status.busy": "2021-04-26T16:31:09.537337Z",
          "iopub.status.idle": "2021-04-26T16:31:09.540701Z",
          "shell.execute_reply": "2021-04-26T16:31:09.540047Z"
        },
        "papermill": {
          "duration": 0.027418,
          "end_time": "2021-04-26T16:31:09.540847",
          "exception": false,
          "start_time": "2021-04-26T16:31:09.513429",
          "status": "completed"
        },
        "tags": [],
        "id": "characteristic-albert",
        "colab": {
          "base_uri": "https://localhost:8080/"
        },
        "outputId": "478193c9-2e5d-4fb9-a709-2dd806cd9fad"
      },
      "source": [
        "import pandas as pd\n",
        "import numpy as np\n",
        "\n",
        "train_data = pd.read_csv('train.csv')\n",
        "print(train_data)"
      ],
      "id": "characteristic-albert",
      "execution_count": 3,
      "outputs": [
        {
          "output_type": "stream",
          "text": [
            "        Id  MSSubClass MSZoning  ...  SaleType  SaleCondition SalePrice\n",
            "0        1          60       RL  ...        WD         Normal    208500\n",
            "1        2          20       RL  ...        WD         Normal    181500\n",
            "2        3          60       RL  ...        WD         Normal    223500\n",
            "3        4          70       RL  ...        WD        Abnorml    140000\n",
            "4        5          60       RL  ...        WD         Normal    250000\n",
            "...    ...         ...      ...  ...       ...            ...       ...\n",
            "1455  1456          60       RL  ...        WD         Normal    175000\n",
            "1456  1457          20       RL  ...        WD         Normal    210000\n",
            "1457  1458          70       RL  ...        WD         Normal    266500\n",
            "1458  1459          20       RL  ...        WD         Normal    142125\n",
            "1459  1460          20       RL  ...        WD         Normal    147500\n",
            "\n",
            "[1460 rows x 81 columns]\n"
          ],
          "name": "stdout"
        }
      ]
    },
    {
      "cell_type": "markdown",
      "metadata": {
        "id": "kDf0-E6KruGN"
      },
      "source": [
        "We need a way to handle the columns with class data."
      ],
      "id": "kDf0-E6KruGN"
    },
    {
      "cell_type": "code",
      "metadata": {
        "id": "j6fLq4ERh2cu"
      },
      "source": [
        "class_names = [\"MSZoning\", \"Street\", \"Alley\", \"LotShape\", \n",
        "                \"LandContour\", \"Utilities\", \"LotConfig\", \"LandSlope\", \n",
        "                \"Neighborhood\", \"Condition1\", \"Condition2\", \"BldgType\", \n",
        "                \"HouseStyle\", \"RoofStyle\", \"RoofMatl\", \"Exterior1st\", \n",
        "                \"Exterior2nd\", \"ExterQual\", \"ExterCond\", \"Foundation\", \n",
        "                \"BsmtQual\", \"BsmtCond\", \"BsmtExposure\", \"BsmtFinType1\", \n",
        "                \"BsmtFinType2\", \"Heating\", \"CentralAir\", \"Electrical\", \n",
        "                \"KitchenQual\", \"Functional\", \"FireplaceQu\", \"GarageType\", \n",
        "                \"GarageFinish\", \"GarageQual\", \"GarageCond\", \"PavedDrive\", \n",
        "                \"PoolQC\", \"Fence\", \"MiscFeature\", \"SaleType\", \"SaleCondition\"]"
      ],
      "id": "j6fLq4ERh2cu",
      "execution_count": 4,
      "outputs": []
    },
    {
      "cell_type": "markdown",
      "metadata": {
        "id": "edGbdzZPr4Vb"
      },
      "source": [
        "We'll search for each of those columns every possible value, so we assign a value to each. The 0 will be the null value."
      ],
      "id": "edGbdzZPr4Vb"
    },
    {
      "cell_type": "code",
      "metadata": {
        "id": "p_SBCojrdh5j"
      },
      "source": [
        "def classify(name, data):\n",
        "  #get different classes\n",
        "  group = []\n",
        "  for i in range(len(data)):\n",
        "    val = data.iloc[i][name]\n",
        "    if val not in group and not pd.isnull(val):\n",
        "      group.append(val)\n",
        "\n",
        "  #create dictionary\n",
        "  dicti = {}\n",
        "  for i in range(len(group)):\n",
        "    dicti[group[i]] = (i + 1) #null value is 0\n",
        "\n",
        "  return dicti"
      ],
      "id": "p_SBCojrdh5j",
      "execution_count": 5,
      "outputs": []
    },
    {
      "cell_type": "markdown",
      "metadata": {
        "id": "-VJ8C44osJSr"
      },
      "source": [
        "We build a dictionary so we can reference it when cleaning the data."
      ],
      "id": "-VJ8C44osJSr"
    },
    {
      "cell_type": "code",
      "metadata": {
        "id": "QmFV0jT3wTjW"
      },
      "source": [
        "def getReferences(names, data):\n",
        "  references = []\n",
        "  for name in names:\n",
        "    references.append(classify(name, data))\n",
        "  return references"
      ],
      "id": "QmFV0jT3wTjW",
      "execution_count": 6,
      "outputs": []
    },
    {
      "cell_type": "code",
      "metadata": {
        "colab": {
          "base_uri": "https://localhost:8080/"
        },
        "id": "iFvHLG38lmz1",
        "outputId": "a88e0063-3aa7-47a3-8d1b-c445f285db56"
      },
      "source": [
        "class_ref = getReferences(class_names, train_data)\n",
        "\n",
        "for ref in class_ref:\n",
        "  print(ref)"
      ],
      "id": "iFvHLG38lmz1",
      "execution_count": 7,
      "outputs": [
        {
          "output_type": "stream",
          "text": [
            "{'RL': 1, 'RM': 2, 'C (all)': 3, 'FV': 4, 'RH': 5}\n",
            "{'Pave': 1, 'Grvl': 2}\n",
            "{'Grvl': 1, 'Pave': 2}\n",
            "{'Reg': 1, 'IR1': 2, 'IR2': 3, 'IR3': 4}\n",
            "{'Lvl': 1, 'Bnk': 2, 'Low': 3, 'HLS': 4}\n",
            "{'AllPub': 1, 'NoSeWa': 2}\n",
            "{'Inside': 1, 'FR2': 2, 'Corner': 3, 'CulDSac': 4, 'FR3': 5}\n",
            "{'Gtl': 1, 'Mod': 2, 'Sev': 3}\n",
            "{'CollgCr': 1, 'Veenker': 2, 'Crawfor': 3, 'NoRidge': 4, 'Mitchel': 5, 'Somerst': 6, 'NWAmes': 7, 'OldTown': 8, 'BrkSide': 9, 'Sawyer': 10, 'NridgHt': 11, 'NAmes': 12, 'SawyerW': 13, 'IDOTRR': 14, 'MeadowV': 15, 'Edwards': 16, 'Timber': 17, 'Gilbert': 18, 'StoneBr': 19, 'ClearCr': 20, 'NPkVill': 21, 'Blmngtn': 22, 'BrDale': 23, 'SWISU': 24, 'Blueste': 25}\n",
            "{'Norm': 1, 'Feedr': 2, 'PosN': 3, 'Artery': 4, 'RRAe': 5, 'RRNn': 6, 'RRAn': 7, 'PosA': 8, 'RRNe': 9}\n",
            "{'Norm': 1, 'Artery': 2, 'RRNn': 3, 'Feedr': 4, 'PosN': 5, 'PosA': 6, 'RRAn': 7, 'RRAe': 8}\n",
            "{'1Fam': 1, '2fmCon': 2, 'Duplex': 3, 'TwnhsE': 4, 'Twnhs': 5}\n",
            "{'2Story': 1, '1Story': 2, '1.5Fin': 3, '1.5Unf': 4, 'SFoyer': 5, 'SLvl': 6, '2.5Unf': 7, '2.5Fin': 8}\n",
            "{'Gable': 1, 'Hip': 2, 'Gambrel': 3, 'Mansard': 4, 'Flat': 5, 'Shed': 6}\n",
            "{'CompShg': 1, 'WdShngl': 2, 'Metal': 3, 'WdShake': 4, 'Membran': 5, 'Tar&Grv': 6, 'Roll': 7, 'ClyTile': 8}\n",
            "{'VinylSd': 1, 'MetalSd': 2, 'Wd Sdng': 3, 'HdBoard': 4, 'BrkFace': 5, 'WdShing': 6, 'CemntBd': 7, 'Plywood': 8, 'AsbShng': 9, 'Stucco': 10, 'BrkComm': 11, 'AsphShn': 12, 'Stone': 13, 'ImStucc': 14, 'CBlock': 15}\n",
            "{'VinylSd': 1, 'MetalSd': 2, 'Wd Shng': 3, 'HdBoard': 4, 'Plywood': 5, 'Wd Sdng': 6, 'CmentBd': 7, 'BrkFace': 8, 'Stucco': 9, 'AsbShng': 10, 'Brk Cmn': 11, 'ImStucc': 12, 'AsphShn': 13, 'Stone': 14, 'Other': 15, 'CBlock': 16}\n",
            "{'Gd': 1, 'TA': 2, 'Ex': 3, 'Fa': 4}\n",
            "{'TA': 1, 'Gd': 2, 'Fa': 3, 'Po': 4, 'Ex': 5}\n",
            "{'PConc': 1, 'CBlock': 2, 'BrkTil': 3, 'Wood': 4, 'Slab': 5, 'Stone': 6}\n",
            "{'Gd': 1, 'TA': 2, 'Ex': 3, 'Fa': 4}\n",
            "{'TA': 1, 'Gd': 2, 'Fa': 3, 'Po': 4}\n",
            "{'No': 1, 'Gd': 2, 'Mn': 3, 'Av': 4}\n",
            "{'GLQ': 1, 'ALQ': 2, 'Unf': 3, 'Rec': 4, 'BLQ': 5, 'LwQ': 6}\n",
            "{'Unf': 1, 'BLQ': 2, 'ALQ': 3, 'Rec': 4, 'LwQ': 5, 'GLQ': 6}\n",
            "{'GasA': 1, 'GasW': 2, 'Grav': 3, 'Wall': 4, 'OthW': 5, 'Floor': 6}\n",
            "{'Y': 1, 'N': 2}\n",
            "{'SBrkr': 1, 'FuseF': 2, 'FuseA': 3, 'FuseP': 4, 'Mix': 5}\n",
            "{'Gd': 1, 'TA': 2, 'Ex': 3, 'Fa': 4}\n",
            "{'Typ': 1, 'Min1': 2, 'Maj1': 3, 'Min2': 4, 'Mod': 5, 'Maj2': 6, 'Sev': 7}\n",
            "{'TA': 1, 'Gd': 2, 'Fa': 3, 'Ex': 4, 'Po': 5}\n",
            "{'Attchd': 1, 'Detchd': 2, 'BuiltIn': 3, 'CarPort': 4, 'Basment': 5, '2Types': 6}\n",
            "{'RFn': 1, 'Unf': 2, 'Fin': 3}\n",
            "{'TA': 1, 'Fa': 2, 'Gd': 3, 'Ex': 4, 'Po': 5}\n",
            "{'TA': 1, 'Fa': 2, 'Gd': 3, 'Po': 4, 'Ex': 5}\n",
            "{'Y': 1, 'N': 2, 'P': 3}\n",
            "{'Ex': 1, 'Fa': 2, 'Gd': 3}\n",
            "{'MnPrv': 1, 'GdWo': 2, 'GdPrv': 3, 'MnWw': 4}\n",
            "{'Shed': 1, 'Gar2': 2, 'Othr': 3, 'TenC': 4}\n",
            "{'WD': 1, 'New': 2, 'COD': 3, 'ConLD': 4, 'ConLI': 5, 'CWD': 6, 'ConLw': 7, 'Con': 8, 'Oth': 9}\n",
            "{'Normal': 1, 'Abnorml': 2, 'Partial': 3, 'AdjLand': 4, 'Alloca': 5, 'Family': 6}\n"
          ],
          "name": "stdout"
        }
      ]
    },
    {
      "cell_type": "markdown",
      "metadata": {
        "id": "laQa4u6QsPvc"
      },
      "source": [
        "Now remain the columns which have values."
      ],
      "id": "laQa4u6QsPvc"
    },
    {
      "cell_type": "code",
      "metadata": {
        "id": "jRfr436kt8BM"
      },
      "source": [
        "number_names = [\"MSSubClass\", \"LotFrontage\", \"LotArea\", \"OverallQual\", \n",
        "                \"OverallCond\", \"YearBuilt\", \"YearRemodAdd\", \"MasVnrArea\", \n",
        "                \"BsmtFinSF1\", \"BsmtFinSF2\", \"BsmtUnfSF\", \"TotalBsmtSF\", \n",
        "                \"1stFlrSF\", \"2ndFlrSF\", \"LowQualFinSF\", \"GrLivArea\", \n",
        "                \"BsmtFullBath\", \"BsmtHalfBath\", \"FullBath\", \"HalfBath\", \n",
        "                \"BedroomAbvGr\", \"KitchenAbvGr\", \"TotRmsAbvGrd\", \"Fireplaces\", \n",
        "                \"GarageYrBlt\", \"GarageCars\", \"GarageArea\", \"WoodDeckSF\", \n",
        "                \"OpenPorchSF\", \"EnclosedPorch\", \"3SsnPorch\", \"ScreenPorch\", \n",
        "                \"PoolArea\", \"MiscVal\", \"MoSold\", \"YrSold\"]"
      ],
      "id": "jRfr436kt8BM",
      "execution_count": 8,
      "outputs": []
    },
    {
      "cell_type": "markdown",
      "metadata": {
        "id": "mJF_UccWsW-I"
      },
      "source": [
        "So we can create a dataset object which will clean the data and prepare it."
      ],
      "id": "mJF_UccWsW-I"
    },
    {
      "cell_type": "code",
      "metadata": {
        "id": "K3B_uCnoYJ2C"
      },
      "source": [
        "import torch\n",
        "from torch.utils.data import Dataset, DataLoader\n",
        "\n",
        "class HousingDataset(Dataset):\n",
        "  def __init__(self, data, mode, class_ref, class_names, number_names):\n",
        "    self.data = data\n",
        "    self.mode = mode # train or test\n",
        "    self.class_ref = class_ref\n",
        "    self.class_names = class_names\n",
        "    self.number_names = number_names\n",
        "  \n",
        "  def __getitem__(self, index):\n",
        "    item = self.data.iloc[index]\n",
        "    input = []\n",
        "\n",
        "    # id of the item\n",
        "    id = item[\"Id\"]\n",
        "\n",
        "    # every class \n",
        "    for i in range(len(self.class_names)):\n",
        "      name = self.class_names[i]\n",
        "      if not pd.isnull(item[name]):\n",
        "        c = class_ref[i][item[name]]\n",
        "        input.append(c)\n",
        "      else:\n",
        "        input.append(0)\n",
        "    \n",
        "    # every number\n",
        "    for name in self.number_names:\n",
        "      value = item[name]\n",
        "      value = 0 if pd.isnull(value) else float(value)\n",
        "      input.append(value)\n",
        "\n",
        "    if self.mode == \"train\":\n",
        "      # the target\n",
        "      label = item[\"SalePrice\"]\n",
        "      return torch.tensor(input, dtype=torch.float), torch.tensor(label, dtype=torch.float), torch.tensor(id, dtype=torch.int)\n",
        "    else:\n",
        "      return torch.tensor(input, dtype=torch.float), torch.tensor(id, dtype=torch.int)\n",
        "    \n",
        "  def __len__(self):\n",
        "    return len(self.data)"
      ],
      "id": "K3B_uCnoYJ2C",
      "execution_count": 43,
      "outputs": []
    },
    {
      "cell_type": "markdown",
      "metadata": {
        "id": "eUWl5xaWU_Fi"
      },
      "source": [
        "Let's take training data and split it, into training dataset (70%) and into a validation dataset (30%), and create a loader object."
      ],
      "id": "eUWl5xaWU_Fi"
    },
    {
      "cell_type": "code",
      "metadata": {
        "colab": {
          "base_uri": "https://localhost:8080/"
        },
        "id": "YfE0atsO1thL",
        "outputId": "a115c5b1-4c20-402b-fa12-5a3dea96079a"
      },
      "source": [
        "dataset = HousingDataset(train_data, \"train\", class_ref, class_names, number_names)\n",
        "\n",
        "train_size = int(0.7 * len(dataset))\n",
        "valid_size = len(dataset) - train_size\n",
        "train_dataset, valid_dataset = torch.utils.data.random_split(dataset, [train_size, valid_size])\n",
        "\n",
        "train_loader = DataLoader(train_dataset, batch_size=64, shuffle=True)\n",
        "valid_loader = DataLoader(valid_dataset, batch_size=64)\n",
        "\n",
        "print(\"Training dataset size: \" + str(train_size))\n",
        "print(\"Validation dataset size: \" + str(valid_size))"
      ],
      "id": "YfE0atsO1thL",
      "execution_count": 44,
      "outputs": [
        {
          "output_type": "stream",
          "text": [
            "Training dataset size: 1021\n",
            "Validation dataset size: 439\n"
          ],
          "name": "stdout"
        }
      ]
    },
    {
      "cell_type": "markdown",
      "metadata": {
        "id": "3buetcOPoD65"
      },
      "source": [
        "# Prepare the model"
      ],
      "id": "3buetcOPoD65"
    },
    {
      "cell_type": "markdown",
      "metadata": {
        "papermill": {
          "duration": 0.014937,
          "end_time": "2021-04-26T16:31:12.630729",
          "exception": false,
          "start_time": "2021-04-26T16:31:12.615792",
          "status": "completed"
        },
        "tags": [],
        "id": "supported-genealogy"
      },
      "source": [
        "Let us define a simple linear model."
      ],
      "id": "supported-genealogy"
    },
    {
      "cell_type": "code",
      "metadata": {
        "execution": {
          "iopub.execute_input": "2021-04-26T16:31:12.671854Z",
          "iopub.status.busy": "2021-04-26T16:31:12.670802Z",
          "iopub.status.idle": "2021-04-26T16:31:12.674050Z",
          "shell.execute_reply": "2021-04-26T16:31:12.673514Z"
        },
        "papermill": {
          "duration": 0.028832,
          "end_time": "2021-04-26T16:31:12.674193",
          "exception": false,
          "start_time": "2021-04-26T16:31:12.645361",
          "status": "completed"
        },
        "tags": [],
        "id": "italic-pathology"
      },
      "source": [
        "import torch.nn as nn\n",
        "import torch.nn.functional as F\n",
        "\n",
        "device = torch.device(\"cuda\" if torch.cuda.is_available() else \"cpu\")\n",
        "\n",
        "class HousingModel(nn.Module):\n",
        "    def __init__(self, n_input):\n",
        "        super(HousingModel, self).__init__()\n",
        "        self.l1 = nn.Linear(n_input, 40)\n",
        "        self.l2 = nn.Linear(40, 40)\n",
        "        self.l3 = nn.Linear(40, 20)\n",
        "        self.l4 = nn.Linear(20, 1)\n",
        "\n",
        "        self.drop = nn.Dropout(0.2)\n",
        "        \n",
        "    def forward(self, x):\n",
        "        x = self.drop(x)\n",
        "        x = F.relu(self.l1(x))\n",
        "        x = self.drop(x)\n",
        "        x = F.relu(self.l2(x))\n",
        "        x = self.drop(x)\n",
        "        x = F.relu(self.l3(x))\n",
        "        x = F.relu(self.l4(x))\n",
        "        return x"
      ],
      "id": "italic-pathology",
      "execution_count": 127,
      "outputs": []
    },
    {
      "cell_type": "markdown",
      "metadata": {
        "id": "KGBnwVwlx1IC"
      },
      "source": [
        "Define the model, loss function and optimizer"
      ],
      "id": "KGBnwVwlx1IC"
    },
    {
      "cell_type": "code",
      "metadata": {
        "id": "ou2hIY7xrh3e"
      },
      "source": [
        "# root mean square error loss\n",
        "class RMSE(torch.nn.Module):\n",
        "    def __init__(self):\n",
        "        super(RMSE,self).__init__()\n",
        "\n",
        "    def forward(self, x, y):\n",
        "        criterion = nn.MSELoss()\n",
        "        loss = torch.sqrt(criterion(x, y))\n",
        "        return loss"
      ],
      "id": "ou2hIY7xrh3e",
      "execution_count": 12,
      "outputs": []
    },
    {
      "cell_type": "code",
      "metadata": {
        "execution": {
          "iopub.execute_input": "2021-04-26T16:31:12.714286Z",
          "iopub.status.busy": "2021-04-26T16:31:12.713553Z",
          "iopub.status.idle": "2021-04-26T16:31:12.735803Z",
          "shell.execute_reply": "2021-04-26T16:31:12.736342Z"
        },
        "papermill": {
          "duration": 0.047805,
          "end_time": "2021-04-26T16:31:12.736554",
          "exception": false,
          "start_time": "2021-04-26T16:31:12.688749",
          "status": "completed"
        },
        "tags": [],
        "id": "pretty-mozambique"
      },
      "source": [
        "model = HousingModel(77).to(device)\n",
        "model.loss_function = RMSE()\n",
        "model.optimizer = torch.optim.Adam(model.parameters(), lr=0.001)"
      ],
      "id": "pretty-mozambique",
      "execution_count": 128,
      "outputs": []
    },
    {
      "cell_type": "markdown",
      "metadata": {
        "id": "0rVTyE1Esi79"
      },
      "source": [
        "# Train the model"
      ],
      "id": "0rVTyE1Esi79"
    },
    {
      "cell_type": "markdown",
      "metadata": {
        "id": "LQOAuR2_Vv4S"
      },
      "source": [
        "Let's create the code to train the model."
      ],
      "id": "LQOAuR2_Vv4S"
    },
    {
      "cell_type": "code",
      "metadata": {
        "execution": {
          "iopub.execute_input": "2021-04-26T16:31:12.997582Z",
          "iopub.status.busy": "2021-04-26T16:31:12.996813Z",
          "iopub.status.idle": "2021-04-26T16:31:52.181656Z",
          "shell.execute_reply": "2021-04-26T16:31:52.180758Z"
        },
        "papermill": {
          "duration": 39.208887,
          "end_time": "2021-04-26T16:31:52.181841",
          "exception": false,
          "start_time": "2021-04-26T16:31:12.972954",
          "status": "completed"
        },
        "tags": [],
        "id": "exact-yacht"
      },
      "source": [
        "def train(model, loader):\n",
        "  model.train()\n",
        "  sum_loss = 0\n",
        "\n",
        "  for i, (inputs, labels, ids) in enumerate(loader):\n",
        "    # inputs\n",
        "    inputs, labels = inputs.to(device), labels.to(device)\n",
        "\n",
        "    # forwards\n",
        "    model.optimizer.zero_grad()\n",
        "    outputs = model(inputs)\n",
        "\n",
        "    # backwards\n",
        "    loss = model.loss_function(outputs, labels.unsqueeze(1))\n",
        "    loss.backward()\n",
        "    model.optimizer.step()\n",
        "\n",
        "    # stats\n",
        "    sum_loss += loss.item()\n",
        "\n",
        "  avg_loss = sum_loss / len(loader)\n",
        "  return avg_loss"
      ],
      "id": "exact-yacht",
      "execution_count": 37,
      "outputs": []
    },
    {
      "cell_type": "markdown",
      "metadata": {
        "id": "ctZBDThQW9HR"
      },
      "source": [
        "And the code to test on the validation set."
      ],
      "id": "ctZBDThQW9HR"
    },
    {
      "cell_type": "code",
      "metadata": {
        "id": "4LbWvXN1XHVO"
      },
      "source": [
        "def eval(model, loader):\n",
        "  model.eval()\n",
        "  sum_loss = 0\n",
        "  results = []\n",
        "  targets = []\n",
        "\n",
        "  for i, (inputs, labels, ids) in enumerate(loader):\n",
        "    # inputs\n",
        "    inputs, labels = inputs.to(device), labels.to(device)\n",
        "\n",
        "    # forwards\n",
        "    outputs = model(inputs)\n",
        "\n",
        "    # the loss\n",
        "    sum_loss += model.loss_function(outputs, labels.unsqueeze(1))\n",
        "\n",
        "    # get the results and corresponding target\n",
        "    results.extend(outputs.squeeze(1).detach().numpy())\n",
        "    targets.extend(labels.detach().numpy())\n",
        "\n",
        "  avg_loss = sum_loss / len(loader)\n",
        "  return avg_loss, results, targets"
      ],
      "id": "4LbWvXN1XHVO",
      "execution_count": 38,
      "outputs": []
    },
    {
      "cell_type": "markdown",
      "metadata": {
        "id": "HlLSFjCPXJHI"
      },
      "source": [
        "So we can create the code which will improve the model over multiple iterations. At each epoch we train the model and then test the model on the validation set."
      ],
      "id": "HlLSFjCPXJHI"
    },
    {
      "cell_type": "code",
      "metadata": {
        "id": "3mdGM58TWkKS"
      },
      "source": [
        "def improve(model, train_loader, valid_loader, n_epoch):\n",
        "  train_losses = []\n",
        "  valid_losses = []\n",
        "\n",
        "  for epoch in range(n_epoch):\n",
        "    print(\"Epoch \" + str(epoch))\n",
        "\n",
        "    # train\n",
        "    train_loss = train(model, train_loader)\n",
        "    train_losses.append(train_loss)\n",
        "\n",
        "    # validate\n",
        "    valid_loss, results, targets = eval(model, valid_loader)\n",
        "    valid_losses.append(valid_loss)\n",
        "\n",
        "  return train_losses, valid_losses"
      ],
      "id": "3mdGM58TWkKS",
      "execution_count": 39,
      "outputs": []
    },
    {
      "cell_type": "markdown",
      "metadata": {
        "id": "yh9f5BtZVztJ"
      },
      "source": [
        "And train the model for 50 epochs."
      ],
      "id": "yh9f5BtZVztJ"
    },
    {
      "cell_type": "code",
      "metadata": {
        "colab": {
          "base_uri": "https://localhost:8080/"
        },
        "id": "yd26acTKvLbT",
        "outputId": "f77e0edc-da94-417b-b25e-9ecc07aa9394"
      },
      "source": [
        "train_losses, valid_losses = improve(model, train_loader, valid_loader, 50)"
      ],
      "id": "yd26acTKvLbT",
      "execution_count": 129,
      "outputs": [
        {
          "output_type": "stream",
          "text": [
            "Epoch 0\n",
            "Epoch 1\n",
            "Epoch 2\n",
            "Epoch 3\n",
            "Epoch 4\n",
            "Epoch 5\n",
            "Epoch 6\n",
            "Epoch 7\n",
            "Epoch 8\n",
            "Epoch 9\n",
            "Epoch 10\n",
            "Epoch 11\n",
            "Epoch 12\n",
            "Epoch 13\n",
            "Epoch 14\n",
            "Epoch 15\n",
            "Epoch 16\n",
            "Epoch 17\n",
            "Epoch 18\n",
            "Epoch 19\n",
            "Epoch 20\n",
            "Epoch 21\n",
            "Epoch 22\n",
            "Epoch 23\n",
            "Epoch 24\n",
            "Epoch 25\n",
            "Epoch 26\n",
            "Epoch 27\n",
            "Epoch 28\n",
            "Epoch 29\n",
            "Epoch 30\n",
            "Epoch 31\n",
            "Epoch 32\n",
            "Epoch 33\n",
            "Epoch 34\n",
            "Epoch 35\n",
            "Epoch 36\n",
            "Epoch 37\n",
            "Epoch 38\n",
            "Epoch 39\n",
            "Epoch 40\n",
            "Epoch 41\n",
            "Epoch 42\n",
            "Epoch 43\n",
            "Epoch 44\n",
            "Epoch 45\n",
            "Epoch 46\n",
            "Epoch 47\n",
            "Epoch 48\n",
            "Epoch 49\n"
          ],
          "name": "stdout"
        }
      ]
    },
    {
      "cell_type": "markdown",
      "metadata": {
        "id": "F9gkuYbwV6PJ"
      },
      "source": [
        "If we plot the loss over time we get:"
      ],
      "id": "F9gkuYbwV6PJ"
    },
    {
      "cell_type": "code",
      "metadata": {
        "colab": {
          "base_uri": "https://localhost:8080/",
          "height": 312
        },
        "id": "tQpuMqJkvPT4",
        "outputId": "a91e872a-a272-4e2d-d389-11ab85219b96"
      },
      "source": [
        "import matplotlib.pyplot as plt\n",
        "\n",
        "fig, ax = plt.subplots()\n",
        "ax.plot(train_losses, label=\"Training\")\n",
        "ax.plot(valid_losses, label=\"Validation\")\n",
        "ax.set_title(\"Losses\")\n",
        "ax.legend()\n",
        "\n",
        "print(\"Minimum training loss: \" + str(min(train_losses)))\n",
        "print(\"Minimum validation loss: \" + str(min(valid_losses)))"
      ],
      "id": "tQpuMqJkvPT4",
      "execution_count": 130,
      "outputs": [
        {
          "output_type": "stream",
          "text": [
            "Minimum training loss: 55832.17529296875\n",
            "Minimum validation loss: tensor(48403.1836, grad_fn=<DivBackward0>)\n"
          ],
          "name": "stdout"
        },
        {
          "output_type": "display_data",
          "data": {
            "image/png": "[encoded data removed]",
            "text/plain": [
              "<Figure size 432x288 with 1 Axes>"
            ]
          },
          "metadata": {
            "tags": [],
            "needs_background": "light"
          }
        }
      ]
    },
    {
      "cell_type": "markdown",
      "metadata": {
        "id": "e1GksSiurJd2"
      },
      "source": [
        "# A look at the predictions"
      ],
      "id": "e1GksSiurJd2"
    },
    {
      "cell_type": "markdown",
      "metadata": {
        "id": "8LxcTNDZgp6W"
      },
      "source": [
        "I have intentionally added to the evaluation code the output of the model and the corresponding label so we can visualize it. The idea is to put the target as x values, and the result as y values."
      ],
      "id": "8LxcTNDZgp6W"
    },
    {
      "cell_type": "code",
      "metadata": {
        "colab": {
          "base_uri": "https://localhost:8080/",
          "height": 622
        },
        "id": "oKbiXxjeERFJ",
        "outputId": "954c63aa-726c-41de-9229-a2f56215bbe3"
      },
      "source": [
        "fig, ax = plt.subplots(1, 2, figsize=(20, 10))\n",
        "lim = [0, 500000]\n",
        "plt.setp(ax, xlim=lim, ylim=lim)\n",
        "\n",
        "# training\n",
        "train_loss, train_results, train_targets = eval(model, train_loader)\n",
        "ax[0].plot(lim, lim), ax[0].set_title(\"Training\")\n",
        "ax[0].scatter(train_targets, train_results)\n",
        "\n",
        "# validation\n",
        "valid_loss, valid_results, valid_targets = eval(model, valid_loader)\n",
        "ax[1].plot(lim, lim), ax[1].set_title(\"Validation\")\n",
        "ax[1].scatter(valid_targets, valid_results)"
      ],
      "id": "oKbiXxjeERFJ",
      "execution_count": 131,
      "outputs": [
        {
          "output_type": "execute_result",
          "data": {
            "text/plain": [
              "<matplotlib.collections.PathCollection at 0x7f019b088a50>"
            ]
          },
          "metadata": {
            "tags": []
          },
          "execution_count": 131
        },
        {
          "output_type": "display_data",
          "data": {
            "image/png": "[encoded data removed]",
            "text/plain": [
              "<Figure size 1440x720 with 2 Axes>"
            ]
          },
          "metadata": {
            "tags": [],
            "needs_background": "light"
          }
        }
      ]
    },
    {
      "cell_type": "markdown",
      "metadata": {
        "id": "-FBftqcwhQyD"
      },
      "source": [
        "The ideal model would put every point on the diagonal, because then the result would correspond to the target. We see here the model tends to overestimate the price over the cheaper appartements, and underestimate the prive of the expensive appartements. But why is that the case?"
      ],
      "id": "-FBftqcwhQyD"
    },
    {
      "cell_type": "markdown",
      "metadata": {
        "id": "0oL6Nfo2y_yi"
      },
      "source": [
        "# Improving the model further"
      ],
      "id": "0oL6Nfo2y_yi"
    },
    {
      "cell_type": "markdown",
      "metadata": {
        "id": "Wf9mCq17h2QG"
      },
      "source": [
        "The problem is we have already a bias in the data, there are way more cheaper appartement than more expensive appartement. So the loss function tries to minimize the overall loss, which means the lower appartement have a higher importance."
      ],
      "id": "Wf9mCq17h2QG"
    },
    {
      "cell_type": "code",
      "metadata": {
        "colab": {
          "base_uri": "https://localhost:8080/",
          "height": 461
        },
        "id": "PWlmCvgDiYIU",
        "outputId": "ed4eb636-8022-4c12-f1e7-638a04a4bf84"
      },
      "source": [
        "sale_price = train_data[\"SalePrice\"]\n",
        "plt.hist(sale_price, bins=30)"
      ],
      "id": "PWlmCvgDiYIU",
      "execution_count": 132,
      "outputs": [
        {
          "output_type": "execute_result",
          "data": {
            "text/plain": [
              "(array([ 11.,  38.,  99., 232., 273., 218., 176., 104.,  93.,  58.,  42.,\n",
              "         35.,  24.,  10.,  17.,   8.,   7.,   4.,   2.,   1.,   1.,   2.,\n",
              "          1.,   0.,   2.,   0.,   0.,   0.,   0.,   2.]),\n",
              " array([ 34900.        ,  58903.33333333,  82906.66666667, 106910.        ,\n",
              "        130913.33333333, 154916.66666667, 178920.        , 202923.33333333,\n",
              "        226926.66666667, 250930.        , 274933.33333333, 298936.66666667,\n",
              "        322940.        , 346943.33333333, 370946.66666667, 394950.        ,\n",
              "        418953.33333333, 442956.66666667, 466960.        , 490963.33333333,\n",
              "        514966.66666667, 538970.        , 562973.33333333, 586976.66666667,\n",
              "        610980.        , 634983.33333333, 658986.66666667, 682990.        ,\n",
              "        706993.33333333, 730996.66666667, 755000.        ]),\n",
              " <a list of 30 Patch objects>)"
            ]
          },
          "metadata": {
            "tags": []
          },
          "execution_count": 132
        },
        {
          "output_type": "display_data",
          "data": {
            "image/png": "[encoded data removed]",
            "text/plain": [
              "<Figure size 432x288 with 1 Axes>"
            ]
          },
          "metadata": {
            "tags": [],
            "needs_background": "light"
          }
        }
      ]
    },
    {
      "cell_type": "markdown",
      "metadata": {
        "id": "mvhuj_1SsqXR"
      },
      "source": [
        "# Upload to Kaggle"
      ],
      "id": "mvhuj_1SsqXR"
    },
    {
      "cell_type": "code",
      "metadata": {
        "id": "FPkGbxN9rK9y"
      },
      "source": [
        "test_data = pd.read_csv('test.csv')\n",
        "test_dataset = HousingDataset(test_data, \"test\", class_ref, class_names, number_names)\n",
        "test_loader = DataLoader(test_dataset, batch_size=64, shuffle=False)"
      ],
      "id": "FPkGbxN9rK9y",
      "execution_count": 45,
      "outputs": []
    },
    {
      "cell_type": "markdown",
      "metadata": {
        "papermill": {
          "duration": 0.023418,
          "end_time": "2021-04-26T16:31:53.797572",
          "exception": false,
          "start_time": "2021-04-26T16:31:53.774154",
          "status": "completed"
        },
        "tags": [],
        "id": "arctic-technician"
      },
      "source": [
        "We expect similar accuracy on the leaderboard. However, the overfitting is clear. Let us prepare the submission file."
      ],
      "id": "arctic-technician"
    },
    {
      "cell_type": "code",
      "metadata": {
        "execution": {
          "iopub.execute_input": "2021-04-26T16:31:53.852596Z",
          "iopub.status.busy": "2021-04-26T16:31:53.851229Z",
          "iopub.status.idle": "2021-04-26T16:32:10.016014Z",
          "shell.execute_reply": "2021-04-26T16:32:10.015304Z"
        },
        "papermill": {
          "duration": 16.195719,
          "end_time": "2021-04-26T16:32:10.016208",
          "exception": false,
          "start_time": "2021-04-26T16:31:53.820489",
          "status": "completed"
        },
        "tags": [],
        "id": "positive-jesus"
      },
      "source": [
        "def get_submission(model, test_loader):\n",
        "  ids = []\n",
        "  predictions = []\n",
        "\n",
        "  with torch.no_grad():\n",
        "      for inputs, id in test_loader:\n",
        "          outputs = model(inputs)\n",
        "          ids.extend(id.detach().numpy())\n",
        "          predictions.extend(outputs.squeeze(1).detach().numpy())\n",
        "\n",
        "  results = pd.DataFrame({\n",
        "    \"Id\": ids,\n",
        "    \"SalePrice\": predictions\n",
        "    })\n",
        "  \n",
        "  return results"
      ],
      "id": "positive-jesus",
      "execution_count": 106,
      "outputs": []
    },
    {
      "cell_type": "code",
      "metadata": {
        "execution": {
          "iopub.execute_input": "2021-04-26T16:32:10.124730Z",
          "iopub.status.busy": "2021-04-26T16:32:10.123990Z",
          "iopub.status.idle": "2021-04-26T16:32:10.174521Z",
          "shell.execute_reply": "2021-04-26T16:32:10.175071Z"
        },
        "papermill": {
          "duration": 0.078572,
          "end_time": "2021-04-26T16:32:10.175270",
          "exception": false,
          "start_time": "2021-04-26T16:32:10.096698",
          "status": "completed"
        },
        "tags": [],
        "id": "round-representation"
      },
      "source": [
        "results = get_submission(model, test_loader)\n",
        "results.to_csv(\"housing_submission.csv\", index=False)"
      ],
      "id": "round-representation",
      "execution_count": 107,
      "outputs": []
    }
  ]
}